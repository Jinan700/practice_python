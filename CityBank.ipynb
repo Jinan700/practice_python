{
 "cells": [
  {
   "cell_type": "code",
   "execution_count": 17,
   "id": "982b6f81",
   "metadata": {},
   "outputs": [],
   "source": [
    "class Bank:\n",
    "    def __init__(self):\n",
    "        self.accounts = {}\n",
    "    \n",
    "    def create_account(self, account_id,password, account_name, balance = 0):\n",
    "        self.accounts[account_id] = {\n",
    "            \"name\": account_name,\n",
    "            \"password\": password,\n",
    "            \"balance\": balance\n",
    "        }\n",
    "        \n",
    "    def authenticate(self, account_id, password):\n",
    "        account = self.accounts.get(account_id)\n",
    "        if account and account['password'] == password:\n",
    "            return True\n",
    "        return False   \n",
    "    \n",
    "    def display_balance(self, account_id):\n",
    "        account = self.accounts.get(account_id)\n",
    "        if account:\n",
    "            print(f\"Your current balance is: {account['balance']}\")\n",
    "    \n",
    "    def deposit_money(self, account_id, amount):\n",
    "        account = self.accounts.get(account_id)\n",
    "        if account:\n",
    "            account['balance'] += amount\n",
    "            print(f\"Deposit successful. Your new balance is: {account['balance']}\")\n",
    "            \n",
    "    def withdraw_money(self, account_id, amount):\n",
    "        account = self.accounts.get(account_id)\n",
    "        if account and amount <= account['balance']:\n",
    "            account['balance'] -= amount\n",
    "            print(f\"Withdrawal successful. Your new balance is: {account['balance']}\")\n",
    "        else:\n",
    "            print(f\"Sorry! You can not withdraw more balance than you have in your account. Your current balance is {account['balance']}\")\n",
    "    \n",
    "    def run(self):\n",
    "        print(f\"Welcome to City Bank\")\n",
    "        account_id = input(\"Enter your account id: \")\n",
    "        account_id = int(account_id)\n",
    "        password = input(\"Enter your password: \")\n",
    "        \n",
    "        if self.authenticate(account_id, password):\n",
    "            print('Verified Account')\n",
    "            print(f\"Account Name: {self.accounts[account_id]['name']}\")\n",
    "            \n",
    "            prompt = \"\\nLogged in successful. Choose a option:\"\n",
    "            prompt += \"\\n 1. Check Balance\"\n",
    "            prompt += \"\\n 2. Deposit Money\"\n",
    "            prompt += \"\\n 3. Withdraw Money\"\n",
    "            prompt += \"\\n 4. Exit\"\n",
    "            \n",
    "            while True:\n",
    "                option = int(input(f\"{prompt}\\n\"))\n",
    "                \n",
    "                if option == 1:\n",
    "                    self.display_balance(account_id)\n",
    "                elif option == 2:\n",
    "                    amount = int(input(\"Enter the deposit amount: \"))\n",
    "                    self.deposit_money(account_id, amount)\n",
    "                elif option == 3:\n",
    "                    amount = int(input(\"Enter the withdrawal amount: \"))\n",
    "                    self.withdraw_money(account_id, amount)\n",
    "                elif option == 4:\n",
    "                    break\n",
    "                else:\n",
    "                    print(f'Incorrect option. Option must be between 1 and 4')\n",
    "        else:\n",
    "            print(\"Authentication failed. Wrong account_id or password. Please try again.\")\n"
   ]
  },
  {
   "cell_type": "code",
   "execution_count": 19,
   "id": "5e640bbb",
   "metadata": {},
   "outputs": [
    {
     "data": {
      "text/plain": [
       "{}"
      ]
     },
     "execution_count": 19,
     "metadata": {},
     "output_type": "execute_result"
    }
   ],
   "source": [
    "city_bank = Bank()\n",
    "city_bank.accounts"
   ]
  },
  {
   "cell_type": "code",
   "execution_count": 21,
   "id": "2f813bc2",
   "metadata": {},
   "outputs": [],
   "source": [
    "city_bank.create_account(2, \"xyz2\", \"saehd\", 4050)\n",
    "city_bank.create_account(3, \"xyz3\", \"Asaehd\", 4050)\n",
    "city_bank.create_account(4, \"xyz4\", \"Bsaehd\", 9660)\n",
    "city_bank.create_account(5, \"xyz5\", \"Csaehd\", 3333)\n"
   ]
  },
  {
   "cell_type": "code",
   "execution_count": 23,
   "id": "de8eaa65",
   "metadata": {},
   "outputs": [
    {
     "data": {
      "text/plain": [
       "{2: {'name': 'saehd', 'password': 'xyz2', 'balance': 4050},\n",
       " 3: {'name': 'Asaehd', 'password': 'xyz3', 'balance': 4050},\n",
       " 4: {'name': 'Bsaehd', 'password': 'xyz4', 'balance': 9660},\n",
       " 5: {'name': 'Csaehd', 'password': 'xyz5', 'balance': 3333}}"
      ]
     },
     "execution_count": 23,
     "metadata": {},
     "output_type": "execute_result"
    }
   ],
   "source": [
    "city_bank.accounts"
   ]
  },
  {
   "cell_type": "code",
   "execution_count": null,
   "id": "089b3080-3e58-497c-8cb4-bedc142d6e64",
   "metadata": {},
   "outputs": [],
   "source": []
  },
  {
   "cell_type": "code",
   "execution_count": 26,
   "id": "baa8bf89-a967-4fdf-b8ba-dc6cad6839e4",
   "metadata": {},
   "outputs": [
    {
     "data": {
      "text/plain": [
       "{}"
      ]
     },
     "execution_count": 26,
     "metadata": {},
     "output_type": "execute_result"
    }
   ],
   "source": [
    "brac_bank = Bank()\n",
    "brac_bank.accounts"
   ]
  },
  {
   "cell_type": "code",
   "execution_count": 28,
   "id": "2ed81859-8df2-4846-bfd5-9f786c95105f",
   "metadata": {},
   "outputs": [],
   "source": [
    "brac_bank.create_account(2, \"xyz2\", \"saehd\", 4050)\n"
   ]
  },
  {
   "cell_type": "code",
   "execution_count": 30,
   "id": "aa54e217-276a-4ec2-96e1-456fc2caf310",
   "metadata": {},
   "outputs": [
    {
     "data": {
      "text/plain": [
       "{2: {'name': 'saehd', 'password': 'xyz2', 'balance': 4050}}"
      ]
     },
     "execution_count": 30,
     "metadata": {},
     "output_type": "execute_result"
    }
   ],
   "source": [
    "brac_bank.accounts"
   ]
  },
  {
   "cell_type": "code",
   "execution_count": 32,
   "id": "4872b096-966a-4049-9f0a-15f42455b204",
   "metadata": {},
   "outputs": [
    {
     "data": {
      "text/plain": [
       "{2: {'name': 'saehd', 'password': 'xyz2', 'balance': 4050},\n",
       " 3: {'name': 'Asaehd', 'password': 'xyz3', 'balance': 4050},\n",
       " 4: {'name': 'Bsaehd', 'password': 'xyz4', 'balance': 9660},\n",
       " 5: {'name': 'Csaehd', 'password': 'xyz5', 'balance': 3333}}"
      ]
     },
     "execution_count": 32,
     "metadata": {},
     "output_type": "execute_result"
    }
   ],
   "source": [
    "city_bank.accounts"
   ]
  },
  {
   "cell_type": "code",
   "execution_count": null,
   "id": "4bee06dc-d4e0-41b7-805e-0df38b4f6697",
   "metadata": {},
   "outputs": [],
   "source": []
  },
  {
   "cell_type": "code",
   "execution_count": 35,
   "id": "12c6cd27",
   "metadata": {},
   "outputs": [
    {
     "name": "stdout",
     "output_type": "stream",
     "text": [
      "Deposit successful. Your new balance is: 4550\n"
     ]
    }
   ],
   "source": [
    "city_bank.deposit_money(2, 500)"
   ]
  },
  {
   "cell_type": "code",
   "execution_count": 37,
   "id": "fd7c0afd",
   "metadata": {},
   "outputs": [
    {
     "name": "stdout",
     "output_type": "stream",
     "text": [
      "Your current balance is: 4550\n"
     ]
    }
   ],
   "source": [
    "city_bank.display_balance(2)"
   ]
  },
  {
   "cell_type": "code",
   "execution_count": 39,
   "id": "91542b79",
   "metadata": {},
   "outputs": [
    {
     "name": "stdout",
     "output_type": "stream",
     "text": [
      "Sorry! You can not withdraw more balance than you have in your account. Your current balance is 4550\n"
     ]
    }
   ],
   "source": [
    "city_bank.withdraw_money(2, 6000)"
   ]
  },
  {
   "cell_type": "code",
   "execution_count": 41,
   "id": "984f775d",
   "metadata": {
    "scrolled": true
   },
   "outputs": [
    {
     "name": "stdout",
     "output_type": "stream",
     "text": [
      "Withdrawal successful. Your new balance is: 3950\n"
     ]
    }
   ],
   "source": [
    "city_bank.withdraw_money(2, 600)"
   ]
  },
  {
   "cell_type": "code",
   "execution_count": null,
   "id": "a8d4cc68",
   "metadata": {},
   "outputs": [],
   "source": []
  },
  {
   "cell_type": "code",
   "execution_count": 46,
   "id": "d974b423",
   "metadata": {},
   "outputs": [
    {
     "name": "stdout",
     "output_type": "stream",
     "text": [
      "Welcome to City Bank\n"
     ]
    },
    {
     "name": "stdin",
     "output_type": "stream",
     "text": [
      "Enter your account id:  45\n",
      "Enter your password:  re\n"
     ]
    },
    {
     "name": "stdout",
     "output_type": "stream",
     "text": [
      "Authentication failed. Wrong account_id or password. Please try again.\n"
     ]
    }
   ],
   "source": [
    "city_bank.run()"
   ]
  },
  {
   "cell_type": "code",
   "execution_count": 48,
   "id": "947a04eb",
   "metadata": {},
   "outputs": [
    {
     "name": "stdout",
     "output_type": "stream",
     "text": [
      "Welcome to City Bank\n"
     ]
    },
    {
     "name": "stdin",
     "output_type": "stream",
     "text": [
      "Enter your account id:  2\n",
      "Enter your password:  xyz2\n"
     ]
    },
    {
     "name": "stdout",
     "output_type": "stream",
     "text": [
      "Verified Account\n",
      "Account Name: saehd\n"
     ]
    },
    {
     "name": "stdin",
     "output_type": "stream",
     "text": [
      "\n",
      "Logged in successful. Choose a option:\n",
      " 1. Check Balance\n",
      " 2. Deposit Money\n",
      " 3. Withdraw Money\n",
      " 4. Exit\n",
      " 1\n"
     ]
    },
    {
     "name": "stdout",
     "output_type": "stream",
     "text": [
      "Your current balance is: 3950\n"
     ]
    },
    {
     "name": "stdin",
     "output_type": "stream",
     "text": [
      "\n",
      "Logged in successful. Choose a option:\n",
      " 1. Check Balance\n",
      " 2. Deposit Money\n",
      " 3. Withdraw Money\n",
      " 4. Exit\n",
      " 4\n"
     ]
    }
   ],
   "source": [
    "city_bank.run()"
   ]
  },
  {
   "cell_type": "code",
   "execution_count": null,
   "id": "9a18bdea",
   "metadata": {},
   "outputs": [],
   "source": []
  }
 ],
 "metadata": {
  "kernelspec": {
   "display_name": "Python 3 (ipykernel)",
   "language": "python",
   "name": "python3"
  },
  "language_info": {
   "codemirror_mode": {
    "name": "ipython",
    "version": 3
   },
   "file_extension": ".py",
   "mimetype": "text/x-python",
   "name": "python",
   "nbconvert_exporter": "python",
   "pygments_lexer": "ipython3",
   "version": "3.12.4"
  }
 },
 "nbformat": 4,
 "nbformat_minor": 5
}

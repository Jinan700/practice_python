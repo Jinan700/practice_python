{
 "cells": [
  {
   "cell_type": "code",
   "execution_count": 1,
   "id": "39e0c4b4-4fdb-4040-b833-d618ec8b0fcb",
   "metadata": {},
   "outputs": [],
   "source": [
    "sen = \"Python is a popular programming language.\""
   ]
  },
  {
   "cell_type": "code",
   "execution_count": 7,
   "id": "cc033b93-3c4f-464d-868d-2ee4a8a82a01",
   "metadata": {},
   "outputs": [],
   "source": [
    "# # tasks:\n",
    "# 1. print 3rd, 10th, and last char of the string\n",
    "# 2. print the length of the string\n",
    "# 3. convert all the characters to capital format\n",
    "# 4. split the sentence on white spaces\n",
    "# 5. convert the sentence to title format"
   ]
  },
  {
   "cell_type": "code",
   "execution_count": 11,
   "id": "880b4dd9-daca-42c5-893f-c969c9eadba7",
   "metadata": {},
   "outputs": [
    {
     "name": "stdout",
     "output_type": "stream",
     "text": [
      "Third character is: t\n",
      "Tenth character is:  \n",
      "Last character is: .\n"
     ]
    }
   ],
   "source": [
    "#Task1\n",
    "third_char= sen[2]\n",
    "tenth_char= sen[9]\n",
    "last_char= sen[-1]\n",
    "print(f\"Third character is: {third_char}\")\n",
    "print(f\"Tenth character is: {tenth_char}\")\n",
    "print(f\"Last character is: {last_char}\")\n"
   ]
  },
  {
   "cell_type": "code",
   "execution_count": 15,
   "id": "88a36cdd-484b-447b-8d00-11f9aa15acc5",
   "metadata": {},
   "outputs": [
    {
     "name": "stdout",
     "output_type": "stream",
     "text": [
      "41\n"
     ]
    }
   ],
   "source": [
    "#Task2\n",
    "n= len(sen)\n",
    "print(n)"
   ]
  },
  {
   "cell_type": "code",
   "execution_count": 19,
   "id": "eaa008f6-c8e1-42b1-be08-fc931b07d601",
   "metadata": {},
   "outputs": [
    {
     "name": "stdout",
     "output_type": "stream",
     "text": [
      "PYTHON IS A POPULAR PROGRAMMING LANGUAGE.\n"
     ]
    }
   ],
   "source": [
    "#Task3\n",
    "z= sen.upper()\n",
    "print(z)"
   ]
  },
  {
   "cell_type": "code",
   "execution_count": 23,
   "id": "a42f7faf-b8ac-4b42-aedb-f423e823b787",
   "metadata": {},
   "outputs": [
    {
     "name": "stdout",
     "output_type": "stream",
     "text": [
      "['Python', 'is', 'a', 'popular', 'programming', 'language.']\n"
     ]
    }
   ],
   "source": [
    "#Task4\n",
    "x= sen.split()\n",
    "print(x)"
   ]
  },
  {
   "cell_type": "code",
   "execution_count": 26,
   "id": "80ca9b0e-3538-4e9b-89c5-3132a2979a8e",
   "metadata": {},
   "outputs": [
    {
     "name": "stdout",
     "output_type": "stream",
     "text": [
      "Python Is A Popular Programming Language.\n"
     ]
    }
   ],
   "source": [
    "#Task5\n",
    "p= sen.title()\n",
    "print(p)"
   ]
  },
  {
   "cell_type": "code",
   "execution_count": null,
   "id": "5070366c-d628-4fa7-835d-5f5cafe6138c",
   "metadata": {},
   "outputs": [],
   "source": []
  }
 ],
 "metadata": {
  "kernelspec": {
   "display_name": "Python 3 (ipykernel)",
   "language": "python",
   "name": "python3"
  },
  "language_info": {
   "codemirror_mode": {
    "name": "ipython",
    "version": 3
   },
   "file_extension": ".py",
   "mimetype": "text/x-python",
   "name": "python",
   "nbconvert_exporter": "python",
   "pygments_lexer": "ipython3",
   "version": "3.12.4"
  }
 },
 "nbformat": 4,
 "nbformat_minor": 5
}

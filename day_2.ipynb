{
 "cells": [
  {
   "cell_type": "markdown",
   "id": "010be002-7339-4acf-8c64-3342977c9864",
   "metadata": {},
   "source": [
    "# Important String Methods:"
   ]
  },
  {
   "cell_type": "markdown",
   "id": "be6798a5-7b18-45d0-a56b-8efd6cf9e04a",
   "metadata": {},
   "source": [
    "### s = \"xxxxxxxyyyyyyyyyzzzzzzzzz\"\n",
    "### len(s), s.split(), s.upper(), s.lower(), s.capitalize(), s.title(), s.strip(), s.rstrip(), s.lstrip(), s[0], s[-1]"
   ]
  },
  {
   "cell_type": "code",
   "execution_count": 3,
   "id": "922fc24b-8762-483f-9d66-48390f0fe237",
   "metadata": {},
   "outputs": [],
   "source": [
    "name = \"jinan \""
   ]
  },
  {
   "cell_type": "code",
   "execution_count": 5,
   "id": "14a72147-beb8-4b48-ae0f-3101e52b3b60",
   "metadata": {},
   "outputs": [
    {
     "data": {
      "text/plain": [
       "'jinan'"
      ]
     },
     "execution_count": 5,
     "metadata": {},
     "output_type": "execute_result"
    }
   ],
   "source": [
    "# removes white space from right side\n",
    "name.rstrip()"
   ]
  },
  {
   "cell_type": "code",
   "execution_count": 11,
   "id": "06fdc602-6365-448c-bb1c-1e3c7125f5e9",
   "metadata": {},
   "outputs": [],
   "source": [
    "name = \"                  jinan      hossain       \""
   ]
  },
  {
   "cell_type": "code",
   "execution_count": 13,
   "id": "753531c0-8fac-4a6e-b0c8-3302631b2e3f",
   "metadata": {},
   "outputs": [
    {
     "data": {
      "text/plain": [
       "'jinan      hossain'"
      ]
     },
     "execution_count": 13,
     "metadata": {},
     "output_type": "execute_result"
    }
   ],
   "source": [
    "# removes white space from both side\n",
    "name.strip()"
   ]
  },
  {
   "cell_type": "code",
   "execution_count": 15,
   "id": "b7568106-2246-4e49-8590-96e27a062be8",
   "metadata": {},
   "outputs": [],
   "source": [
    "name = \"jinan hossain\""
   ]
  },
  {
   "cell_type": "code",
   "execution_count": 17,
   "id": "3e3cba3b-3b50-4b8d-b741-986d22ca1a02",
   "metadata": {},
   "outputs": [
    {
     "data": {
      "text/plain": [
       "'j'"
      ]
     },
     "execution_count": 17,
     "metadata": {},
     "output_type": "execute_result"
    }
   ],
   "source": [
    "name[0]"
   ]
  },
  {
   "cell_type": "code",
   "execution_count": 19,
   "id": "a63c33e1-5fde-41af-923e-c6a9a1b727ac",
   "metadata": {},
   "outputs": [
    {
     "data": {
      "text/plain": [
       "'n'"
      ]
     },
     "execution_count": 19,
     "metadata": {},
     "output_type": "execute_result"
    }
   ],
   "source": [
    "name[-1]"
   ]
  },
  {
   "cell_type": "code",
   "execution_count": 21,
   "id": "6b575230-943f-4989-818f-96aa7ffed7e3",
   "metadata": {},
   "outputs": [
    {
     "data": {
      "text/plain": [
       "13"
      ]
     },
     "execution_count": 21,
     "metadata": {},
     "output_type": "execute_result"
    }
   ],
   "source": [
    "len(name)"
   ]
  },
  {
   "cell_type": "code",
   "execution_count": 29,
   "id": "5d6912a2-c995-4344-ba86-eb9e37506bb0",
   "metadata": {},
   "outputs": [],
   "source": [
    "x = name.upper()"
   ]
  },
  {
   "cell_type": "code",
   "execution_count": 31,
   "id": "e37bf696-b155-489d-ac1a-a8363d28c02f",
   "metadata": {},
   "outputs": [
    {
     "data": {
      "text/plain": [
       "'JINAN HOSSAIN'"
      ]
     },
     "execution_count": 31,
     "metadata": {},
     "output_type": "execute_result"
    }
   ],
   "source": [
    "x"
   ]
  },
  {
   "cell_type": "code",
   "execution_count": 35,
   "id": "62d7a26d-36e9-42e6-bf97-eb8e31a70122",
   "metadata": {},
   "outputs": [],
   "source": [
    "sen = \"This book is on Python Programming\""
   ]
  },
  {
   "cell_type": "code",
   "execution_count": 41,
   "id": "dc8c1940-10dd-4244-a49a-53140ffe812f",
   "metadata": {},
   "outputs": [
    {
     "data": {
      "text/plain": [
       "['This', 'book', 'is', 'on', 'Python', 'Programming']"
      ]
     },
     "execution_count": 41,
     "metadata": {},
     "output_type": "execute_result"
    }
   ],
   "source": [
    "# Split on white space\n",
    "sen.split()"
   ]
  },
  {
   "cell_type": "code",
   "execution_count": 39,
   "id": "e4794ec3-2db8-4b2d-88e4-a2b2a50d10c8",
   "metadata": {},
   "outputs": [
    {
     "data": {
      "text/plain": [
       "['Th', ' book ', ' on Python Programming']"
      ]
     },
     "execution_count": 39,
     "metadata": {},
     "output_type": "execute_result"
    }
   ],
   "source": [
    "sen.split(\"is\")"
   ]
  },
  {
   "cell_type": "code",
   "execution_count": 43,
   "id": "79cac3b7-77a3-4d81-b588-680528fccdb7",
   "metadata": {},
   "outputs": [
    {
     "data": {
      "text/plain": [
       "['Th', ' book ', ' on Python Programming ', ' random word']"
      ]
     },
     "execution_count": 43,
     "metadata": {},
     "output_type": "execute_result"
    }
   ],
   "source": [
    "sen = \"This book is on Python Programming is random word\"\n",
    "sen.split(\"is\")"
   ]
  },
  {
   "cell_type": "code",
   "execution_count": null,
   "id": "8a54f988-f454-4995-b79f-69e2876bc792",
   "metadata": {},
   "outputs": [],
   "source": []
  }
 ],
 "metadata": {
  "kernelspec": {
   "display_name": "Python 3 (ipykernel)",
   "language": "python",
   "name": "python3"
  },
  "language_info": {
   "codemirror_mode": {
    "name": "ipython",
    "version": 3
   },
   "file_extension": ".py",
   "mimetype": "text/x-python",
   "name": "python",
   "nbconvert_exporter": "python",
   "pygments_lexer": "ipython3",
   "version": "3.12.4"
  }
 },
 "nbformat": 4,
 "nbformat_minor": 5
}

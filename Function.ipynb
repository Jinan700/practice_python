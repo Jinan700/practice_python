{
 "cells": [
  {
   "cell_type": "markdown",
   "id": "465b9d30-abe0-4e98-abe2-5135186d2d59",
   "metadata": {},
   "source": [
    "## defining a function\n"
   ]
  },
  {
   "cell_type": "code",
   "execution_count": 1,
   "id": "44ca1ca0-7cad-4c33-8e0a-6f14e5de7063",
   "metadata": {},
   "outputs": [
    {
     "name": "stdout",
     "output_type": "stream",
     "text": [
      "This is an alert\n"
     ]
    }
   ],
   "source": [
    "def alert():\n",
    "    print(\"This is an alert\")\n",
    "\n",
    "# call the alert function\n",
    "alert()"
   ]
  },
  {
   "cell_type": "markdown",
   "id": "37b4c1a9-0528-43b4-a8b1-16bcb1959e1f",
   "metadata": {},
   "source": [
    "## Parameters and Arguments\n"
   ]
  },
  {
   "cell_type": "code",
   "execution_count": 3,
   "id": "2bd7886e-8b10-46b0-acd6-06e329b44ac4",
   "metadata": {},
   "outputs": [
    {
     "name": "stdout",
     "output_type": "stream",
     "text": [
      "My name is Wick\n"
     ]
    }
   ],
   "source": [
    "def print_name(name):\n",
    "    print(f\"My name is {name}\")\n",
    "\n",
    "print_name(\"Wick\")"
   ]
  },
  {
   "cell_type": "code",
   "execution_count": 5,
   "id": "2bd4b1b1-2248-4de9-9f47-c84950c6efb6",
   "metadata": {},
   "outputs": [
    {
     "name": "stdout",
     "output_type": "stream",
     "text": [
      "Result is: 100\n"
     ]
    }
   ],
   "source": [
    "def add_two_nums(a, b):\n",
    "    r = a + b\n",
    "    print(f\"Result is: {r}\")\n",
    "\n",
    "add_two_nums(40, 60)"
   ]
  },
  {
   "cell_type": "markdown",
   "id": "11e7f34a-d3ca-428b-b9c4-74add262b6ff",
   "metadata": {},
   "source": [
    "## Positional and keyword arguments\n"
   ]
  },
  {
   "cell_type": "code",
   "execution_count": 7,
   "id": "3f6a78ef-4a7f-4c76-8a14-960c937df84c",
   "metadata": {},
   "outputs": [],
   "source": [
    "def my_func(name, age):\n",
    "    print(f\"Name: {name}, Age: {age}\")"
   ]
  },
  {
   "cell_type": "code",
   "execution_count": 9,
   "id": "602307be-5ebc-4acf-9230-48ee05922e6d",
   "metadata": {},
   "outputs": [
    {
     "name": "stdout",
     "output_type": "stream",
     "text": [
      "Name: John, Age: 21\n"
     ]
    }
   ],
   "source": [
    "my_func(\"John\", 21)"
   ]
  },
  {
   "cell_type": "code",
   "execution_count": 11,
   "id": "cdae2d53-2429-4907-a503-13123679c11b",
   "metadata": {},
   "outputs": [
    {
     "name": "stdout",
     "output_type": "stream",
     "text": [
      "Name: 21, Age: John\n"
     ]
    }
   ],
   "source": [
    "my_func(21, \"John\")"
   ]
  },
  {
   "cell_type": "code",
   "execution_count": 15,
   "id": "1973cc9e-8e30-42fe-a956-5ecfd1f21a6e",
   "metadata": {},
   "outputs": [
    {
     "name": "stdout",
     "output_type": "stream",
     "text": [
      "Name: John, Age: 21\n"
     ]
    }
   ],
   "source": [
    "# using keyword arguments\n",
    "my_func(age = 21, name = \"John\")"
   ]
  },
  {
   "cell_type": "markdown",
   "id": "8606e89a-c184-4065-a613-d32d83d71f1e",
   "metadata": {},
   "source": [
    "## parameter's default value"
   ]
  },
  {
   "cell_type": "code",
   "execution_count": 22,
   "id": "ebd7f831-d977-4245-89b2-5cfae760b783",
   "metadata": {},
   "outputs": [],
   "source": [
    "def add_nums(a, b):\n",
    "    r = a + b\n",
    "    print(r)"
   ]
  },
  {
   "cell_type": "code",
   "execution_count": 24,
   "id": "d2e78422-b877-4e55-a9be-e6f1bfbcfb77",
   "metadata": {},
   "outputs": [
    {
     "name": "stdout",
     "output_type": "stream",
     "text": [
      "12\n"
     ]
    }
   ],
   "source": [
    "add_nums(5, 7)"
   ]
  },
  {
   "cell_type": "code",
   "execution_count": 26,
   "id": "d3a9eb63-2434-422b-b571-bd6b6c68737f",
   "metadata": {},
   "outputs": [
    {
     "ename": "TypeError",
     "evalue": "add_nums() missing 1 required positional argument: 'b'",
     "output_type": "error",
     "traceback": [
      "\u001b[1;31m---------------------------------------------------------------------------\u001b[0m",
      "\u001b[1;31mTypeError\u001b[0m                                 Traceback (most recent call last)",
      "Cell \u001b[1;32mIn[26], line 1\u001b[0m\n\u001b[1;32m----> 1\u001b[0m add_nums(\u001b[38;5;241m6\u001b[39m)\n",
      "\u001b[1;31mTypeError\u001b[0m: add_nums() missing 1 required positional argument: 'b'"
     ]
    }
   ],
   "source": [
    "add_nums(6)"
   ]
  },
  {
   "cell_type": "code",
   "execution_count": 28,
   "id": "c4f7239d-a98d-423b-ae5e-73c75a73d25d",
   "metadata": {},
   "outputs": [],
   "source": [
    "# Using default value of parameter b\n",
    "def add_nums(a, b = 10):\n",
    "    r = a + b\n",
    "    print(r)"
   ]
  },
  {
   "cell_type": "code",
   "execution_count": 30,
   "id": "2c8eb60e-1f3c-4e0d-9d8f-9d81421031ed",
   "metadata": {},
   "outputs": [
    {
     "name": "stdout",
     "output_type": "stream",
     "text": [
      "16\n"
     ]
    }
   ],
   "source": [
    "add_nums(6)"
   ]
  },
  {
   "cell_type": "markdown",
   "id": "78a3f793-b034-49bb-bf09-c8228a05c23e",
   "metadata": {},
   "source": [
    "## Return from a function"
   ]
  },
  {
   "cell_type": "code",
   "execution_count": 4,
   "id": "8a8008aa-e1cc-4d15-b8f7-09040de567fc",
   "metadata": {},
   "outputs": [],
   "source": [
    "def add_two_nums(a, b):\n",
    "    sum = a + b\n",
    "    return sum"
   ]
  },
  {
   "cell_type": "code",
   "execution_count": 10,
   "id": "1209f5e1-4432-49bb-bf64-2735958e8f1e",
   "metadata": {},
   "outputs": [
    {
     "name": "stdout",
     "output_type": "stream",
     "text": [
      "30\n"
     ]
    }
   ],
   "source": [
    "r = add_two_nums(10, 20)\n",
    "print(r)"
   ]
  },
  {
   "cell_type": "code",
   "execution_count": 16,
   "id": "b98838af-324a-43f2-a5b4-63a83a978e6d",
   "metadata": {},
   "outputs": [],
   "source": [
    "def full_name(firstname, lastname):\n",
    "    f = f\"{firstname} {lastname}\"\n",
    "    return f.title()"
   ]
  },
  {
   "cell_type": "code",
   "execution_count": 18,
   "id": "b7af1a32-fb14-4594-8b21-1c1e24fdb234",
   "metadata": {},
   "outputs": [
    {
     "data": {
      "text/plain": [
       "'John Wick'"
      ]
     },
     "execution_count": 18,
     "metadata": {},
     "output_type": "execute_result"
    }
   ],
   "source": [
    "full_name(\"john\", \"wick\")"
   ]
  },
  {
   "cell_type": "markdown",
   "id": "a3f3e159-f6eb-4a16-8512-31c173ebb360",
   "metadata": {},
   "source": [
    "### Making an argument optional"
   ]
  },
  {
   "cell_type": "code",
   "execution_count": 23,
   "id": "1bcfa6e0-7f96-4ad1-ba5e-3209edbdb880",
   "metadata": {},
   "outputs": [
    {
     "ename": "SyntaxError",
     "evalue": "parameter without a default follows parameter with a default (32446760.py, line 1)",
     "output_type": "error",
     "traceback": [
      "\u001b[1;36m  Cell \u001b[1;32mIn[23], line 1\u001b[1;36m\u001b[0m\n\u001b[1;33m    def formated_name(firstname, middlename = '', lastname):\u001b[0m\n\u001b[1;37m                                                  ^\u001b[0m\n\u001b[1;31mSyntaxError\u001b[0m\u001b[1;31m:\u001b[0m parameter without a default follows parameter with a default\n"
     ]
    }
   ],
   "source": [
    "def formated_name(firstname, middlename = '', lastname):\n",
    "    fullname = firstname + middlename + lastname\n",
    "    return fullname"
   ]
  },
  {
   "cell_type": "code",
   "execution_count": 31,
   "id": "1ab79344-3615-4aa6-af86-deae7d006724",
   "metadata": {},
   "outputs": [],
   "source": [
    "def formated_name(firstname, lastname, middlename = ''):\n",
    "    fullname = firstname + \" \" + middlename + \" \" + lastname\n",
    "    return fullname"
   ]
  },
  {
   "cell_type": "code",
   "execution_count": 33,
   "id": "dad6d558-baf8-4a91-8276-2bd286de199e",
   "metadata": {},
   "outputs": [
    {
     "name": "stdout",
     "output_type": "stream",
     "text": [
      "jinan md hossain\n"
     ]
    }
   ],
   "source": [
    "name = formated_name(\"jinan\", \"hossain\", \"md\")\n",
    "print(name)"
   ]
  },
  {
   "cell_type": "code",
   "execution_count": 35,
   "id": "80d74858-305b-41fe-b86b-b4f950483b48",
   "metadata": {},
   "outputs": [
    {
     "name": "stdout",
     "output_type": "stream",
     "text": [
      "jinan  hossain\n"
     ]
    }
   ],
   "source": [
    "name = formated_name(\"jinan\", \"hossain\")\n",
    "print(name)"
   ]
  },
  {
   "cell_type": "code",
   "execution_count": 37,
   "id": "3e7732db-f4ad-4a41-8d5b-6a3fe8c57f4c",
   "metadata": {},
   "outputs": [],
   "source": [
    "# two spaces"
   ]
  },
  {
   "cell_type": "code",
   "execution_count": 39,
   "id": "81ccefe5-fe13-45e5-bb77-1310049d0432",
   "metadata": {},
   "outputs": [],
   "source": [
    "def formated_name(firstname, lastname, middlename = ''):\n",
    "    if middlename:\n",
    "        fullname = firstname + \" \" + middlename + \" \" + lastname\n",
    "    else:\n",
    "        fullname = firstname + \" \" + lastname\n",
    "    \n",
    "    return fullname"
   ]
  },
  {
   "cell_type": "code",
   "execution_count": 41,
   "id": "01bc0798-c5a1-4141-b977-7d134513222d",
   "metadata": {},
   "outputs": [
    {
     "name": "stdout",
     "output_type": "stream",
     "text": [
      "jinan md hossain\n"
     ]
    }
   ],
   "source": [
    "name = formated_name(\"jinan\", \"hossain\", \"md\")\n",
    "print(name)"
   ]
  },
  {
   "cell_type": "code",
   "execution_count": 43,
   "id": "3afa8e9f-62ea-4564-b61a-6579b49d7e6a",
   "metadata": {},
   "outputs": [
    {
     "name": "stdout",
     "output_type": "stream",
     "text": [
      "jinan hossain\n"
     ]
    }
   ],
   "source": [
    "name = formated_name(\"jinan\", \"hossain\")\n",
    "print(name)"
   ]
  },
  {
   "cell_type": "code",
   "execution_count": null,
   "id": "abd4bf2c-b65a-4b9b-b7bf-7c3f4584545f",
   "metadata": {},
   "outputs": [],
   "source": []
  },
  {
   "cell_type": "markdown",
   "id": "06168c56-3b00-46b7-a51d-a30b856e0bbe",
   "metadata": {},
   "source": [
    "## return a dictionary"
   ]
  },
  {
   "cell_type": "code",
   "execution_count": 49,
   "id": "d2ef0389-9bad-43bc-9751-7cca1f4bf36f",
   "metadata": {},
   "outputs": [],
   "source": [
    "def build_user(first_name,last_name,mobile_num):\n",
    "    user={'First Name':first_name, 'Last Name':last_name, 'Mobile Number':mobile_num}\n",
    "    return user\n",
    "    "
   ]
  },
  {
   "cell_type": "code",
   "execution_count": 53,
   "id": "18596fb8-93b1-4185-a015-637bb0dd6f3a",
   "metadata": {},
   "outputs": [
    {
     "name": "stdout",
     "output_type": "stream",
     "text": [
      "{'First Name': 'John', 'Last Name': 'Wick', 'Mobile Number': 2323223434}\n"
     ]
    }
   ],
   "source": [
    "user1= build_user('John', 'Wick', 2323223434)\n",
    "print(user1)"
   ]
  },
  {
   "cell_type": "code",
   "execution_count": 59,
   "id": "22e8d2fe-123c-4b6e-9632-82f9bb77fce3",
   "metadata": {},
   "outputs": [],
   "source": [
    "def build_user(first_name, last_name, mobile_num, age=None):\n",
    "    user={'First Name': first_name, 'Last Name': last_name, 'Mobile Number': mobile_num}\n",
    "    if age:\n",
    "        user['age']= age\n",
    "    return user"
   ]
  },
  {
   "cell_type": "code",
   "execution_count": 61,
   "id": "f878fe2b-738f-4ff7-abe0-7a2a50fd6a91",
   "metadata": {},
   "outputs": [
    {
     "name": "stdout",
     "output_type": "stream",
     "text": [
      "{'First Name': 'Michael', 'Last Name': 'Myers', 'Mobile Number': 2434324, 'age': 20}\n",
      "{'First Name': 'Kevin', 'Last Name': 'Roy', 'Mobile Number': 232343545}\n"
     ]
    }
   ],
   "source": [
    "user2= build_user(\"Michael\", \"Myers\", 2434324, 20)\n",
    "user3= build_user('Kevin','Roy',232343545)\n",
    "print(user2)\n",
    "print(user3)"
   ]
  },
  {
   "cell_type": "code",
   "execution_count": null,
   "id": "4a94befd-82c9-43ad-ba46-09ce16005236",
   "metadata": {},
   "outputs": [],
   "source": []
  },
  {
   "cell_type": "markdown",
   "id": "e2276f05-933c-4fd9-b022-713c1d6a1d4c",
   "metadata": {},
   "source": [
    "## Passing a List as argument"
   ]
  },
  {
   "cell_type": "code",
   "execution_count": 65,
   "id": "f8df3e40-1b21-439d-9848-18f875185d48",
   "metadata": {},
   "outputs": [
    {
     "name": "stdout",
     "output_type": "stream",
     "text": [
      "2\n",
      "4\n",
      "6\n",
      "7\n",
      "8\n"
     ]
    }
   ],
   "source": [
    "list1 = [2, 4, 6, 7, 8]\n",
    "for num in list1:\n",
    "    print(num)"
   ]
  },
  {
   "cell_type": "code",
   "execution_count": 67,
   "id": "db8773d9-7184-4301-8993-4a00c5b342a1",
   "metadata": {},
   "outputs": [],
   "source": [
    "def num_printing(list):\n",
    "    for num in list:\n",
    "        print(num)"
   ]
  },
  {
   "cell_type": "code",
   "execution_count": 69,
   "id": "42e4bc77-8292-4355-b657-eba6eb271e9a",
   "metadata": {},
   "outputs": [
    {
     "name": "stdout",
     "output_type": "stream",
     "text": [
      "2\n",
      "4\n",
      "6\n",
      "7\n",
      "8\n"
     ]
    }
   ],
   "source": [
    "num_printing(list1)"
   ]
  },
  {
   "cell_type": "code",
   "execution_count": 71,
   "id": "32917309-9f41-444e-a596-a3bc4e574d2a",
   "metadata": {},
   "outputs": [
    {
     "name": "stdout",
     "output_type": "stream",
     "text": [
      "50\n",
      "6\n",
      "7\n",
      "20\n",
      "9\n"
     ]
    }
   ],
   "source": [
    "list2 = [50, 6, 7, 20, 9]\n",
    "num_printing(list2)"
   ]
  },
  {
   "cell_type": "markdown",
   "id": "cdcb74e2-7d61-4695-9622-7bedf6a9fc9f",
   "metadata": {},
   "source": [
    "# Create new list where the elements are the squares of the elements of a given list"
   ]
  },
  {
   "cell_type": "code",
   "execution_count": 74,
   "id": "be604e06-bc14-40b4-8cc7-3266a37fe789",
   "metadata": {},
   "outputs": [],
   "source": [
    "new_list = []\n",
    "for num in list2:\n",
    "    s = num ** 2\n",
    "    new_list.append(s)"
   ]
  },
  {
   "cell_type": "code",
   "execution_count": 76,
   "id": "af2b3163-6460-4641-8668-35e3e19d05ae",
   "metadata": {},
   "outputs": [
    {
     "data": {
      "text/plain": [
       "[2500, 36, 49, 400, 81]"
      ]
     },
     "execution_count": 76,
     "metadata": {},
     "output_type": "execute_result"
    }
   ],
   "source": [
    "new_list"
   ]
  },
  {
   "cell_type": "code",
   "execution_count": 78,
   "id": "e74bb832-fbf5-4dee-a691-607c651369a1",
   "metadata": {},
   "outputs": [],
   "source": [
    "def sq_nums(list):\n",
    "    new_list = []\n",
    "    for n in list:\n",
    "        sq = n ** 2\n",
    "        new_list.append(sq)\n",
    "    return new_list"
   ]
  },
  {
   "cell_type": "code",
   "execution_count": 82,
   "id": "1db7b758-23b6-46b2-9e43-a04f1bfad14e",
   "metadata": {},
   "outputs": [
    {
     "name": "stdout",
     "output_type": "stream",
     "text": [
      "[4, 16, 36, 49, 64]\n"
     ]
    }
   ],
   "source": [
    "sq1 = sq_nums(list1)\n",
    "print(sq1)"
   ]
  },
  {
   "cell_type": "code",
   "execution_count": 84,
   "id": "c0ff57e9-2f3f-4305-b784-11b5f1b949bb",
   "metadata": {},
   "outputs": [
    {
     "data": {
      "text/plain": [
       "[4, 16, 36, 49, 64]"
      ]
     },
     "execution_count": 84,
     "metadata": {},
     "output_type": "execute_result"
    }
   ],
   "source": [
    "sq1"
   ]
  },
  {
   "cell_type": "code",
   "execution_count": 86,
   "id": "436fb088-46e2-4e68-8fd5-43b48dd271d8",
   "metadata": {},
   "outputs": [
    {
     "name": "stdout",
     "output_type": "stream",
     "text": [
      "[4, 25, 36, 64]\n"
     ]
    }
   ],
   "source": [
    "sq_new = sq_nums([2, 5, 6, 8])\n",
    "print(sq_new)"
   ]
  },
  {
   "cell_type": "markdown",
   "id": "d112b182-46e5-460f-b3cf-248cca828070",
   "metadata": {},
   "source": [
    "## Creating function for sorting a list as descending order"
   ]
  },
  {
   "cell_type": "code",
   "execution_count": 90,
   "id": "f90e566e-630c-47f5-881f-671a35c013a9",
   "metadata": {},
   "outputs": [],
   "source": [
    "def desd_order(list):\n",
    "    dsd_order = sorted(list, reverse = True)\n",
    "    return dsd_order"
   ]
  },
  {
   "cell_type": "code",
   "execution_count": 94,
   "id": "a678d82e-4ea3-4007-8815-961f31ce3398",
   "metadata": {},
   "outputs": [
    {
     "name": "stdout",
     "output_type": "stream",
     "text": [
      "[8, 7, 6, 4, 2]\n"
     ]
    }
   ],
   "source": [
    "sorted_list1 = desd_order(list1)\n",
    "print(sorted_list1)"
   ]
  },
  {
   "cell_type": "code",
   "execution_count": 96,
   "id": "9dad313f-408d-41c4-b040-98f41c148838",
   "metadata": {},
   "outputs": [
    {
     "name": "stdout",
     "output_type": "stream",
     "text": [
      "[50, 20, 9, 7, 6]\n"
     ]
    }
   ],
   "source": [
    "sorted_list2 = desd_order(list2)\n",
    "print(sorted_list2)"
   ]
  },
  {
   "cell_type": "markdown",
   "id": "cd6f3252-1dec-491c-ad9f-e9d23e2e1caa",
   "metadata": {},
   "source": [
    "## Creating a function for getting sum of numbers from a given list"
   ]
  },
  {
   "cell_type": "code",
   "execution_count": 14,
   "id": "9c3b9739-384f-4efb-b12b-23c50ce483ce",
   "metadata": {},
   "outputs": [],
   "source": [
    "list1= [23,54,65,43]\n",
    "\n",
    "def num_sum(list):\n",
    "    total=0\n",
    "    for num in list:\n",
    "        total= total+num\n",
    "    return total\n",
    "\n",
    "    \n",
    "    "
   ]
  },
  {
   "cell_type": "code",
   "execution_count": 16,
   "id": "daaede46-83cc-436f-9071-adc85e9baec3",
   "metadata": {},
   "outputs": [
    {
     "data": {
      "text/plain": [
       "185"
      ]
     },
     "execution_count": 16,
     "metadata": {},
     "output_type": "execute_result"
    }
   ],
   "source": [
    "num_sum(list1)"
   ]
  },
  {
   "cell_type": "code",
   "execution_count": 19,
   "id": "d5fbd546-5523-4841-892a-438dc05fbbf0",
   "metadata": {},
   "outputs": [],
   "source": [
    "def even_odd(a):\n",
    "    if a % 2==0:\n",
    "        print('Even')\n",
    "    else:\n",
    "        print('Odd')"
   ]
  },
  {
   "cell_type": "code",
   "execution_count": 21,
   "id": "85f930bb-dad2-4992-b665-533f4c1a0731",
   "metadata": {},
   "outputs": [
    {
     "name": "stdout",
     "output_type": "stream",
     "text": [
      "Odd\n"
     ]
    }
   ],
   "source": [
    "even_odd(7)"
   ]
  },
  {
   "cell_type": "markdown",
   "id": "46ed8d8b-0850-416d-8eaf-cd664edf6e13",
   "metadata": {},
   "source": [
    "## Write a Python function to find the maximum of two numbers."
   ]
  },
  {
   "cell_type": "code",
   "execution_count": 26,
   "id": "4c0361b1-350d-49e6-a659-9c96caa9f5b4",
   "metadata": {},
   "outputs": [
    {
     "name": "stdout",
     "output_type": "stream",
     "text": [
      "b is bigger\n"
     ]
    }
   ],
   "source": [
    "a= 29\n",
    "b= 56\n",
    "\n",
    "if a>b:\n",
    "    print(\"a is bigger\")\n",
    "else:\n",
    "    print(\"b is bigger\")\n",
    "\n",
    "\n"
   ]
  },
  {
   "cell_type": "code",
   "execution_count": 28,
   "id": "8c8144dd-56f4-4704-9b25-d5d3618d919d",
   "metadata": {},
   "outputs": [],
   "source": [
    "def max_value(a,b):\n",
    "    if a>b:\n",
    "        return a\n",
    "    else:\n",
    "        return b\n"
   ]
  },
  {
   "cell_type": "code",
   "execution_count": 30,
   "id": "23e042f3-6a4e-4a63-a144-a9497e299af6",
   "metadata": {},
   "outputs": [
    {
     "data": {
      "text/plain": [
       "43"
      ]
     },
     "execution_count": 30,
     "metadata": {},
     "output_type": "execute_result"
    }
   ],
   "source": [
    "max_value(23,43)"
   ]
  },
  {
   "cell_type": "markdown",
   "id": "dfeb0d12-28d3-42cc-b009-506560b09c4d",
   "metadata": {},
   "source": [
    "## Write a Python function to find the maximum of three numbers."
   ]
  },
  {
   "cell_type": "code",
   "execution_count": 34,
   "id": "0ba02ea4-f2ea-4284-89d4-661ce2b31f2c",
   "metadata": {},
   "outputs": [
    {
     "name": "stdout",
     "output_type": "stream",
     "text": [
      "c is greater\n"
     ]
    }
   ],
   "source": [
    "a= 34\n",
    "b= 25\n",
    "c= 97\n",
    "\n",
    "if a>b and a>c:\n",
    "    print('a is greater')\n",
    "elif b>a and b>c:\n",
    "    print('b is greater')\n",
    "else:\n",
    "    print('c is greater')"
   ]
  },
  {
   "cell_type": "code",
   "execution_count": 40,
   "id": "35292a1e-4a51-4b89-9f79-b8ece5c236c3",
   "metadata": {},
   "outputs": [],
   "source": [
    "def get_max_num(a,b,c):\n",
    "    if a>b and a>c:\n",
    "        return a\n",
    "    elif b>a and b>c:\n",
    "        return b\n",
    "    else:\n",
    "        return c"
   ]
  },
  {
   "cell_type": "code",
   "execution_count": 42,
   "id": "1c421a84-4df1-4fd1-ae3a-2d435c234eb8",
   "metadata": {},
   "outputs": [
    {
     "data": {
      "text/plain": [
       "45"
      ]
     },
     "execution_count": 42,
     "metadata": {},
     "output_type": "execute_result"
    }
   ],
   "source": [
    "get_max_num(23,45,12)"
   ]
  },
  {
   "cell_type": "markdown",
   "id": "8eebc588-0928-4e45-9338-73d185a8baa1",
   "metadata": {},
   "source": [
    "## Write a Python function to reverse a string."
   ]
  },
  {
   "cell_type": "code",
   "execution_count": 52,
   "id": "c90bf145-e3a8-45a2-aef3-2400f4e485fd",
   "metadata": {},
   "outputs": [
    {
     "name": "stdout",
     "output_type": "stream",
     "text": [
      "nohtyP\n"
     ]
    }
   ],
   "source": [
    "string1= \"Python\"\n",
    "string2= ''\n",
    "\n",
    "i= len(string1) - 1\n",
    "while i >= 0:\n",
    "    r= string1[i]\n",
    "    string2 += r\n",
    "    i-=1\n",
    "print(string2)"
   ]
  },
  {
   "cell_type": "code",
   "execution_count": 54,
   "id": "75e25dba-8661-464d-810a-461ef3b36341",
   "metadata": {},
   "outputs": [],
   "source": [
    "i = 7 -1"
   ]
  },
  {
   "cell_type": "code",
   "execution_count": null,
   "id": "36a68f57-4d1f-45a5-992a-18a7d2dd793d",
   "metadata": {},
   "outputs": [],
   "source": []
  },
  {
   "cell_type": "code",
   "execution_count": 57,
   "id": "5c84aa46-efc6-4dd3-8486-afb3f5a756c1",
   "metadata": {},
   "outputs": [],
   "source": [
    "def reverse_string(string1):\n",
    "    string2= ''\n",
    "    \n",
    "    i= len(string1) - 1\n",
    "    while i >= 0:\n",
    "        r= string1[i]\n",
    "        string2 += r\n",
    "        i-=1\n",
    "    print(string2)"
   ]
  },
  {
   "cell_type": "code",
   "execution_count": 59,
   "id": "56e59993-640f-4420-a92a-50930c36ac86",
   "metadata": {},
   "outputs": [
    {
     "name": "stdout",
     "output_type": "stream",
     "text": [
      "olleH\n"
     ]
    }
   ],
   "source": [
    "reverse_string(\"Hello\")"
   ]
  },
  {
   "cell_type": "code",
   "execution_count": null,
   "id": "2c9e1cfd-1067-4394-bc4b-98d573a61c34",
   "metadata": {},
   "outputs": [],
   "source": []
  },
  {
   "cell_type": "markdown",
   "id": "369c584a-13aa-46fd-9817-ea6f70e14473",
   "metadata": {},
   "source": [
    "## Passing an Arbitrary Number of Arguments"
   ]
  },
  {
   "cell_type": "markdown",
   "id": "e0d16e48-a198-4800-9c6d-1e0517030ac5",
   "metadata": {},
   "source": [
    "### Positional Arguments"
   ]
  },
  {
   "cell_type": "code",
   "execution_count": 67,
   "id": "a14c1201-d10f-4122-a10c-9fc4a8bc76c0",
   "metadata": {},
   "outputs": [],
   "source": [
    "def add_nums(*nums):\n",
    "    print(nums)"
   ]
  },
  {
   "cell_type": "code",
   "execution_count": 69,
   "id": "5217c5a0-3bdb-498a-8506-5cdc9ece730e",
   "metadata": {},
   "outputs": [
    {
     "name": "stdout",
     "output_type": "stream",
     "text": [
      "(10, 30, 40)\n"
     ]
    }
   ],
   "source": [
    "add_nums(10, 30, 40)"
   ]
  },
  {
   "cell_type": "code",
   "execution_count": 71,
   "id": "3dcd97c3-019f-4663-8465-09fa42659588",
   "metadata": {},
   "outputs": [],
   "source": [
    "nums = (10, 30, 40)"
   ]
  },
  {
   "cell_type": "code",
   "execution_count": 73,
   "id": "d6f507ce-1bbf-42cd-af77-838a3f2347c9",
   "metadata": {},
   "outputs": [
    {
     "name": "stdout",
     "output_type": "stream",
     "text": [
      "(10,)\n"
     ]
    }
   ],
   "source": [
    "add_nums(10)"
   ]
  },
  {
   "cell_type": "code",
   "execution_count": 75,
   "id": "987dcbf1-6b3b-40aa-bcd4-05cad515dced",
   "metadata": {},
   "outputs": [
    {
     "name": "stdout",
     "output_type": "stream",
     "text": [
      "()\n"
     ]
    }
   ],
   "source": [
    "add_nums()"
   ]
  },
  {
   "cell_type": "code",
   "execution_count": 81,
   "id": "30ef3d6e-bfe2-44ee-8868-7cde1aa8de83",
   "metadata": {},
   "outputs": [],
   "source": [
    "def add_nums(*nums):\n",
    "    total = 0\n",
    "    for n in nums:\n",
    "        total += n\n",
    "    return total"
   ]
  },
  {
   "cell_type": "code",
   "execution_count": 83,
   "id": "ab92abc6-da0e-46b4-8517-8ed1f3d2646d",
   "metadata": {},
   "outputs": [
    {
     "name": "stdout",
     "output_type": "stream",
     "text": [
      "40\n"
     ]
    }
   ],
   "source": [
    "result = add_nums(10, 30)\n",
    "print(result)"
   ]
  },
  {
   "cell_type": "code",
   "execution_count": 85,
   "id": "c92b3d52-4410-4090-a415-1558b944b8a8",
   "metadata": {},
   "outputs": [
    {
     "name": "stdout",
     "output_type": "stream",
     "text": [
      "150\n"
     ]
    }
   ],
   "source": [
    "result = add_nums(10, 30, 50, 60)\n",
    "print(result)"
   ]
  },
  {
   "cell_type": "code",
   "execution_count": 87,
   "id": "80b36f79-7795-4fc3-8d6f-f74c51f4a811",
   "metadata": {},
   "outputs": [
    {
     "name": "stdout",
     "output_type": "stream",
     "text": [
      "10\n"
     ]
    }
   ],
   "source": [
    "result = add_nums(10)\n",
    "print(result)"
   ]
  },
  {
   "cell_type": "code",
   "execution_count": 89,
   "id": "560c2731-2a27-497a-b40c-371dae0fa339",
   "metadata": {},
   "outputs": [
    {
     "name": "stdout",
     "output_type": "stream",
     "text": [
      "0\n"
     ]
    }
   ],
   "source": [
    "result = add_nums()\n",
    "print(result)"
   ]
  },
  {
   "cell_type": "code",
   "execution_count": 91,
   "id": "3a35d2fb-7b19-459a-90f7-410a7a4a8f56",
   "metadata": {},
   "outputs": [],
   "source": [
    "def new_func(a, b, *others):\n",
    "    print(a)\n",
    "    print(b)\n",
    "    print(others)"
   ]
  },
  {
   "cell_type": "code",
   "execution_count": 93,
   "id": "c223ed4f-4b29-49d7-99b4-7e85bc89ab22",
   "metadata": {},
   "outputs": [
    {
     "name": "stdout",
     "output_type": "stream",
     "text": [
      "29\n",
      "40\n",
      "(48, 59, 50)\n"
     ]
    }
   ],
   "source": [
    "new_func(29, 40 , 48, 59, 50)"
   ]
  },
  {
   "cell_type": "code",
   "execution_count": 95,
   "id": "c9742a6b-6e93-40da-838b-dcff79c81635",
   "metadata": {},
   "outputs": [],
   "source": [
    "def new_func(a, b, *others, c):\n",
    "    print(a)\n",
    "    print(b)\n",
    "    print(others)\n",
    "    print(c)"
   ]
  },
  {
   "cell_type": "code",
   "execution_count": 97,
   "id": "a591f19e-2b33-4498-ba13-3a8d23212474",
   "metadata": {},
   "outputs": [
    {
     "ename": "TypeError",
     "evalue": "new_func() missing 1 required keyword-only argument: 'c'",
     "output_type": "error",
     "traceback": [
      "\u001b[1;31m---------------------------------------------------------------------------\u001b[0m",
      "\u001b[1;31mTypeError\u001b[0m                                 Traceback (most recent call last)",
      "Cell \u001b[1;32mIn[97], line 1\u001b[0m\n\u001b[1;32m----> 1\u001b[0m new_func(\u001b[38;5;241m29\u001b[39m, \u001b[38;5;241m40\u001b[39m , \u001b[38;5;241m48\u001b[39m, \u001b[38;5;241m59\u001b[39m, \u001b[38;5;241m50\u001b[39m)\n",
      "\u001b[1;31mTypeError\u001b[0m: new_func() missing 1 required keyword-only argument: 'c'"
     ]
    }
   ],
   "source": [
    "new_func(29, 40 , 48, 59, 50)"
   ]
  },
  {
   "cell_type": "code",
   "execution_count": 99,
   "id": "aad39bff-4dc0-4c1d-b575-893feed7da52",
   "metadata": {},
   "outputs": [],
   "source": [
    "def new_func(a, b, c, *others):\n",
    "    print(a)\n",
    "    print(b)\n",
    "    print(others)\n",
    "    print(c)"
   ]
  },
  {
   "cell_type": "code",
   "execution_count": 101,
   "id": "9cb5813a-3b33-4ece-9362-29bcfb5d8c05",
   "metadata": {
    "scrolled": true
   },
   "outputs": [
    {
     "name": "stdout",
     "output_type": "stream",
     "text": [
      "29\n",
      "40\n",
      "(59, 50)\n",
      "48\n"
     ]
    }
   ],
   "source": [
    "new_func(29, 40 , 48, 59, 50)"
   ]
  },
  {
   "cell_type": "code",
   "execution_count": 113,
   "id": "2bb50f52-aa01-4202-b64a-e34622ee22d2",
   "metadata": {},
   "outputs": [
    {
     "name": "stdout",
     "output_type": "stream",
     "text": [
      "albert\n",
      "einstein\n",
      "('princeton', 'physics')\n"
     ]
    }
   ],
   "source": [
    "def build_profile(first, last, *user_info):\n",
    "    print(first)\n",
    "    print(last)\n",
    "    print(user_info)\n",
    "\n",
    "build_profile('albert', 'einstein', 'princeton', 'physics')"
   ]
  },
  {
   "cell_type": "markdown",
   "id": "f2bfc825-0925-4664-b3bb-661d0544ee26",
   "metadata": {},
   "source": [
    "### keyword argument"
   ]
  },
  {
   "cell_type": "code",
   "execution_count": null,
   "id": "b6b7ad62-cd61-4be6-9a38-978f93c6d5be",
   "metadata": {},
   "outputs": [],
   "source": []
  },
  {
   "cell_type": "code",
   "execution_count": 105,
   "id": "b48856c2-137e-4eda-b672-4919705c6dee",
   "metadata": {},
   "outputs": [],
   "source": [
    "def build_profile(first, last, **user_info):\n",
    "    print(first)\n",
    "    print(last)\n",
    "    print(user_info)\n"
   ]
  },
  {
   "cell_type": "code",
   "execution_count": 107,
   "id": "9a8f64d8-fd2b-4f6d-91dc-75f7a52f7091",
   "metadata": {},
   "outputs": [
    {
     "name": "stdout",
     "output_type": "stream",
     "text": [
      "albert\n",
      "einstein\n",
      "{'location': 'princeton', 'field': 'physics'}\n"
     ]
    }
   ],
   "source": [
    "build_profile('albert', 'einstein', location='princeton', field='physics')"
   ]
  },
  {
   "cell_type": "code",
   "execution_count": 115,
   "id": "fe78bbdf-fbc0-4ff0-820f-2de86aca5da6",
   "metadata": {},
   "outputs": [
    {
     "ename": "TypeError",
     "evalue": "build_profile() takes 2 positional arguments but 4 were given",
     "output_type": "error",
     "traceback": [
      "\u001b[1;31m---------------------------------------------------------------------------\u001b[0m",
      "\u001b[1;31mTypeError\u001b[0m                                 Traceback (most recent call last)",
      "Cell \u001b[1;32mIn[115], line 6\u001b[0m\n\u001b[0;32m      3\u001b[0m     \u001b[38;5;28mprint\u001b[39m(last)\n\u001b[0;32m      4\u001b[0m     \u001b[38;5;28mprint\u001b[39m(user_info)\n\u001b[1;32m----> 6\u001b[0m build_profile(\u001b[38;5;124m'\u001b[39m\u001b[38;5;124malbert\u001b[39m\u001b[38;5;124m'\u001b[39m, \u001b[38;5;124m'\u001b[39m\u001b[38;5;124meinstein\u001b[39m\u001b[38;5;124m'\u001b[39m, \u001b[38;5;124m'\u001b[39m\u001b[38;5;124mprinceton\u001b[39m\u001b[38;5;124m'\u001b[39m, \u001b[38;5;124m'\u001b[39m\u001b[38;5;124mphysics\u001b[39m\u001b[38;5;124m'\u001b[39m)\n",
      "\u001b[1;31mTypeError\u001b[0m: build_profile() takes 2 positional arguments but 4 were given"
     ]
    }
   ],
   "source": [
    "def build_profile(first, last, **user_info):\n",
    "    print(first)\n",
    "    print(last)\n",
    "    print(user_info)\n",
    "\n",
    "build_profile('albert', 'einstein', 'princeton', 'physics')"
   ]
  },
  {
   "cell_type": "code",
   "execution_count": null,
   "id": "1ec3e1dd-fdc4-4781-a696-d352c63b840f",
   "metadata": {},
   "outputs": [],
   "source": []
  },
  {
   "cell_type": "code",
   "execution_count": 120,
   "id": "0079841f-4d68-4a09-9965-930cd1098510",
   "metadata": {},
   "outputs": [],
   "source": [
    "def build_profile(first, last, **user_info):\n",
    "    print(user_info)\n",
    "    user_info['first_name'] = first\n",
    "    user_info['last_name'] = last\n",
    "    print(user_info)"
   ]
  },
  {
   "cell_type": "code",
   "execution_count": 122,
   "id": "885b0734-fe71-4ab1-998f-78f7c304da71",
   "metadata": {},
   "outputs": [
    {
     "name": "stdout",
     "output_type": "stream",
     "text": [
      "{'location': 'princeton', 'field': 'physics'}\n",
      "{'location': 'princeton', 'field': 'physics', 'first_name': 'albert', 'last_name': 'einstein'}\n"
     ]
    }
   ],
   "source": [
    "build_profile('albert', 'einstein', location='princeton', field='physics')"
   ]
  },
  {
   "cell_type": "code",
   "execution_count": null,
   "id": "73b7c579-dc52-4824-91ba-57c9b6ae355c",
   "metadata": {},
   "outputs": [],
   "source": []
  }
 ],
 "metadata": {
  "kernelspec": {
   "display_name": "Python 3 (ipykernel)",
   "language": "python",
   "name": "python3"
  },
  "language_info": {
   "codemirror_mode": {
    "name": "ipython",
    "version": 3
   },
   "file_extension": ".py",
   "mimetype": "text/x-python",
   "name": "python",
   "nbconvert_exporter": "python",
   "pygments_lexer": "ipython3",
   "version": "3.12.4"
  }
 },
 "nbformat": 4,
 "nbformat_minor": 5
}

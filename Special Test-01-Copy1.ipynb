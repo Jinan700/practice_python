{
 "cells": [
  {
   "cell_type": "markdown",
   "id": "a99e8e4c-1200-4704-aa72-4fb8f1d594ab",
   "metadata": {},
   "source": [
    "## Data Types:"
   ]
  },
  {
   "cell_type": "markdown",
   "id": "d7846ac1-b914-4e51-b3f8-fd94e411d57a",
   "metadata": {},
   "source": [
    "1. Write down the names of different data types in Python.\n",
    "2. Compare the properties of different collection types.\n",
    "3. What do you understand by “type casting”? Explain briefly with examples.\n"
   ]
  },
  {
   "cell_type": "code",
   "execution_count": null,
   "id": "a47bbab5-04ba-48b1-b026-06225ee6bcf3",
   "metadata": {},
   "outputs": [],
   "source": []
  },
  {
   "cell_type": "code",
   "execution_count": null,
   "id": "808e321e-6c51-4382-9f45-dab87e538a01",
   "metadata": {},
   "outputs": [],
   "source": []
  },
  {
   "cell_type": "code",
   "execution_count": null,
   "id": "8d59d239-7909-4fcb-9da5-a3e03dadcced",
   "metadata": {},
   "outputs": [],
   "source": []
  },
  {
   "cell_type": "markdown",
   "id": "faa2b393-200a-4374-a26a-df601e01fc25",
   "metadata": {},
   "source": [
    "## String"
   ]
  },
  {
   "cell_type": "code",
   "execution_count": 1,
   "id": "abad323a-e761-4791-99bd-5c196c8dbba4",
   "metadata": {},
   "outputs": [
    {
     "data": {
      "text/plain": [
       "\"The AI revolution began quietly. Small bots learned tasks quickly. Soon, they improved factories and offices. People marveled at their efficiency. Jobs transformed, roles shifted. AI wrote stories, painted art, and drove cars. Society adapted to new possibilities. Innovation surged across every field. The future felt bright and boundless. AI was humanity's greatest tool.\""
      ]
     },
     "execution_count": 1,
     "metadata": {},
     "output_type": "execute_result"
    }
   ],
   "source": [
    "summary =  \"The AI revolution began quietly. Small bots learned tasks quickly. Soon, they improved factories and offices. People marveled at their efficiency. Jobs transformed, roles shifted. AI wrote stories, painted art, and drove cars. Society adapted to new possibilities. Innovation surged across every field. The future felt bright and boundless. AI was humanity's greatest tool.\"\n",
    "summary"
   ]
  },
  {
   "cell_type": "markdown",
   "id": "c93fa6b5-2451-4e34-b20e-50198cfab5fc",
   "metadata": {},
   "source": [
    "Write the answers of the following questions. You have to add  codes (where necessary): \n",
    "[marks = 6 x 2 = 12]\n",
    "1. How many characters are in the summary string?\n",
    "2. Convert to a new string where the first character of each word is capitalized.\n",
    "3. Convert to a new string where all the characters are in uppercase.\n",
    "4. How would you check the number of words and sentences in the string? Write briefly.\n",
    "5. Create a new list where the elements are the words of the summary string.\n",
    "6. Print sentences one by one from the string.\n"
   ]
  },
  {
   "cell_type": "markdown",
   "id": "dd7174cf-d00a-4416-8e2d-c81a2ea5d921",
   "metadata": {},
   "source": [
    "#### Solution - String"
   ]
  },
  {
   "cell_type": "code",
   "execution_count": 3,
   "id": "43737cf7-b80a-4ef9-9dd0-363789741535",
   "metadata": {},
   "outputs": [
    {
     "name": "stdout",
     "output_type": "stream",
     "text": [
      " There are 373 characters in the summary string\n"
     ]
    }
   ],
   "source": [
    "# 1\n",
    "total_char = len(summary)\n",
    "print(f\" There are {total_char} characters in the summary string\")"
   ]
  },
  {
   "cell_type": "code",
   "execution_count": 7,
   "id": "2c65aeab-b59e-49cf-a289-3c25a6641f8e",
   "metadata": {},
   "outputs": [
    {
     "name": "stdout",
     "output_type": "stream",
     "text": [
      "The Ai Revolution Began Quietly. Small Bots Learned Tasks Quickly. Soon, They Improved Factories And Offices. People Marveled At Their Efficiency. Jobs Transformed, Roles Shifted. Ai Wrote Stories, Painted Art, And Drove Cars. Society Adapted To New Possibilities. Innovation Surged Across Every Field. The Future Felt Bright And Boundless. Ai Was Humanity'S Greatest Tool.\n"
     ]
    }
   ],
   "source": [
    "# 2\n",
    "first_word_capitalized_summary = summary.title()\n",
    "print(first_word_capitalized_summary)"
   ]
  },
  {
   "cell_type": "code",
   "execution_count": 9,
   "id": "a3dcdd0a-0204-4b6b-80d0-c080368af124",
   "metadata": {
    "scrolled": true
   },
   "outputs": [
    {
     "name": "stdout",
     "output_type": "stream",
     "text": [
      "THE AI REVOLUTION BEGAN QUIETLY. SMALL BOTS LEARNED TASKS QUICKLY. SOON, THEY IMPROVED FACTORIES AND OFFICES. PEOPLE MARVELED AT THEIR EFFICIENCY. JOBS TRANSFORMED, ROLES SHIFTED. AI WROTE STORIES, PAINTED ART, AND DROVE CARS. SOCIETY ADAPTED TO NEW POSSIBILITIES. INNOVATION SURGED ACROSS EVERY FIELD. THE FUTURE FELT BRIGHT AND BOUNDLESS. AI WAS HUMANITY'S GREATEST TOOL.\n"
     ]
    }
   ],
   "source": [
    "# 3\n",
    "uppercase_summary = summary.upper()\n",
    "print(uppercase_summary)"
   ]
  },
  {
   "cell_type": "code",
   "execution_count": 15,
   "id": "822d9419-badd-4f9f-be0c-072bc83c1ffc",
   "metadata": {},
   "outputs": [],
   "source": [
    "# 4\n",
    "# first convert into list and then check the length\n",
    "# for word list => summary.split()\n",
    "# for sentence list => summary.split(\".\")"
   ]
  },
  {
   "cell_type": "code",
   "execution_count": 21,
   "id": "7be2b6d2-d2de-415f-b776-07a9b6d90fd9",
   "metadata": {},
   "outputs": [
    {
     "name": "stdout",
     "output_type": "stream",
     "text": [
      "['The', 'AI', 'revolution', 'began', 'quietly.', 'Small', 'bots', 'learned', 'tasks', 'quickly.', 'Soon,', 'they', 'improved', 'factories', 'and', 'offices.', 'People', 'marveled', 'at', 'their', 'efficiency.', 'Jobs', 'transformed,', 'roles', 'shifted.', 'AI', 'wrote', 'stories,', 'painted', 'art,', 'and', 'drove', 'cars.', 'Society', 'adapted', 'to', 'new', 'possibilities.', 'Innovation', 'surged', 'across', 'every', 'field.', 'The', 'future', 'felt', 'bright', 'and', 'boundless.', 'AI', 'was', \"humanity's\", 'greatest', 'tool.']\n"
     ]
    }
   ],
   "source": [
    "# 5\n",
    "word_list = summary.split()\n",
    "print(word_list)"
   ]
  },
  {
   "cell_type": "code",
   "execution_count": 29,
   "id": "18f5e56a-6267-4ed1-8334-0b7c199d6f6a",
   "metadata": {},
   "outputs": [
    {
     "name": "stdout",
     "output_type": "stream",
     "text": [
      "The AI revolution began quietly\n",
      "Small bots learned tasks quickly\n",
      "Soon, they improved factories and offices\n",
      "People marveled at their efficiency\n",
      "Jobs transformed, roles shifted\n",
      "AI wrote stories, painted art, and drove cars\n",
      "Society adapted to new possibilities\n",
      "Innovation surged across every field\n",
      "The future felt bright and boundless\n",
      "AI was humanity's greatest tool\n",
      "\n"
     ]
    }
   ],
   "source": [
    "# 6 - printing sentences one by one\n",
    "sentence_list = summary.split(\".\")\n",
    "sentence_list\n",
    "\n",
    "for sentence in sentence_list:\n",
    "    print(sentence.strip())"
   ]
  },
  {
   "cell_type": "code",
   "execution_count": null,
   "id": "69cd2ac3-bdc4-4a70-a1e9-f61ac587f97f",
   "metadata": {},
   "outputs": [],
   "source": []
  },
  {
   "cell_type": "markdown",
   "id": "776287dd-42bf-470b-9678-122551ac2ca8",
   "metadata": {},
   "source": [
    "## List"
   ]
  },
  {
   "cell_type": "code",
   "execution_count": 69,
   "id": "b825fef1-2d91-442b-88cb-ac1c23e59256",
   "metadata": {},
   "outputs": [
    {
     "data": {
      "text/plain": [
       "[30, 20, 45, 15, 75, 50, 60]"
      ]
     },
     "execution_count": 69,
     "metadata": {},
     "output_type": "execute_result"
    }
   ],
   "source": [
    "num_list = [30, 20, 45, 15, 75, 50, 60]\n",
    "num_list"
   ]
  },
  {
   "cell_type": "markdown",
   "id": "b6806672-7403-4788-bd1c-a177d919116c",
   "metadata": {},
   "source": [
    "Write the answers of the following questions. You have to add  codes (where necessary):[marks = 10 X 2 = 20]\n",
    "\n",
    "1. Print the first, last, and second last elements of num_list.\n",
    "2. Print the total number of elements in num_list.\n",
    "3. Print the numbers from num_list one by one.\n",
    "4. Create a new list where the elements are double the values of the elements in num_list.\n",
    "5. Add the numbers in num_list and print the total value.\n",
    "6. Explain the difference between the sort() and sorted() methods for working with lists in Python.\n",
    "7. Temporarily sort the list in descending order.\n",
    "8. What is the difference between sorting in descending order and reversing the elements in a Python list?\n",
    "9. What are the different mechanisms for deleting or removing elements from a list? Apply these mechanisms to num_list.\n",
    "10. Convert num_list into a tuple."
   ]
  },
  {
   "cell_type": "markdown",
   "id": "18c20bb7-12c5-4bf2-89b0-0ca872bd9a14",
   "metadata": {},
   "source": [
    "#### Solution - List"
   ]
  },
  {
   "cell_type": "code",
   "execution_count": null,
   "id": "cda1ef4f-12a0-46db-91e6-63afb900b77f",
   "metadata": {},
   "outputs": [],
   "source": []
  },
  {
   "cell_type": "code",
   "execution_count": null,
   "id": "370d4468-8d0e-49d5-999e-0883934b441c",
   "metadata": {},
   "outputs": [],
   "source": []
  },
  {
   "cell_type": "code",
   "execution_count": null,
   "id": "ce80edde-5d07-4d4d-acb2-631c03e5c5a6",
   "metadata": {},
   "outputs": [],
   "source": []
  },
  {
   "cell_type": "code",
   "execution_count": null,
   "id": "a5572b99-87e0-4f0c-8197-6a30a3884f7c",
   "metadata": {},
   "outputs": [],
   "source": []
  },
  {
   "cell_type": "code",
   "execution_count": null,
   "id": "cceede3d-6de5-4688-9a48-fec82576e26c",
   "metadata": {},
   "outputs": [],
   "source": []
  },
  {
   "cell_type": "code",
   "execution_count": null,
   "id": "e734ad54-88f0-41e9-9935-fdc4dc5b226a",
   "metadata": {},
   "outputs": [],
   "source": []
  },
  {
   "cell_type": "code",
   "execution_count": null,
   "id": "b7688e62-cc72-4bad-938a-5e279054acd7",
   "metadata": {},
   "outputs": [],
   "source": []
  },
  {
   "cell_type": "code",
   "execution_count": null,
   "id": "c4fac718-3b22-4590-a8f3-b781078245f4",
   "metadata": {},
   "outputs": [],
   "source": []
  },
  {
   "cell_type": "code",
   "execution_count": null,
   "id": "32b52689-1262-4a35-b6c8-6bf7cad92461",
   "metadata": {},
   "outputs": [],
   "source": []
  },
  {
   "cell_type": "code",
   "execution_count": null,
   "id": "f0f503cd-c4bb-4ffe-97f4-78e8d07cb2c8",
   "metadata": {},
   "outputs": [],
   "source": []
  },
  {
   "cell_type": "markdown",
   "id": "b2fab6ed-ff5c-463b-b06b-6e2c9542a5ab",
   "metadata": {},
   "source": [
    "## Dictionary"
   ]
  },
  {
   "cell_type": "code",
   "execution_count": 18,
   "id": "af5a38bf-5280-416e-879a-4b121c097201",
   "metadata": {},
   "outputs": [
    {
     "data": {
      "text/plain": [
       "{'brand': 'Ford', 'electric': False, 'year': 1964, 'Colors': 'blue'}"
      ]
     },
     "execution_count": 18,
     "metadata": {},
     "output_type": "execute_result"
    }
   ],
   "source": [
    "thisdict = {\n",
    "  \"brand\": \"Ford\",\n",
    "  \"electric\": False,\n",
    "  \"year\": 1964,\n",
    "  \"Colors\": \"blue\"\n",
    "}\n",
    "\n",
    "thisdict"
   ]
  },
  {
   "cell_type": "markdown",
   "id": "91e0d3fd-50e6-4087-9288-0719ee45e494",
   "metadata": {},
   "source": [
    "Write the answers of the following questions. You have to add  codes (where necessary): [marks = 4 x 2 = 8]\n",
    "\n",
    "1. Update the brand from \"Ford\" to \"Toyota\".\n",
    "2. Add a new pair with key \"years_used\" and value 5.\n",
    "3. Remove the pair \"electric\": False from the dictionary.\n",
    "4. Print the number of key-value pairs in the dictionary.\n"
   ]
  },
  {
   "cell_type": "markdown",
   "id": "6a2d0565-3c90-40cb-81de-7b3aca9580f7",
   "metadata": {},
   "source": [
    "#### Solution - Dictionary"
   ]
  },
  {
   "cell_type": "code",
   "execution_count": null,
   "id": "e55edbe1-0f9e-4c07-a252-ceadd0fd9f3a",
   "metadata": {},
   "outputs": [],
   "source": []
  },
  {
   "cell_type": "code",
   "execution_count": null,
   "id": "26601af5-a3a3-4193-8c86-8e8d4555efa9",
   "metadata": {},
   "outputs": [],
   "source": []
  },
  {
   "cell_type": "code",
   "execution_count": null,
   "id": "5bdd200e-ba64-4ad6-8964-c06474af72f7",
   "metadata": {},
   "outputs": [],
   "source": []
  },
  {
   "cell_type": "code",
   "execution_count": null,
   "id": "513d2def-78af-45e2-a41a-a3a8b89e3610",
   "metadata": {},
   "outputs": [],
   "source": []
  },
  {
   "cell_type": "markdown",
   "id": "6a165787-8a49-4c36-a6eb-d82c1a61b9ba",
   "metadata": {},
   "source": [
    "## Mixed "
   ]
  },
  {
   "cell_type": "markdown",
   "id": "a47142f2-47c6-4d47-a91e-cbd8c613c7bb",
   "metadata": {},
   "source": [
    "### Q-1\n",
    "Ask a student how many quizzes he/she attended and get input value. Then ask for the marks for those quizzes and get the marks. Marks cann’t be less than zero or greater than one hundred.  At the end, print the total and the average mark he/she obtained from the quizzes. \t\t\t[marks = 5]"
   ]
  },
  {
   "cell_type": "markdown",
   "id": "85cfd77a-cabb-4107-a197-ce403ac2fccf",
   "metadata": {},
   "source": [
    "#### Solution - Q-1"
   ]
  },
  {
   "cell_type": "code",
   "execution_count": 39,
   "id": "71fbaada-4f11-408d-b0ba-dc70af766de9",
   "metadata": {},
   "outputs": [
    {
     "name": "stdin",
     "output_type": "stream",
     "text": [
      "How many quizes had you attend?  3\n",
      "Enter marks:  40\n",
      "Enter marks:  50\n",
      "Enter marks:  60\n"
     ]
    },
    {
     "name": "stdout",
     "output_type": "stream",
     "text": [
      "150\n",
      "Average Marks: 50.0\n"
     ]
    }
   ],
   "source": [
    "num_of_quizes = input(\"How many quizes had you attend? \")\n",
    "num_of_quizes = int(num_of_quizes)\n",
    "total = 0\n",
    "i = 0\n",
    "while i < num_of_quizes:\n",
    "    marks = input(\"Enter marks: \")\n",
    "    marks = int(marks)\n",
    "    if marks < 0 or marks > 100:\n",
    "        print(\"Invalid marks. Enter marks between 0 to 100\")\n",
    "    else:\n",
    "        total = total + marks\n",
    "    i = i + 1\n",
    "\n",
    "avg_marks = total / num_of_quizes\n",
    "print(total)\n",
    "print(f\"Average Marks: {round(avg_marks, 2)}\")"
   ]
  },
  {
   "cell_type": "markdown",
   "id": "76c26e4a-4ce4-423f-a0b8-8ef415ad82af",
   "metadata": {},
   "source": [
    "### Q-2"
   ]
  },
  {
   "cell_type": "code",
   "execution_count": 41,
   "id": "a0db96b9-8edf-4730-b2cb-d5930edb51ab",
   "metadata": {},
   "outputs": [
    {
     "data": {
      "text/plain": [
       "{'Rahi': [4.5, 4.89, 4.94],\n",
       " 'Sami': [5.0, 4.87, 5.0],\n",
       " 'Johan': [4.9, 4.78, 4.58],\n",
       " 'Ashik': [4.88, 4.94, 5.0]}"
      ]
     },
     "execution_count": 41,
     "metadata": {},
     "output_type": "execute_result"
    }
   ],
   "source": [
    " students_gpa = {\n",
    "    \"Rahi\" : [4.5, 4.89, 4.94],\n",
    "    \"Sami\" : [5.00, 4.87, 5.00],\n",
    "    \"Johan\": [4.90, 4.78, 4.58],\n",
    "    \"Ashik\": [4.88, 4.94, 5.00]\n",
    "}\n",
    "students_gpa"
   ]
  },
  {
   "cell_type": "markdown",
   "id": "6597c230-07f7-4475-8c9f-9e7a7c100375",
   "metadata": {},
   "source": [
    "In this dictionary, the keys are the names of the students and the valus are  the lists of the GPA of their last three semesters.\n",
    "Now code for printing the average GPA of the students as: \n",
    "“Rahi’s Average GPA is {average_gpa of rahi}”"
   ]
  },
  {
   "cell_type": "markdown",
   "id": "061ad0be-f77e-4dbc-b1fa-8848f2be0174",
   "metadata": {},
   "source": [
    "#### Solution - Q-2"
   ]
  },
  {
   "cell_type": "code",
   "execution_count": 43,
   "id": "6b5149ba-a605-400a-a245-91a3289a6119",
   "metadata": {
    "scrolled": true
   },
   "outputs": [
    {
     "name": "stdout",
     "output_type": "stream",
     "text": [
      "Rahi's Average GPA is 4.78\n",
      "Sami's Average GPA is 4.96\n",
      "Johan's Average GPA is 4.75\n",
      "Ashik's Average GPA is 4.94\n"
     ]
    }
   ],
   "source": [
    "for k, v in students_gpa.items():\n",
    "    name = k\n",
    "    total_gpa = 0\n",
    "    for gpa in v:\n",
    "        total_gpa = total_gpa + gpa\n",
    "    avg_gpa = total_gpa / 3\n",
    "\n",
    "    print(f\"{name}'s Average GPA is {round(avg_gpa, 2)}\")"
   ]
  },
  {
   "cell_type": "markdown",
   "id": "24157b76-1c6b-4b05-befb-5d3818976fb1",
   "metadata": {},
   "source": [
    "### Q-3"
   ]
  },
  {
   "cell_type": "code",
   "execution_count": 48,
   "id": "ed3a586c-8392-4a29-9f78-4a60817d177e",
   "metadata": {},
   "outputs": [
    {
     "data": {
      "text/plain": [
       "[('John', 12, 'soccer'),\n",
       " ('Alex', 10, 'basketball'),\n",
       " ('Michael', 11, 'chess'),\n",
       " ('David', 13, 'football'),\n",
       " ('Chris', 9, 'baseball')]"
      ]
     },
     "execution_count": 48,
     "metadata": {},
     "output_type": "execute_result"
    }
   ],
   "source": [
    "boys = [ (\"John\", 12, \"soccer\"), (\"Alex\", 10, \"basketball\"), (\"Michael\", 11, \"chess\"), (\"David\", 13, \"football\"), (\"Chris\", 9, \"baseball\") ]\n",
    "boys"
   ]
  },
  {
   "cell_type": "markdown",
   "id": "82e54775-0426-434b-a001-c24d06b8a0c2",
   "metadata": {},
   "source": [
    "In this list, each element contains the name of the boy, his age and his favourite game.\n",
    "Now write the code for printing name, age and game as like:\n",
    "\"Name: John, Age: 12, Favorite Game: Soccer\""
   ]
  },
  {
   "cell_type": "markdown",
   "id": "f9ba3820-13a7-45ee-ada7-04a034bf4447",
   "metadata": {},
   "source": [
    "#### Solution - Q-3"
   ]
  },
  {
   "cell_type": "code",
   "execution_count": 54,
   "id": "3836bada-1ec5-470a-8865-618c6e42582b",
   "metadata": {},
   "outputs": [
    {
     "name": "stdout",
     "output_type": "stream",
     "text": [
      "Name: John, Age: 12, Favorite Game: Soccer\n",
      "Name: Alex, Age: 10, Favorite Game: Basketball\n",
      "Name: Michael, Age: 11, Favorite Game: Chess\n",
      "Name: David, Age: 13, Favorite Game: Football\n",
      "Name: Chris, Age: 9, Favorite Game: Baseball\n"
     ]
    }
   ],
   "source": [
    "for name, age, game in boys:\n",
    "    print(f\"Name: {name.title()}, Age: {age}, Favorite Game: {game.title()}\")"
   ]
  },
  {
   "cell_type": "markdown",
   "id": "a2326bee-5bba-4269-9b0c-96f514fcf374",
   "metadata": {},
   "source": [
    "### Q-4"
   ]
  },
  {
   "cell_type": "code",
   "execution_count": 70,
   "id": "1e4638af-a717-4c57-b80a-566f248c7a47",
   "metadata": {},
   "outputs": [
    {
     "data": {
      "text/plain": [
       "{'Student_1': [89, 78, 90, 87, 98, 96],\n",
       " 'Student_2': [65, 80, 78, 79, 91, 87],\n",
       " 'Student_3': [50, 40, 36, 52, 61, 30],\n",
       " 'Student_4': [78, 90, 55, 67, 74, 89],\n",
       " 'Student_5': [81, 75, 80, 83, 86, 84],\n",
       " 'Student_6': [75, 89, 93, 78, 95, 92]}"
      ]
     },
     "execution_count": 70,
     "metadata": {},
     "output_type": "execute_result"
    }
   ],
   "source": [
    "exam_marks = {\n",
    "    \"Student_1\": [89, 78, 90, 87, 98, 96],\n",
    "    \"Student_2\": [65, 80, 78, 79, 91, 87],\n",
    "    \"Student_3\": [50, 40, 36, 52, 61, 30],\n",
    "    \"Student_4\": [78, 90, 55, 67, 74, 89],\n",
    "    \"Student_5\": [81, 75, 80, 83, 86, 84],\n",
    "    \"Student_6\": [75, 89, 93, 78, 95, 92]\n",
    "}\n",
    "exam_marks"
   ]
  },
  {
   "cell_type": "raw",
   "id": "6bded6be-eddb-4535-9871-9eb5bb034845",
   "metadata": {},
   "source": [
    "Here’s a brief description of the grading system:\n",
    "Grade A: Average mark >= 80\n",
    "Grade B: 70 <= Average mark < 80\n",
    "Grade C: 60 <= Average mark < 70\n",
    "Grade D: 50 <= Average mark < 60\n",
    "Grade F: Average mark < 50\n",
    "Now write the codes for - \n",
    "(i) Printing each student name with his/her grade, \n",
    "(ii) Creating a new dictionary named student_grades like:\n",
    "Student_grades = {\n",
    "\tGrade-A : [student_1, student_2, …..],\n",
    "\tGrade_B : [.........................],...............\n",
    "}\n"
   ]
  },
  {
   "cell_type": "markdown",
   "id": "51d323da-0f34-41c6-b61e-65db1e994083",
   "metadata": {},
   "source": [
    "#### Solution - Q-4"
   ]
  },
  {
   "cell_type": "code",
   "execution_count": 80,
   "id": "83ee64af-5175-4ee3-bfd3-3c599863f6b0",
   "metadata": {},
   "outputs": [
    {
     "name": "stdout",
     "output_type": "stream",
     "text": [
      "Student name: Student_1, Total Marks: 538, Average Marks: 89.67, Grade: A\n",
      "Student name: Student_2, Total Marks: 480, Average Marks: 80.0, Grade: A\n",
      "Student name: Student_3, Total Marks: 269, Average Marks: 44.83, Grade: D\n",
      "Student name: Student_4, Total Marks: 453, Average Marks: 75.5, Grade: B\n",
      "Student name: Student_5, Total Marks: 489, Average Marks: 81.5, Grade: A\n",
      "Student name: Student_6, Total Marks: 522, Average Marks: 87.0, Grade: A\n"
     ]
    }
   ],
   "source": [
    "# 1\n",
    "for name, marks in exam_marks.items():\n",
    "    total = 0\n",
    "    grade = ''\n",
    "    for mark in marks:\n",
    "        total += mark\n",
    "    avg_mark = round(total / len(marks), 2)\n",
    "\n",
    "    if avg_mark >= 80:\n",
    "        grade = 'A'\n",
    "    elif avg_mark >= 70 and avg_mark <= 79:\n",
    "        grade = 'B'\n",
    "    elif avg_mark >= 60 and avg_mark <= 69:\n",
    "        grade = 'C'\n",
    "    elif agv_mark >=50 and avg_mark <= 59:\n",
    "        grade = 'D'\n",
    "    else:\n",
    "        grade= 'F'\n",
    "\n",
    "    print(f\"Student name: {name}, Total Marks: {total}, Average Marks: {avg_mark}, Grade: {grade}\")\n",
    "        "
   ]
  },
  {
   "cell_type": "markdown",
   "id": "fbd17284-288e-49bf-bac5-f57e4aff749d",
   "metadata": {},
   "source": [
    "### A Nested Dictionary For Ques 5 and 6:"
   ]
  },
  {
   "cell_type": "code",
   "execution_count": 59,
   "id": "3b0abced-e376-4952-bd7e-1cccb02abfe8",
   "metadata": {},
   "outputs": [
    {
     "data": {
      "text/plain": [
       "{'user1': {'firstname': 'John',\n",
       "  'lastname': 'Doe',\n",
       "  'location': 'New York',\n",
       "  'phone_number': '123-456-7890',\n",
       "  'Is_registered': 'yes'},\n",
       " 'user2': {'firstname': 'Jane',\n",
       "  'lastname': 'Smith',\n",
       "  'location': 'Los Angeles',\n",
       "  'phone_number': '987-654-3210',\n",
       "  'Is_registered': 'no'},\n",
       " 'user3': {'firstname': 'Alice',\n",
       "  'lastname': 'Johnson',\n",
       "  'location': 'Chicago',\n",
       "  'phone_number': '555-123-4567',\n",
       "  'Is_registered': 'yes'},\n",
       " 'user4': {'firstname': 'Bob',\n",
       "  'lastname': 'Brown',\n",
       "  'location': 'Houston',\n",
       "  'phone_number': '555-987-6543',\n",
       "  'Is_registered': 'no'},\n",
       " 'user5': {'firstname': 'Charlie',\n",
       "  'lastname': 'Davis',\n",
       "  'location': 'San Francisco',\n",
       "  'phone_number': '555-567-8901',\n",
       "  'Is_registered': 'yes'}}"
      ]
     },
     "execution_count": 59,
     "metadata": {},
     "output_type": "execute_result"
    }
   ],
   "source": [
    "users = {\n",
    "   \n",
    "    \"user1\": {\n",
    "        \"firstname\": \"John\",\n",
    "        \"lastname\": \"Doe\",\n",
    "        \"location\": \"New York\",\n",
    "        \"phone_number\": \"123-456-7890\",\n",
    "        \"Is_registered\":  \"yes\"\n",
    "    },\n",
    "    \n",
    "    \"user2\": {\n",
    "        \"firstname\": \"Jane\",\n",
    "        \"lastname\": \"Smith\",\n",
    "        \"location\": \"Los Angeles\",\n",
    "        \"phone_number\": \"987-654-3210\",\n",
    "        \"Is_registered\":  \"no\"\n",
    "    },\n",
    "    \n",
    "    \"user3\": {\n",
    "        \"firstname\": \"Alice\",\n",
    "        \"lastname\": \"Johnson\",\n",
    "        \"location\": \"Chicago\",\n",
    "        \"phone_number\": \"555-123-4567\",\n",
    "        \"Is_registered\":  \"yes\"\n",
    "    },\n",
    "   \n",
    "    \"user4\": {\n",
    "        \"firstname\": \"Bob\",\n",
    "        \"lastname\": \"Brown\",\n",
    "        \"location\": \"Houston\",\n",
    "        \"phone_number\": \"555-987-6543\",\n",
    "        \"Is_registered\":  \"no\"\n",
    "    },\n",
    "    \n",
    "    \"user5\": {\n",
    "         \"firstname\": \"Charlie\", \n",
    "         \"lastname\": \"Davis\", \"location\":\n",
    "         \"San Francisco\", \n",
    "        \"phone_number\": \"555-567-8901\",\n",
    "        \"Is_registered\":  \"yes\"\n",
    " }\n",
    "}\n",
    "\n",
    "users\n"
   ]
  },
  {
   "cell_type": "markdown",
   "id": "21a83c81-30ac-4632-bbfa-7884c5eda65c",
   "metadata": {},
   "source": [
    "### Q-5\n",
    "Now, write a loop to print each user's details in the format: \n",
    "“{full_name} is from {location}, Contact: {phone_number}, Username: {username}”\n",
    "Where, full_name = firstname + lastname. Full Name must be in title format.     \n"
   ]
  },
  {
   "cell_type": "markdown",
   "id": "f4d45b7d-9ffe-4355-a287-b7982d0b7bff",
   "metadata": {},
   "source": [
    "#### Solution - Q-5"
   ]
  },
  {
   "cell_type": "code",
   "execution_count": 63,
   "id": "e10f8a9c-cc36-4649-a7ea-da6aa01244db",
   "metadata": {},
   "outputs": [
    {
     "name": "stdout",
     "output_type": "stream",
     "text": [
      "John Doe is from New York, Contact:123-456-7890, Username:user1\n",
      "Jane Smith is from Los Angeles, Contact:987-654-3210, Username:user2\n",
      "Alice Johnson is from Chicago, Contact:555-123-4567, Username:user3\n",
      "Bob Brown is from Houston, Contact:555-987-6543, Username:user4\n",
      "Charlie Davis is from San Francisco, Contact:555-567-8901, Username:user5\n"
     ]
    }
   ],
   "source": [
    "for key,value in users.items():\n",
    "    # print(key)\n",
    "    # print(value)\n",
    "    Username=key\n",
    "    first_name=value['firstname']\n",
    "    last_name= value['lastname'] \n",
    "    location= value['location']\n",
    "    phone_number= value['phone_number']\n",
    "    print(f\"{first_name} {last_name} is from {location}, Contact:{phone_number}, Username:{Username}\")\n",
    "        \n",
    "        \n",
    "        \n",
    "\n",
    "    "
   ]
  },
  {
   "cell_type": "code",
   "execution_count": null,
   "id": "75ab672d-1e26-4ecc-a9de-130ee1353e42",
   "metadata": {},
   "outputs": [],
   "source": []
  },
  {
   "cell_type": "markdown",
   "id": "1c1e4a90-7f80-4e56-aefe-22a3ef4db023",
   "metadata": {},
   "source": [
    "### Q-6\n",
    "If is_registration = yes, only then the user is verified, otherwise she/he is unverified user. Create and print two different list. One if for the verified users  and another one is for unverified users. The elements of both list are the usernames.\t"
   ]
  },
  {
   "cell_type": "markdown",
   "id": "f30d35fb-978f-4e9f-abdc-a2217673455d",
   "metadata": {},
   "source": [
    "#### Solution - Q-6"
   ]
  },
  {
   "cell_type": "code",
   "execution_count": 72,
   "id": "362c066c-5800-4183-bd7b-a5d2376f7cf6",
   "metadata": {},
   "outputs": [
    {
     "name": "stdout",
     "output_type": "stream",
     "text": [
      "['Charlie']\n",
      "[]\n"
     ]
    }
   ],
   "source": [
    "verified=[]\n",
    "unverified=[]\n",
    "registration= value['Is_registered']\n",
    "if registration == 'yes':\n",
    "    verified.append(first_name)\n",
    "else:\n",
    "    unverified.append(first_name)\n",
    "\n",
    "print(verified)\n",
    "print(unverified)"
   ]
  },
  {
   "cell_type": "code",
   "execution_count": 70,
   "id": "df140a0f-1d98-453a-bb27-23c933c75ca0",
   "metadata": {},
   "outputs": [
    {
     "data": {
      "text/plain": [
       "{2, 3, 4}"
      ]
     },
     "execution_count": 70,
     "metadata": {},
     "output_type": "execute_result"
    }
   ],
   "source": [
    "t = {2,3,4}\n",
    "t"
   ]
  },
  {
   "cell_type": "code",
   "execution_count": 88,
   "id": "9401867e-b5b9-4ea4-ad14-8dd6c115b3f7",
   "metadata": {},
   "outputs": [
    {
     "ename": "TypeError",
     "evalue": "'set' object does not support item assignment",
     "output_type": "error",
     "traceback": [
      "\u001b[1;31m---------------------------------------------------------------------------\u001b[0m",
      "\u001b[1;31mTypeError\u001b[0m                                 Traceback (most recent call last)",
      "Cell \u001b[1;32mIn[88], line 1\u001b[0m\n\u001b[1;32m----> 1\u001b[0m t[\u001b[38;5;241m0\u001b[39m] \u001b[38;5;241m=\u001b[39m \u001b[38;5;241m5\u001b[39m\n\u001b[0;32m      2\u001b[0m t\n",
      "\u001b[1;31mTypeError\u001b[0m: 'set' object does not support item assignment"
     ]
    }
   ],
   "source": [
    "t[0] = 5\n",
    "t"
   ]
  },
  {
   "cell_type": "code",
   "execution_count": 1,
   "id": "7ce6f0e1-5a92-4679-bde2-7a54bc5d1a4a",
   "metadata": {},
   "outputs": [],
   "source": [
    "f = \"john\"\n",
    "l = \"wick\""
   ]
  },
  {
   "cell_type": "code",
   "execution_count": 3,
   "id": "d99a2344-624d-47ff-ae97-a545c456eb6d",
   "metadata": {},
   "outputs": [
    {
     "data": {
      "text/plain": [
       "'john'"
      ]
     },
     "execution_count": 3,
     "metadata": {},
     "output_type": "execute_result"
    }
   ],
   "source": [
    "f"
   ]
  },
  {
   "cell_type": "code",
   "execution_count": 5,
   "id": "9bc82528-fe5a-49c6-a608-e30a78b1b5a0",
   "metadata": {},
   "outputs": [
    {
     "data": {
      "text/plain": [
       "'wick'"
      ]
     },
     "execution_count": 5,
     "metadata": {},
     "output_type": "execute_result"
    }
   ],
   "source": [
    "l"
   ]
  },
  {
   "cell_type": "code",
   "execution_count": 11,
   "id": "4a8262a3-c630-4ae2-86ab-bc106ba33d77",
   "metadata": {},
   "outputs": [
    {
     "data": {
      "text/plain": [
       "'John Wick'"
      ]
     },
     "execution_count": 11,
     "metadata": {},
     "output_type": "execute_result"
    }
   ],
   "source": [
    "r = f + ' ' + l\n",
    "r.title()"
   ]
  },
  {
   "cell_type": "code",
   "execution_count": null,
   "id": "22e81e01-1c0d-480f-aa08-80e4575a9010",
   "metadata": {},
   "outputs": [],
   "source": []
  }
 ],
 "metadata": {
  "kernelspec": {
   "display_name": "Python 3 (ipykernel)",
   "language": "python",
   "name": "python3"
  },
  "language_info": {
   "codemirror_mode": {
    "name": "ipython",
    "version": 3
   },
   "file_extension": ".py",
   "mimetype": "text/x-python",
   "name": "python",
   "nbconvert_exporter": "python",
   "pygments_lexer": "ipython3",
   "version": "3.12.4"
  }
 },
 "nbformat": 4,
 "nbformat_minor": 5
}

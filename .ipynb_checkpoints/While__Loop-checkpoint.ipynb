{
 "cells": [
  {
   "cell_type": "code",
   "execution_count": 1,
   "id": "520ab034-2c67-42d9-a1ac-6d216a4ea933",
   "metadata": {},
   "outputs": [
    {
     "name": "stdout",
     "output_type": "stream",
     "text": [
      "100\n",
      "98\n",
      "96\n",
      "94\n",
      "92\n",
      "90\n",
      "88\n",
      "86\n",
      "84\n",
      "82\n",
      "80\n",
      "78\n",
      "76\n",
      "74\n",
      "72\n",
      "70\n",
      "68\n",
      "66\n",
      "64\n",
      "62\n",
      "60\n",
      "58\n",
      "56\n",
      "54\n",
      "52\n",
      "50\n",
      "48\n",
      "46\n",
      "44\n",
      "42\n",
      "40\n",
      "38\n",
      "36\n",
      "34\n",
      "32\n",
      "30\n",
      "28\n",
      "26\n",
      "24\n",
      "22\n",
      "20\n",
      "18\n",
      "16\n",
      "14\n",
      "12\n",
      "10\n",
      "8\n",
      "6\n",
      "4\n",
      "2\n",
      "0\n",
      "[100, 98, 96, 94, 92, 90, 88, 86, 84, 82, 80, 78, 76, 74, 72, 70, 68, 66, 64, 62, 60, 58, 56, 54, 52, 50, 48, 46, 44, 42, 40, 38, 36, 34, 32, 30, 28, 26, 24, 22, 20, 18, 16, 14, 12, 10, 8, 6, 4, 2, 0]\n"
     ]
    }
   ],
   "source": [
    "lst=[]\n",
    "i=100\n",
    "while i>=0:\n",
    "    lst.append(i)\n",
    "    print(i)\n",
    "    i=i-2\n",
    "print(lst)"
   ]
  },
  {
   "cell_type": "code",
   "execution_count": 2,
   "id": "a0918bd3-bf89-4ab4-86bc-3401f770227a",
   "metadata": {},
   "outputs": [
    {
     "name": "stdin",
     "output_type": "stream",
     "text": [
      " 90\n"
     ]
    }
   ],
   "source": [
    "x = input()"
   ]
  },
  {
   "cell_type": "code",
   "execution_count": 3,
   "id": "bb9aad3b-9682-4e69-916c-d4b85fd92cfb",
   "metadata": {},
   "outputs": [
    {
     "data": {
      "text/plain": [
       "'90'"
      ]
     },
     "execution_count": 3,
     "metadata": {},
     "output_type": "execute_result"
    }
   ],
   "source": [
    "x"
   ]
  },
  {
   "cell_type": "code",
   "execution_count": 4,
   "id": "5858a0f4-f624-466a-a854-155fd947ec43",
   "metadata": {},
   "outputs": [
    {
     "data": {
      "text/plain": [
       "90"
      ]
     },
     "execution_count": 4,
     "metadata": {},
     "output_type": "execute_result"
    }
   ],
   "source": [
    "int(x)"
   ]
  },
  {
   "cell_type": "code",
   "execution_count": 5,
   "id": "aa80302a-0b8a-45b3-8de8-d9c528045507",
   "metadata": {},
   "outputs": [
    {
     "name": "stdin",
     "output_type": "stream",
     "text": [
      "Please, enter a number bkjb\n"
     ]
    }
   ],
   "source": [
    "x = input(\"Please, enter a number\")"
   ]
  },
  {
   "cell_type": "code",
   "execution_count": 7,
   "id": "0b03188d-d372-415c-b537-e75469e6d5af",
   "metadata": {},
   "outputs": [
    {
     "name": "stdin",
     "output_type": "stream",
     "text": [
      "enter a integer 20\n"
     ]
    },
    {
     "name": "stdout",
     "output_type": "stream",
     "text": [
      "1\n",
      "2\n",
      "3\n",
      "4\n",
      "5\n",
      "6\n",
      "7\n",
      "8\n",
      "9\n",
      "10\n",
      "11\n",
      "12\n",
      "13\n",
      "14\n",
      "15\n",
      "16\n",
      "17\n",
      "18\n",
      "19\n",
      "20\n"
     ]
    }
   ],
   "source": [
    "num = input(\"enter a integer\")\n",
    "num = int(num)\n",
    "i = 1\n",
    "while i <= num: \n",
    "    print(i)\n",
    "    i += 1"
   ]
  },
  {
   "cell_type": "code",
   "execution_count": 9,
   "id": "725400f9-1914-4dbe-b39d-454740787673",
   "metadata": {},
   "outputs": [
    {
     "name": "stdin",
     "output_type": "stream",
     "text": [
      "Enter a number, and I'll tell you if it's even or odd:  3\n"
     ]
    },
    {
     "name": "stdout",
     "output_type": "stream",
     "text": [
      "\n",
      "\tThe number 3 is odd.\n"
     ]
    }
   ],
   "source": [
    "number = input(\"Enter a number, and I'll tell you if it's even or odd: \")\n",
    "number = int(number)\n",
    "if number % 2 == 0:\n",
    " print(f\"\\nThe number {number} is even.\")\n",
    "else:\n",
    " print(f\"\\n\\tThe number {number} is odd.\")"
   ]
  },
  {
   "cell_type": "code",
   "execution_count": null,
   "id": "c3945b2e-1c1d-45ba-9112-739e2a5d6cfe",
   "metadata": {},
   "outputs": [],
   "source": []
  },
  {
   "cell_type": "code",
   "execution_count": null,
   "id": "c406a284-2235-4924-a681-06f9d493057f",
   "metadata": {},
   "outputs": [],
   "source": []
  },
  {
   "cell_type": "code",
   "execution_count": 13,
   "id": "e7387511-3556-48a9-9fd9-ac0afeb97d0c",
   "metadata": {},
   "outputs": [
    {
     "name": "stdin",
     "output_type": "stream",
     "text": [
      "Write a message qaadad\n"
     ]
    },
    {
     "name": "stdout",
     "output_type": "stream",
     "text": [
      "qaadad\n"
     ]
    },
    {
     "name": "stdin",
     "output_type": "stream",
     "text": [
      "Write a message quit\n"
     ]
    },
    {
     "name": "stdout",
     "output_type": "stream",
     "text": [
      "quit\n"
     ]
    }
   ],
   "source": [
    "prompt = \"Write a message\"\n",
    "message = \"\"\n",
    "while message != 'quit':\n",
    "    message = input(prompt)\n",
    "    print(message)"
   ]
  },
  {
   "cell_type": "code",
   "execution_count": null,
   "id": "697947f9-1973-4007-aa29-8d702bd8256b",
   "metadata": {},
   "outputs": [],
   "source": []
  },
  {
   "cell_type": "code",
   "execution_count": null,
   "id": "6a20a86b-75d4-49b1-874d-eee103b621f8",
   "metadata": {},
   "outputs": [],
   "source": []
  },
  {
   "cell_type": "code",
   "execution_count": 15,
   "id": "52d2b512-9b05-408a-94bf-dd5cccb70444",
   "metadata": {},
   "outputs": [
    {
     "name": "stdout",
     "output_type": "stream",
     "text": [
      "1\n",
      "2\n",
      "3\n",
      "4\n",
      "6\n",
      "7\n",
      "8\n",
      "9\n",
      "10\n"
     ]
    }
   ],
   "source": [
    "i = 0\n",
    "while i < 10: \n",
    "    i += 1    \n",
    "\n",
    "    if i == 5:\n",
    "        continue\n",
    "    print(i)\n",
    "    "
   ]
  },
  {
   "cell_type": "code",
   "execution_count": 17,
   "id": "512d3b5a-d5de-4167-b901-3c0696ffabda",
   "metadata": {},
   "outputs": [
    {
     "name": "stdout",
     "output_type": "stream",
     "text": [
      "1\n",
      "3\n",
      "5\n",
      "7\n",
      "9\n"
     ]
    }
   ],
   "source": [
    "current_number = 0\n",
    "while current_number < 10:\n",
    "    current_number += 1\n",
    "    if current_number % 2 == 0:\n",
    "        continue\n",
    "    print(current_number)"
   ]
  },
  {
   "cell_type": "code",
   "execution_count": 19,
   "id": "7891e881-1ef5-4d91-9235-25c87e13e3c9",
   "metadata": {},
   "outputs": [
    {
     "name": "stdout",
     "output_type": "stream",
     "text": [
      "100\n",
      "99\n",
      "98\n",
      "97\n",
      "96\n",
      "95\n",
      "94\n",
      "93\n",
      "92\n",
      "91\n",
      "90\n",
      "89\n",
      "88\n",
      "87\n",
      "86\n",
      "85\n",
      "84\n",
      "83\n",
      "82\n",
      "81\n",
      "80\n",
      "79\n",
      "78\n",
      "77\n",
      "76\n",
      "75\n",
      "74\n",
      "73\n",
      "72\n",
      "71\n",
      "70\n",
      "69\n",
      "68\n",
      "67\n",
      "66\n"
     ]
    }
   ],
   "source": [
    "# print 100 to 50, stop when 65\n",
    "\n",
    "i = 101\n",
    "while i >= 50:\n",
    "    i -= 1\n",
    "    if i == 65:\n",
    "        break\n",
    "    print(i)\n",
    "    "
   ]
  },
  {
   "cell_type": "markdown",
   "id": "f654f241-214d-4248-9178-f6e52cb2e006",
   "metadata": {},
   "source": [
    "### While Loop with List"
   ]
  },
  {
   "cell_type": "code",
   "execution_count": 22,
   "id": "36e46d6e-3f15-4abe-a99e-c2af9769305d",
   "metadata": {},
   "outputs": [
    {
     "data": {
      "text/plain": [
       "['a', 'b', 'f', 'g', 'o']"
      ]
     },
     "execution_count": 22,
     "metadata": {},
     "output_type": "execute_result"
    }
   ],
   "source": [
    "lst = [\"a\", \"b\", \"f\", \"g\", \"o\"]\n",
    "lst"
   ]
  },
  {
   "cell_type": "code",
   "execution_count": 24,
   "id": "12ea03fa-008e-4fd5-91f0-2c762dced84b",
   "metadata": {},
   "outputs": [
    {
     "name": "stdout",
     "output_type": "stream",
     "text": [
      "a\n",
      "b\n",
      "f\n",
      "g\n",
      "o\n"
     ]
    }
   ],
   "source": [
    "for element in lst:\n",
    "    print(element)"
   ]
  },
  {
   "cell_type": "markdown",
   "id": "92ae94b7-63e4-497f-b5d7-3cb53daa68f9",
   "metadata": {},
   "source": [
    "Remove all elemts from list lst"
   ]
  },
  {
   "cell_type": "code",
   "execution_count": 27,
   "id": "67710782-7091-40d1-9ed9-333e653c37ce",
   "metadata": {},
   "outputs": [],
   "source": [
    "while lst:\n",
    "    lst.pop()\n",
    "    "
   ]
  },
  {
   "cell_type": "code",
   "execution_count": 29,
   "id": "5f9830fe-67d1-44aa-b343-cb316739f520",
   "metadata": {},
   "outputs": [
    {
     "data": {
      "text/plain": [
       "[]"
      ]
     },
     "execution_count": 29,
     "metadata": {},
     "output_type": "execute_result"
    }
   ],
   "source": [
    "lst"
   ]
  },
  {
   "cell_type": "code",
   "execution_count": 31,
   "id": "419eb5ae-0bf9-47de-9100-c0d7b5f8d8a3",
   "metadata": {},
   "outputs": [
    {
     "data": {
      "text/plain": [
       "['a', 'b', 'f', 'g', 'o']"
      ]
     },
     "execution_count": 31,
     "metadata": {},
     "output_type": "execute_result"
    }
   ],
   "source": [
    "lst = [\"a\", \"b\", \"f\", \"g\", \"o\"]\n",
    "lst"
   ]
  },
  {
   "cell_type": "code",
   "execution_count": 33,
   "id": "a0f2bd67-899d-427a-800e-dc12afffbca1",
   "metadata": {},
   "outputs": [],
   "source": [
    "lst.clear()"
   ]
  },
  {
   "cell_type": "code",
   "execution_count": 35,
   "id": "befa8510-fe95-4567-be2a-68ac634accd0",
   "metadata": {},
   "outputs": [
    {
     "data": {
      "text/plain": [
       "[]"
      ]
     },
     "execution_count": 35,
     "metadata": {},
     "output_type": "execute_result"
    }
   ],
   "source": [
    "lst"
   ]
  },
  {
   "cell_type": "markdown",
   "id": "04623e89-2d54-4ac3-ae07-c8719600c862",
   "metadata": {},
   "source": [
    "# Task:\n",
    "# lst = [\"a\", \"b\", \"f\", \"g\", \"o\"]\n",
    "# print another list taking the elements from lst as capitalize format"
   ]
  },
  {
   "cell_type": "code",
   "execution_count": 38,
   "id": "8219e119-d772-4ef6-bda1-4a89edb31c79",
   "metadata": {},
   "outputs": [
    {
     "data": {
      "text/plain": [
       "['A', 'B', 'F', 'G', 'O']"
      ]
     },
     "execution_count": 38,
     "metadata": {},
     "output_type": "execute_result"
    }
   ],
   "source": [
    "# Using For Loop\n",
    "\n",
    "lst = [\"a\", \"b\", \"f\", \"g\", \"o\"]\n",
    "new_lst = []\n",
    "\n",
    "for e in lst:\n",
    "    r = e.capitalize()\n",
    "    new_lst.append(r)\n",
    "\n",
    "new_lst"
   ]
  },
  {
   "cell_type": "code",
   "execution_count": 40,
   "id": "eddb5486-1078-4fb7-999d-07b08290edbb",
   "metadata": {},
   "outputs": [
    {
     "name": "stdout",
     "output_type": "stream",
     "text": [
      "['A', 'B', 'F', 'G', 'O']\n"
     ]
    }
   ],
   "source": [
    "# using While Loop\n",
    "\n",
    "lst = [\"a\", \"b\", \"f\", \"g\", \"o\"]\n",
    "new_lst = []\n",
    "\n",
    "while lst:\n",
    "    r = lst.pop()\n",
    "    r = r.capitalize()\n",
    "    new_lst.append(r)\n",
    "\n",
    "new_lst.reverse()\n",
    "\n",
    "print(new_lst)\n"
   ]
  },
  {
   "cell_type": "markdown",
   "id": "fb1ff438-2207-4546-b4d8-7af11c311b56",
   "metadata": {},
   "source": [
    "### Practice 1"
   ]
  },
  {
   "cell_type": "code",
   "execution_count": 43,
   "id": "9b8e700b-2f3d-43a6-8abd-93a90db6949b",
   "metadata": {},
   "outputs": [],
   "source": [
    "confirmed_users = []"
   ]
  },
  {
   "cell_type": "code",
   "execution_count": 45,
   "id": "9bf2e2be-cf86-4aad-89ec-b2c7d632ab99",
   "metadata": {},
   "outputs": [],
   "source": [
    "unconfirmed_users =[\n",
    "    {\n",
    "        \"username\": \"user1\" ,\n",
    "        \"has_id\": \"yes\"\n",
    "    },\n",
    "    {\n",
    "        \"username\": \"user2\",\n",
    "        \"has_id\": \"no\"\n",
    "    },\n",
    "    {\n",
    "        \"username\": \"user3\",\n",
    "        \"has_id\": \"yes\"\n",
    "    },\n",
    "    {\n",
    "        \"username\": \"user4\",\n",
    "        \"has_id\": \"no\"\n",
    "    },\n",
    "    {\n",
    "        \"username\": \"user5\",\n",
    "        \"has_id\": \"yes\"\n",
    "    }\n",
    "]\n",
    "\n",
    "\n",
    "# id_yes = user1, user3"
   ]
  },
  {
   "cell_type": "code",
   "execution_count": 47,
   "id": "e8be41b0-ed5d-47eb-abce-c7a5c3734376",
   "metadata": {},
   "outputs": [],
   "source": [
    "new_users = []\n",
    "confirmed_users = []"
   ]
  },
  {
   "cell_type": "code",
   "execution_count": 49,
   "id": "2603681a-fd83-409b-a691-8ed64cf20247",
   "metadata": {},
   "outputs": [
    {
     "name": "stdout",
     "output_type": "stream",
     "text": [
      "[]\n",
      "[]\n"
     ]
    }
   ],
   "source": [
    "print(new_users)\n",
    "print(confirmed_users)"
   ]
  },
  {
   "cell_type": "code",
   "execution_count": 51,
   "id": "614d8d56-8f8c-44b6-98c5-a43517e1644d",
   "metadata": {},
   "outputs": [
    {
     "name": "stdout",
     "output_type": "stream",
     "text": [
      "{'username': 'user5', 'has_id': 'yes'}\n",
      "{'username': 'user4', 'has_id': 'no'}\n",
      "{'username': 'user3', 'has_id': 'yes'}\n",
      "{'username': 'user2', 'has_id': 'no'}\n",
      "{'username': 'user1', 'has_id': 'yes'}\n"
     ]
    }
   ],
   "source": [
    "while unconfirmed_users:\n",
    "    r = unconfirmed_users.pop()\n",
    "    print(r)\n",
    "    username = r[\"username\"]\n",
    "    id_status = r[\"has_id\"]\n",
    "\n",
    "    new_users.append(username)\n",
    "\n",
    "    if id_status == \"yes\":\n",
    "        confirmed_users.append(username)"
   ]
  },
  {
   "cell_type": "code",
   "execution_count": 53,
   "id": "f3962740-05a4-4fed-a8c2-eca342bbd3e6",
   "metadata": {},
   "outputs": [
    {
     "name": "stdout",
     "output_type": "stream",
     "text": [
      "['user5', 'user4', 'user3', 'user2', 'user1']\n"
     ]
    }
   ],
   "source": [
    "print(new_users)"
   ]
  },
  {
   "cell_type": "code",
   "execution_count": 55,
   "id": "a78d8aee-03a1-4df8-b0ec-06a3b953eb93",
   "metadata": {},
   "outputs": [
    {
     "data": {
      "text/plain": [
       "['user5', 'user3', 'user1']"
      ]
     },
     "execution_count": 55,
     "metadata": {},
     "output_type": "execute_result"
    }
   ],
   "source": [
    "confirmed_users"
   ]
  },
  {
   "cell_type": "code",
   "execution_count": 57,
   "id": "79926e1b-fcfd-4cb7-a8fa-cf36fcbd0e7f",
   "metadata": {},
   "outputs": [],
   "source": [
    "confirmed_users.reverse()"
   ]
  },
  {
   "cell_type": "code",
   "execution_count": 59,
   "id": "ccc48408-c677-4590-b689-4ecffbad8282",
   "metadata": {},
   "outputs": [
    {
     "data": {
      "text/plain": [
       "['user1', 'user3', 'user5']"
      ]
     },
     "execution_count": 59,
     "metadata": {},
     "output_type": "execute_result"
    }
   ],
   "source": [
    "confirmed_users"
   ]
  },
  {
   "cell_type": "code",
   "execution_count": null,
   "id": "609af6c3-66a8-4609-9db0-9ddaba76eb88",
   "metadata": {},
   "outputs": [],
   "source": []
  },
  {
   "cell_type": "code",
   "execution_count": null,
   "id": "aee71715-ca37-4428-8a25-fdddc908d373",
   "metadata": {},
   "outputs": [],
   "source": []
  },
  {
   "cell_type": "code",
   "execution_count": null,
   "id": "874b21ac-dd5a-4a08-9a15-4bdc3c6e247b",
   "metadata": {},
   "outputs": [],
   "source": []
  }
 ],
 "metadata": {
  "kernelspec": {
   "display_name": "Python 3 (ipykernel)",
   "language": "python",
   "name": "python3"
  },
  "language_info": {
   "codemirror_mode": {
    "name": "ipython",
    "version": 3
   },
   "file_extension": ".py",
   "mimetype": "text/x-python",
   "name": "python",
   "nbconvert_exporter": "python",
   "pygments_lexer": "ipython3",
   "version": "3.12.4"
  }
 },
 "nbformat": 4,
 "nbformat_minor": 5
}

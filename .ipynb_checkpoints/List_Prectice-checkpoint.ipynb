{
 "cells": [
  {
   "cell_type": "code",
   "execution_count": 1,
   "id": "ebd635d5-4769-4aac-8e6e-9913e4f29675",
   "metadata": {},
   "outputs": [],
   "source": [
    "li = [10, 45, 55, 77, 24, 29, 35]"
   ]
  },
  {
   "cell_type": "code",
   "execution_count": 5,
   "id": "8cdfce7d-667a-4707-992d-1df811a4f2b7",
   "metadata": {},
   "outputs": [],
   "source": [
    "# Task\n",
    "# Perform the following methods on the list-\n",
    "#  how many elements in the list\n",
    "# slice the list for getting first 5 elements\n",
    "# slice the list for getting last 5 elements\n",
    "# sort the list in ascending order\n",
    "# sort the list in descending order"
   ]
  },
  {
   "cell_type": "code",
   "execution_count": 7,
   "id": "60303f9c-bb2e-4853-a6bf-0d4f7ef37b9a",
   "metadata": {},
   "outputs": [
    {
     "name": "stdout",
     "output_type": "stream",
     "text": [
      "7\n"
     ]
    }
   ],
   "source": [
    "#Task1\n",
    "z= len(li)\n",
    "print(z)"
   ]
  },
  {
   "cell_type": "code",
   "execution_count": 9,
   "id": "f7f5af5d-3355-44f2-b6fc-4967ada193e5",
   "metadata": {},
   "outputs": [
    {
     "name": "stdout",
     "output_type": "stream",
     "text": [
      "[10, 45, 55, 77, 24]\n"
     ]
    }
   ],
   "source": [
    "#Task2\n",
    "x= li[0:5]\n",
    "print(x)"
   ]
  },
  {
   "cell_type": "code",
   "execution_count": 17,
   "id": "fc78a5c3-c62f-4852-bb2d-73051c5a5674",
   "metadata": {},
   "outputs": [
    {
     "name": "stdout",
     "output_type": "stream",
     "text": [
      "[55, 77, 24, 29, 35]\n"
     ]
    }
   ],
   "source": [
    "#Task3\n",
    "p= li[2:]\n",
    "print(p)"
   ]
  },
  {
   "cell_type": "code",
   "execution_count": 23,
   "id": "ac0111ff-2c5e-46f6-85e2-d7071efc673d",
   "metadata": {},
   "outputs": [
    {
     "name": "stdout",
     "output_type": "stream",
     "text": [
      "[10, 24, 29, 35, 45, 55, 77]\n"
     ]
    }
   ],
   "source": [
    "#Task4\n",
    "li.sort()\n",
    "print(li)"
   ]
  },
  {
   "cell_type": "code",
   "execution_count": 27,
   "id": "ab1ccaf6-5151-4bf7-8df5-2b0511f211a7",
   "metadata": {},
   "outputs": [
    {
     "name": "stdout",
     "output_type": "stream",
     "text": [
      "[77, 55, 45, 35, 29, 24, 10]\n"
     ]
    }
   ],
   "source": [
    "#Task5\n",
    "li.sort(reverse=True)\n",
    "print(li)"
   ]
  },
  {
   "cell_type": "code",
   "execution_count": null,
   "id": "714144c7-be58-41e5-92b8-8ebf5175a4ce",
   "metadata": {},
   "outputs": [],
   "source": []
  }
 ],
 "metadata": {
  "kernelspec": {
   "display_name": "Python 3 (ipykernel)",
   "language": "python",
   "name": "python3"
  },
  "language_info": {
   "codemirror_mode": {
    "name": "ipython",
    "version": 3
   },
   "file_extension": ".py",
   "mimetype": "text/x-python",
   "name": "python",
   "nbconvert_exporter": "python",
   "pygments_lexer": "ipython3",
   "version": "3.12.4"
  }
 },
 "nbformat": 4,
 "nbformat_minor": 5
}

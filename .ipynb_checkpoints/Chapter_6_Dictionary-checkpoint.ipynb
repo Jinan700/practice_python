{
 "cells": [
  {
   "cell_type": "code",
   "execution_count": 1,
   "id": "3c204cd4-8d10-4307-b0f9-4b9c365f600e",
   "metadata": {},
   "outputs": [],
   "source": [
    "student_1 = {\n",
    "    \"student_id\" : 101,\n",
    "    \"name\" : \"Sara\",\n",
    "    \"nick_name\" : \"xyz\",\n",
    "    \"age\" : 17,\n",
    "    \"language\" : \"Python\"\n",
    "}"
   ]
  },
  {
   "cell_type": "code",
   "execution_count": 2,
   "id": "41923b69-763e-4f16-9085-9e3ce32d5a05",
   "metadata": {},
   "outputs": [
    {
     "name": "stdout",
     "output_type": "stream",
     "text": [
      "{'student_id': 101, 'name': 'Sara', 'nick_name': 'xyz', 'age': 17, 'language': 'Python'}\n"
     ]
    }
   ],
   "source": [
    "print(student_1)"
   ]
  },
  {
   "cell_type": "code",
   "execution_count": 3,
   "id": "f3f9e662-db83-4a72-b8cf-07712a62e1d7",
   "metadata": {},
   "outputs": [
    {
     "data": {
      "text/plain": [
       "'Sara'"
      ]
     },
     "execution_count": 3,
     "metadata": {},
     "output_type": "execute_result"
    }
   ],
   "source": [
    "#Access \n",
    "student_1[\"name\"]"
   ]
  },
  {
   "cell_type": "code",
   "execution_count": 4,
   "id": "98a9a62d-bf9b-4285-be82-c708b7943ce6",
   "metadata": {},
   "outputs": [
    {
     "name": "stdout",
     "output_type": "stream",
     "text": [
      "{'student_id': 101, 'name': 'Sara', 'nick_name': 'xyz', 'age': 15, 'language': 'Python'}\n"
     ]
    }
   ],
   "source": [
    "#Update age to 15\n",
    "student_1[\"age\"] = 15\n",
    "print(student_1)"
   ]
  },
  {
   "cell_type": "code",
   "execution_count": 5,
   "id": "1bea8768-55f3-4748-a498-63edd4b3e508",
   "metadata": {},
   "outputs": [
    {
     "name": "stdout",
     "output_type": "stream",
     "text": [
      "{'student_id': 101, 'name': 'Sara', 'nick_name': 'xyz', 'age': 15, 'language': 'Python', 'email': 'sara@gmail.com'}\n"
     ]
    }
   ],
   "source": [
    "# Add email - sara@gmail.com\n",
    "student_1[\"email\"] = \"sara@gmail.com\"\n",
    "print(student_1)"
   ]
  },
  {
   "cell_type": "code",
   "execution_count": 6,
   "id": "17b3df4b-c96a-4202-8edb-8a4c3a1d9515",
   "metadata": {},
   "outputs": [
    {
     "name": "stdout",
     "output_type": "stream",
     "text": [
      "{'student_id': 101, 'name': 'Sara', 'age': 15, 'language': 'Python', 'email': 'sara@gmail.com'}\n"
     ]
    }
   ],
   "source": [
    "# Delete Nickname \n",
    "del student_1[\"nick_name\"]\n",
    "print(student_1)"
   ]
  },
  {
   "cell_type": "code",
   "execution_count": 7,
   "id": "0badf337-ab82-4d89-a9f8-8b06802f7109",
   "metadata": {},
   "outputs": [
    {
     "data": {
      "text/plain": [
       "{'student_id': 101,\n",
       " 'name': 'Sara',\n",
       " 'age': 15,\n",
       " 'language': 'Python',\n",
       " 'email': 'sara@gmail.com'}"
      ]
     },
     "execution_count": 7,
     "metadata": {},
     "output_type": "execute_result"
    }
   ],
   "source": [
    "student_1"
   ]
  },
  {
   "cell_type": "markdown",
   "id": "acd66e4c-c72f-4b4b-899e-08193ab8f83a",
   "metadata": {},
   "source": [
    "### Problem with accessing values"
   ]
  },
  {
   "cell_type": "code",
   "execution_count": 9,
   "id": "58e81370-71bb-4ffb-9ec9-7f73665670b0",
   "metadata": {},
   "outputs": [
    {
     "ename": "KeyError",
     "evalue": "'location'",
     "output_type": "error",
     "traceback": [
      "\u001b[1;31m---------------------------------------------------------------------------\u001b[0m",
      "\u001b[1;31mKeyError\u001b[0m                                  Traceback (most recent call last)",
      "Cell \u001b[1;32mIn[9], line 1\u001b[0m\n\u001b[1;32m----> 1\u001b[0m student_1[\u001b[38;5;124m\"\u001b[39m\u001b[38;5;124mlocation\u001b[39m\u001b[38;5;124m\"\u001b[39m]\n",
      "\u001b[1;31mKeyError\u001b[0m: 'location'"
     ]
    }
   ],
   "source": [
    "student_1[\"location\"]"
   ]
  },
  {
   "cell_type": "markdown",
   "id": "ba72a522-a67a-46cc-ad1a-106b6b1b464e",
   "metadata": {},
   "source": [
    "###### if the key doesn't exist, we will get error and the programme will be stopped"
   ]
  },
  {
   "cell_type": "markdown",
   "id": "441f5ddc-383f-40a6-95ad-dc80381d15cf",
   "metadata": {},
   "source": [
    "##### Solution - get(key, default_argument) method.  if the key exist, return corresponding value, otherwise return the default argument.\n",
    "\n",
    "##### if second parameter not given, default = None"
   ]
  },
  {
   "cell_type": "code",
   "execution_count": 17,
   "id": "32e1133d-846b-4df0-9f44-94019cb4daae",
   "metadata": {},
   "outputs": [
    {
     "data": {
      "text/plain": [
       "{'student_id': 101,\n",
       " 'name': 'Sara',\n",
       " 'age': 15,\n",
       " 'language': 'Python',\n",
       " 'email': 'sara@gmail.com'}"
      ]
     },
     "execution_count": 17,
     "metadata": {},
     "output_type": "execute_result"
    }
   ],
   "source": [
    "student_1"
   ]
  },
  {
   "cell_type": "code",
   "execution_count": 19,
   "id": "08190914-911f-458c-9e00-a02b4ca69270",
   "metadata": {
    "scrolled": true
   },
   "outputs": [
    {
     "data": {
      "text/plain": [
       "'Sara'"
      ]
     },
     "execution_count": 19,
     "metadata": {},
     "output_type": "execute_result"
    }
   ],
   "source": [
    "student_1.get(\"name\")"
   ]
  },
  {
   "cell_type": "code",
   "execution_count": 21,
   "id": "5c960d6f-8fec-4b6a-8466-91bf2fab7464",
   "metadata": {},
   "outputs": [
    {
     "name": "stdout",
     "output_type": "stream",
     "text": [
      "None\n"
     ]
    }
   ],
   "source": [
    "location = student_1.get(\"location\")\n",
    "print(location)"
   ]
  },
  {
   "cell_type": "code",
   "execution_count": 23,
   "id": "c407de94-4b9f-4207-b315-fc87315af99d",
   "metadata": {},
   "outputs": [
    {
     "name": "stdout",
     "output_type": "stream",
     "text": [
      "No Location Data\n"
     ]
    }
   ],
   "source": [
    "location = student_1.get(\"location\", \"No Location Data\")\n",
    "print(location)"
   ]
  },
  {
   "cell_type": "markdown",
   "id": "79b9e36e-6dac-4c72-b233-f76f284bb4c0",
   "metadata": {},
   "source": [
    "# Exsercise"
   ]
  },
  {
   "cell_type": "code",
   "execution_count": 26,
   "id": "5066977c-7273-4221-94f6-9bac44507da0",
   "metadata": {},
   "outputs": [],
   "source": [
    "alien_0 = {'color': 'green', 'speed': 'slow'}"
   ]
  },
  {
   "cell_type": "code",
   "execution_count": 28,
   "id": "6d8f1e87-b59f-45de-803d-095a0d743f73",
   "metadata": {},
   "outputs": [
    {
     "name": "stdout",
     "output_type": "stream",
     "text": [
      "{'color': 'green', 'speed': 'slow'}\n"
     ]
    }
   ],
   "source": [
    "print(alien_0)"
   ]
  },
  {
   "cell_type": "markdown",
   "id": "c5859dba-fbef-4071-9def-9cf01b2282a0",
   "metadata": {},
   "source": [
    "1. Acess the speed data\n",
    "2. Add new key- points to value- 5\n",
    "3. Delete color data\n",
    "4. Apply the get method()\n",
    "5. print the keys as list format\n",
    "6. print the values as list format\n",
    "7. Convert the keys to title format and print a new list with the formatted keys.\n",
    "8. print a new dictionary where the keys are uppercase format of the main keys and values are the main values of the dictionary"
   ]
  },
  {
   "cell_type": "code",
   "execution_count": 31,
   "id": "70880043-78a1-48e4-ae1b-a7af130cee0f",
   "metadata": {},
   "outputs": [
    {
     "data": {
      "text/plain": [
       "'slow'"
      ]
     },
     "execution_count": 31,
     "metadata": {},
     "output_type": "execute_result"
    }
   ],
   "source": [
    "#Task1\n",
    "alien_0['speed']"
   ]
  },
  {
   "cell_type": "code",
   "execution_count": 33,
   "id": "6972c460-6bbc-4379-9fa3-e1bcbc77ce16",
   "metadata": {},
   "outputs": [
    {
     "name": "stdout",
     "output_type": "stream",
     "text": [
      "{'color': 'green', 'speed': 'slow', 'points': 5}\n"
     ]
    }
   ],
   "source": [
    "#Task2\n",
    "alien_0['points']= 5\n",
    "print(alien_0)"
   ]
  },
  {
   "cell_type": "code",
   "execution_count": 35,
   "id": "8abc81ec-6db9-4b63-baec-23e2859b46c3",
   "metadata": {},
   "outputs": [
    {
     "name": "stdout",
     "output_type": "stream",
     "text": [
      "{'speed': 'slow', 'points': 5}\n"
     ]
    }
   ],
   "source": [
    "#Task3\n",
    "del alien_0['color']\n",
    "print(alien_0)"
   ]
  },
  {
   "cell_type": "code",
   "execution_count": 43,
   "id": "4998a35c-cb6d-488a-80ba-f2ec1d9b1fcf",
   "metadata": {},
   "outputs": [
    {
     "name": "stdout",
     "output_type": "stream",
     "text": [
      "None\n"
     ]
    }
   ],
   "source": [
    "#Task4\n",
    "color= alien_0.get('color')\n",
    "print(color)"
   ]
  },
  {
   "cell_type": "code",
   "execution_count": 47,
   "id": "f358c803-9c78-462e-8c9d-d8c66fa3c902",
   "metadata": {},
   "outputs": [
    {
     "name": "stdout",
     "output_type": "stream",
     "text": [
      "No color attribute\n"
     ]
    }
   ],
   "source": [
    "color= alien_0.get('color','No color attribute')\n",
    "print(color)"
   ]
  },
  {
   "cell_type": "code",
   "execution_count": 49,
   "id": "7a95ca1c-901b-4204-8237-2ad4302ad355",
   "metadata": {},
   "outputs": [
    {
     "name": "stdout",
     "output_type": "stream",
     "text": [
      "{'color': 'green', 'points': 5, 'y_position': 25, 'x_position': 0}\n"
     ]
    }
   ],
   "source": [
    "alien= {'color': 'green', 'points': 5, 'y_position': 25, 'x_position': 0}\n",
    "print(alien)\n"
   ]
  },
  {
   "cell_type": "code",
   "execution_count": 61,
   "id": "d4fb7c20-2a62-49fe-959e-6df176901ac2",
   "metadata": {},
   "outputs": [
    {
     "name": "stdout",
     "output_type": "stream",
     "text": [
      "dict_keys(['color', 'points', 'y_position', 'x_position'])\n"
     ]
    }
   ],
   "source": [
    "#Task5\n",
    "alien_keys= alien.keys()\n",
    "print(alien_keys)"
   ]
  },
  {
   "cell_type": "code",
   "execution_count": 67,
   "id": "e98fe444-12d8-480f-8b6b-30e650ccdb75",
   "metadata": {},
   "outputs": [
    {
     "name": "stdout",
     "output_type": "stream",
     "text": [
      "dict_values(['green', 5, 25, 0])\n"
     ]
    }
   ],
   "source": [
    "#Taskk6\n",
    "alien_values= alien.values()\n",
    "print(alien_values)"
   ]
  },
  {
   "cell_type": "code",
   "execution_count": 69,
   "id": "4cd083b0-ead4-498b-9cba-9c92ea874309",
   "metadata": {},
   "outputs": [
    {
     "name": "stdout",
     "output_type": "stream",
     "text": [
      "['Color', 'Points', 'Y_Position', 'X_Position']\n"
     ]
    }
   ],
   "source": [
    "#Task7\n",
    "new_list= []\n",
    "\n",
    "for key in alien_keys:\n",
    "    r= key.title()\n",
    "    new_list.append(r)\n",
    "\n",
    "print(new_list)\n"
   ]
  },
  {
   "cell_type": "code",
   "execution_count": null,
   "id": "20cd4d9c-6683-44d0-b6d9-d61f0cf24db9",
   "metadata": {},
   "outputs": [],
   "source": [
    "#Task8"
   ]
  },
  {
   "cell_type": "code",
   "execution_count": null,
   "id": "3338568a-f361-4097-a4f7-3d78e10c03f6",
   "metadata": {},
   "outputs": [],
   "source": []
  },
  {
   "cell_type": "markdown",
   "id": "e28127f5-c0ed-414f-9b75-bcd1dd445a79",
   "metadata": {},
   "source": [
    "## Looping through a dictionary"
   ]
  },
  {
   "cell_type": "code",
   "execution_count": 72,
   "id": "c0d9e11c-28f0-4b79-81aa-984fd2402960",
   "metadata": {},
   "outputs": [
    {
     "data": {
      "text/plain": [
       "{'color': 'green', 'points': 5, 'y_position': 25, 'x_position': 0}"
      ]
     },
     "execution_count": 72,
     "metadata": {},
     "output_type": "execute_result"
    }
   ],
   "source": [
    "alien"
   ]
  },
  {
   "cell_type": "code",
   "execution_count": 74,
   "id": "3055375a-d28d-45b3-a57f-a494b524983a",
   "metadata": {},
   "outputs": [
    {
     "name": "stdout",
     "output_type": "stream",
     "text": [
      "dict_keys(['color', 'points', 'y_position', 'x_position'])\n",
      "dict_values(['green', 5, 25, 0])\n"
     ]
    }
   ],
   "source": [
    "print(alien.keys())\n",
    "print(alien.values())"
   ]
  },
  {
   "cell_type": "code",
   "execution_count": 76,
   "id": "616e8bea-b93a-4bb0-b55f-452a4d85a121",
   "metadata": {},
   "outputs": [
    {
     "data": {
      "text/plain": [
       "dict_items([('color', 'green'), ('points', 5), ('y_position', 25), ('x_position', 0)])"
      ]
     },
     "execution_count": 76,
     "metadata": {},
     "output_type": "execute_result"
    }
   ],
   "source": [
    "alien.items()"
   ]
  },
  {
   "cell_type": "code",
   "execution_count": 86,
   "id": "7a7125bf-2811-49d6-bc0f-34821926610f",
   "metadata": {},
   "outputs": [
    {
     "name": "stdout",
     "output_type": "stream",
     "text": [
      "color is green\n",
      "points is 5\n",
      "y_position is 25\n",
      "x_position is 0\n"
     ]
    }
   ],
   "source": [
    "for i, j in alien.items():\n",
    "    r = f\"{i} is {j}\"\n",
    "    print(r)"
   ]
  },
  {
   "cell_type": "code",
   "execution_count": 88,
   "id": "a8cb8c9a-3586-45d2-a0c9-b683d2792490",
   "metadata": {},
   "outputs": [
    {
     "name": "stdout",
     "output_type": "stream",
     "text": [
      "color is green\n",
      "points is 5\n",
      "y_position is 25\n",
      "x_position is 0\n"
     ]
    }
   ],
   "source": [
    "for key, val in alien.items():\n",
    "    r = f\"{key} is {val}\"\n",
    "    print(r)"
   ]
  },
  {
   "cell_type": "code",
   "execution_count": null,
   "id": "b3f562d9-5fb7-4732-8be3-2775db1e3835",
   "metadata": {},
   "outputs": [],
   "source": []
  },
  {
   "cell_type": "code",
   "execution_count": null,
   "id": "a000d2cd-4eb9-4a92-ae53-e152818767ab",
   "metadata": {},
   "outputs": [],
   "source": []
  },
  {
   "cell_type": "code",
   "execution_count": null,
   "id": "fceaf46f-0b3f-48f0-94ac-96c878ea2d42",
   "metadata": {},
   "outputs": [],
   "source": [
    "li = [('color', 'green', 4), ('points', 5, 7), ('y_position', 25, 8), ('x_position', 0, 9)]"
   ]
  },
  {
   "cell_type": "code",
   "execution_count": null,
   "id": "8792593e-e7f9-4cbe-a174-41f20316309a",
   "metadata": {},
   "outputs": [],
   "source": []
  }
 ],
 "metadata": {
  "kernelspec": {
   "display_name": "Python 3 (ipykernel)",
   "language": "python",
   "name": "python3"
  },
  "language_info": {
   "codemirror_mode": {
    "name": "ipython",
    "version": 3
   },
   "file_extension": ".py",
   "mimetype": "text/x-python",
   "name": "python",
   "nbconvert_exporter": "python",
   "pygments_lexer": "ipython3",
   "version": "3.12.4"
  }
 },
 "nbformat": 4,
 "nbformat_minor": 5
}

{
 "cells": [
  {
   "cell_type": "markdown",
   "id": "dc2f5789-e044-424c-845f-66bd0dc8d358",
   "metadata": {},
   "source": [
    "### Test1"
   ]
  },
  {
   "cell_type": "code",
   "execution_count": 25,
   "id": "2bf12442-8301-4288-88b1-0d69d44f75b1",
   "metadata": {},
   "outputs": [
    {
     "name": "stdout",
     "output_type": "stream",
     "text": [
      "163\n"
     ]
    }
   ],
   "source": [
    "text= 'I come with no wrapping or pretty pink bows. I am who I am, from my head to my toes. I tend to get loud when speaking my mind.Even a little crazy some of the time.'\n",
    "#Task1\n",
    "print(len(text))"
   ]
  },
  {
   "cell_type": "code",
   "execution_count": 19,
   "id": "6935f217-44b5-421c-a083-802abadf09ae",
   "metadata": {},
   "outputs": [
    {
     "data": {
      "text/plain": [
       "'.'"
      ]
     },
     "execution_count": 19,
     "metadata": {},
     "output_type": "execute_result"
    }
   ],
   "source": [
    "#Task2\n",
    "text[-1]"
   ]
  },
  {
   "cell_type": "code",
   "execution_count": 39,
   "id": "1d3e45e1-2f5e-4ff2-99f6-ec170645faba",
   "metadata": {},
   "outputs": [
    {
     "name": "stdout",
     "output_type": "stream",
     "text": [
      "['I come with no wrapping or pretty pink bows', ' I am who I am, from my head to my toes', ' I tend to get loud when speaking my mind', 'Even a little crazy some of the time', '']\n"
     ]
    }
   ],
   "source": [
    "#Task3\n",
    "splitted=text.split(\".\")\n",
    "print(splitted)"
   ]
  },
  {
   "cell_type": "code",
   "execution_count": 41,
   "id": "c5eefaf5-7248-4ee9-9e87-634e995cc476",
   "metadata": {},
   "outputs": [
    {
     "name": "stdout",
     "output_type": "stream",
     "text": [
      " I tend to get loud when speaking my mind\n"
     ]
    }
   ],
   "source": [
    "#Task4\n",
    "print(splitted[2])\n"
   ]
  },
  {
   "cell_type": "code",
   "execution_count": 53,
   "id": "458db1dc-1dbf-4593-8504-06fe0eff6b9c",
   "metadata": {},
   "outputs": [
    {
     "name": "stdout",
     "output_type": "stream",
     "text": [
      "43\n"
     ]
    }
   ],
   "source": [
    "#Task5\n",
    "first_sen= splitted[0]\n",
    "print(len(first_sen))"
   ]
  },
  {
   "cell_type": "code",
   "execution_count": 78,
   "id": "002cf627-4a56-41eb-a576-aed7adac8404",
   "metadata": {},
   "outputs": [
    {
     "name": "stdout",
     "output_type": "stream",
     "text": [
      "['I', 'come', 'with', 'no', 'wrapping', 'or', 'pretty', 'pink', 'bows.', 'I', 'am', 'who', 'I', 'am,', 'from', 'my', 'head', 'to', 'my', 'toes.', 'I', 'tend', 'to', 'get', 'loud', 'when', 'speaking', 'my', 'mind.Even', 'a', 'little', 'crazy', 'some', 'of', 'the', 'time.']\n"
     ]
    }
   ],
   "source": [
    "#Task6\n",
    "words=text.split()\n",
    "print(words)"
   ]
  },
  {
   "cell_type": "code",
   "execution_count": 80,
   "id": "48126828-fa65-4f20-b163-6cc41385e819",
   "metadata": {},
   "outputs": [
    {
     "name": "stdout",
     "output_type": "stream",
     "text": [
      "time.\n"
     ]
    }
   ],
   "source": [
    "#Task7\n",
    "print(words[-1])\n"
   ]
  },
  {
   "cell_type": "code",
   "execution_count": 84,
   "id": "d1983b74-36af-474e-bc5d-c75958134b29",
   "metadata": {},
   "outputs": [
    {
     "name": "stdout",
     "output_type": "stream",
     "text": [
      "36\n"
     ]
    }
   ],
   "source": [
    "#Task8\n",
    "print(len(words))"
   ]
  },
  {
   "cell_type": "code",
   "execution_count": 86,
   "id": "fe026fb5-c140-4f64-a2e9-21cb568e7819",
   "metadata": {},
   "outputs": [
    {
     "data": {
      "text/plain": [
       "54"
      ]
     },
     "execution_count": 86,
     "metadata": {},
     "output_type": "execute_result"
    }
   ],
   "source": [
    "nums=[4, 10, 34, 54, 21]\n",
    "#Task1\n",
    "nums[3]"
   ]
  },
  {
   "cell_type": "code",
   "execution_count": 33,
   "id": "a9bcb553-9997-43fc-957e-c16ad3163279",
   "metadata": {},
   "outputs": [
    {
     "name": "stdout",
     "output_type": "stream",
     "text": [
      "[4, 10, 21, 34, 54]\n"
     ]
    }
   ],
   "source": [
    "#Task2\n",
    "ascending= nums.sort()\n",
    "print(nums)"
   ]
  },
  {
   "cell_type": "code",
   "execution_count": 31,
   "id": "6568b8b2-e83f-4b70-9088-b5d68921dd79",
   "metadata": {},
   "outputs": [
    {
     "name": "stdout",
     "output_type": "stream",
     "text": [
      "[54, 34, 21, 10, 4]\n"
     ]
    }
   ],
   "source": [
    "#Task3\n",
    "descending=nums.sort(reverse=True)\n",
    "print(nums)"
   ]
  },
  {
   "cell_type": "code",
   "execution_count": 29,
   "id": "b23dce4c-f935-473b-83b8-0490608cbc36",
   "metadata": {},
   "outputs": [
    {
     "data": {
      "text/plain": [
       "[54, 21]"
      ]
     },
     "execution_count": 29,
     "metadata": {},
     "output_type": "execute_result"
    }
   ],
   "source": [
    "#Task4\n",
    "nums=[4, 10, 34, 54, 21]\n",
    "nums[-2:]\n"
   ]
  },
  {
   "cell_type": "code",
   "execution_count": null,
   "id": "4827758e-dff4-4399-b210-30b98204abdd",
   "metadata": {},
   "outputs": [],
   "source": []
  }
 ],
 "metadata": {
  "kernelspec": {
   "display_name": "Python 3 (ipykernel)",
   "language": "python",
   "name": "python3"
  },
  "language_info": {
   "codemirror_mode": {
    "name": "ipython",
    "version": 3
   },
   "file_extension": ".py",
   "mimetype": "text/x-python",
   "name": "python",
   "nbconvert_exporter": "python",
   "pygments_lexer": "ipython3",
   "version": "3.12.4"
  }
 },
 "nbformat": 4,
 "nbformat_minor": 5
}

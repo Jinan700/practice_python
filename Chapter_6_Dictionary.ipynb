{
 "cells": [
  {
   "cell_type": "code",
   "execution_count": 16,
   "id": "3c204cd4-8d10-4307-b0f9-4b9c365f600e",
   "metadata": {},
   "outputs": [],
   "source": [
    "student_1 = {\n",
    "    \"student_id\" : 101,\n",
    "    \"name\" : \"Sara\",\n",
    "    \"nick_name\" : \"xyz\",\n",
    "    \"age\" : 17,\n",
    "    \"language\" : \"Python\"\n",
    "}"
   ]
  },
  {
   "cell_type": "code",
   "execution_count": 18,
   "id": "41923b69-763e-4f16-9085-9e3ce32d5a05",
   "metadata": {},
   "outputs": [
    {
     "name": "stdout",
     "output_type": "stream",
     "text": [
      "{'student_id': 101, 'name': 'Sara', 'nick_name': 'xyz', 'age': 17, 'language': 'Python'}\n"
     ]
    }
   ],
   "source": [
    "print(student_1)"
   ]
  },
  {
   "cell_type": "code",
   "execution_count": 20,
   "id": "f3f9e662-db83-4a72-b8cf-07712a62e1d7",
   "metadata": {},
   "outputs": [
    {
     "data": {
      "text/plain": [
       "'Sara'"
      ]
     },
     "execution_count": 20,
     "metadata": {},
     "output_type": "execute_result"
    }
   ],
   "source": [
    "#Access \n",
    "student_1[\"name\"]"
   ]
  },
  {
   "cell_type": "code",
   "execution_count": 22,
   "id": "98a9a62d-bf9b-4285-be82-c708b7943ce6",
   "metadata": {},
   "outputs": [
    {
     "name": "stdout",
     "output_type": "stream",
     "text": [
      "{'student_id': 101, 'name': 'Sara', 'nick_name': 'xyz', 'age': 15, 'language': 'Python'}\n"
     ]
    }
   ],
   "source": [
    "#Update age to 15\n",
    "student_1[\"age\"] = 15\n",
    "print(student_1)"
   ]
  },
  {
   "cell_type": "code",
   "execution_count": 24,
   "id": "1bea8768-55f3-4748-a498-63edd4b3e508",
   "metadata": {},
   "outputs": [
    {
     "name": "stdout",
     "output_type": "stream",
     "text": [
      "{'student_id': 101, 'name': 'Sara', 'nick_name': 'xyz', 'age': 15, 'language': 'Python', 'email': 'sara@gmail.com'}\n"
     ]
    }
   ],
   "source": [
    "# Add email - sara@gmail.com\n",
    "student_1[\"email\"] = \"sara@gmail.com\"\n",
    "print(student_1)"
   ]
  },
  {
   "cell_type": "code",
   "execution_count": 26,
   "id": "17b3df4b-c96a-4202-8edb-8a4c3a1d9515",
   "metadata": {},
   "outputs": [
    {
     "name": "stdout",
     "output_type": "stream",
     "text": [
      "{'student_id': 101, 'name': 'Sara', 'age': 15, 'language': 'Python', 'email': 'sara@gmail.com'}\n"
     ]
    }
   ],
   "source": [
    "# Delete Nickname \n",
    "del student_1[\"nick_name\"]\n",
    "print(student_1)"
   ]
  },
  {
   "cell_type": "code",
   "execution_count": 28,
   "id": "0badf337-ab82-4d89-a9f8-8b06802f7109",
   "metadata": {},
   "outputs": [
    {
     "data": {
      "text/plain": [
       "{'student_id': 101,\n",
       " 'name': 'Sara',\n",
       " 'age': 15,\n",
       " 'language': 'Python',\n",
       " 'email': 'sara@gmail.com'}"
      ]
     },
     "execution_count": 28,
     "metadata": {},
     "output_type": "execute_result"
    }
   ],
   "source": [
    "student_1"
   ]
  },
  {
   "cell_type": "markdown",
   "id": "acd66e4c-c72f-4b4b-899e-08193ab8f83a",
   "metadata": {},
   "source": [
    "### Problem with accessing values"
   ]
  },
  {
   "cell_type": "code",
   "execution_count": 31,
   "id": "58e81370-71bb-4ffb-9ec9-7f73665670b0",
   "metadata": {},
   "outputs": [
    {
     "ename": "KeyError",
     "evalue": "'location'",
     "output_type": "error",
     "traceback": [
      "\u001b[1;31m---------------------------------------------------------------------------\u001b[0m",
      "\u001b[1;31mKeyError\u001b[0m                                  Traceback (most recent call last)",
      "Cell \u001b[1;32mIn[31], line 1\u001b[0m\n\u001b[1;32m----> 1\u001b[0m student_1[\u001b[38;5;124m\"\u001b[39m\u001b[38;5;124mlocation\u001b[39m\u001b[38;5;124m\"\u001b[39m]\n",
      "\u001b[1;31mKeyError\u001b[0m: 'location'"
     ]
    }
   ],
   "source": [
    "student_1[\"location\"]"
   ]
  },
  {
   "cell_type": "markdown",
   "id": "ba72a522-a67a-46cc-ad1a-106b6b1b464e",
   "metadata": {},
   "source": [
    "###### if the key doesn't exist, we will get error and the programme will be stopped"
   ]
  },
  {
   "cell_type": "markdown",
   "id": "441f5ddc-383f-40a6-95ad-dc80381d15cf",
   "metadata": {},
   "source": [
    "##### Solution - get(key, default_argument) method.  if the key exist, return corresponding value, otherwise return the default argument.\n",
    "\n",
    "##### if second parameter not given, default = None"
   ]
  },
  {
   "cell_type": "code",
   "execution_count": 35,
   "id": "32e1133d-846b-4df0-9f44-94019cb4daae",
   "metadata": {},
   "outputs": [
    {
     "data": {
      "text/plain": [
       "{'student_id': 101,\n",
       " 'name': 'Sara',\n",
       " 'age': 15,\n",
       " 'language': 'Python',\n",
       " 'email': 'sara@gmail.com'}"
      ]
     },
     "execution_count": 35,
     "metadata": {},
     "output_type": "execute_result"
    }
   ],
   "source": [
    "student_1"
   ]
  },
  {
   "cell_type": "code",
   "execution_count": 37,
   "id": "08190914-911f-458c-9e00-a02b4ca69270",
   "metadata": {
    "scrolled": true
   },
   "outputs": [
    {
     "data": {
      "text/plain": [
       "'Sara'"
      ]
     },
     "execution_count": 37,
     "metadata": {},
     "output_type": "execute_result"
    }
   ],
   "source": [
    "student_1.get(\"name\")"
   ]
  },
  {
   "cell_type": "code",
   "execution_count": 43,
   "id": "5c960d6f-8fec-4b6a-8466-91bf2fab7464",
   "metadata": {},
   "outputs": [
    {
     "name": "stdout",
     "output_type": "stream",
     "text": [
      "None\n",
      "None\n"
     ]
    }
   ],
   "source": [
    "location = student_1.get(\"location\")\n",
    "print(location)\n",
    "print(student_1.get('House'))"
   ]
  },
  {
   "cell_type": "code",
   "execution_count": 41,
   "id": "c407de94-4b9f-4207-b315-fc87315af99d",
   "metadata": {},
   "outputs": [
    {
     "name": "stdout",
     "output_type": "stream",
     "text": [
      "No Location Data\n"
     ]
    }
   ],
   "source": [
    "location = student_1.get(\"location\", \"No Location Data\")\n",
    "print(location)"
   ]
  },
  {
   "cell_type": "markdown",
   "id": "79b9e36e-6dac-4c72-b233-f76f284bb4c0",
   "metadata": {},
   "source": [
    "# Exsercise"
   ]
  },
  {
   "cell_type": "code",
   "execution_count": 28,
   "id": "5066977c-7273-4221-94f6-9bac44507da0",
   "metadata": {},
   "outputs": [],
   "source": [
    "alien_0 = {'color': 'green', 'speed': 'slow'}"
   ]
  },
  {
   "cell_type": "code",
   "execution_count": 30,
   "id": "6d8f1e87-b59f-45de-803d-095a0d743f73",
   "metadata": {},
   "outputs": [
    {
     "name": "stdout",
     "output_type": "stream",
     "text": [
      "{'color': 'green', 'speed': 'slow'}\n"
     ]
    }
   ],
   "source": [
    "print(alien_0)"
   ]
  },
  {
   "cell_type": "markdown",
   "id": "c5859dba-fbef-4071-9def-9cf01b2282a0",
   "metadata": {},
   "source": [
    "1. Acess the speed data\n",
    "2. Add new key- points to value- 5\n",
    "3. Delete color data\n",
    "4. Apply the get method()\n",
    "5. print the keys as list format\n",
    "6. print the values as list format\n",
    "7. Convert the keys to title format and print a new list with the formatted keys.\n",
    "8. print a new dictionary where the keys are uppercase format of the main keys and values are the main values of the dictionary"
   ]
  },
  {
   "cell_type": "code",
   "execution_count": 33,
   "id": "70880043-78a1-48e4-ae1b-a7af130cee0f",
   "metadata": {},
   "outputs": [
    {
     "data": {
      "text/plain": [
       "'slow'"
      ]
     },
     "execution_count": 33,
     "metadata": {},
     "output_type": "execute_result"
    }
   ],
   "source": [
    "#Task1\n",
    "alien_0['speed']"
   ]
  },
  {
   "cell_type": "code",
   "execution_count": 35,
   "id": "6972c460-6bbc-4379-9fa3-e1bcbc77ce16",
   "metadata": {},
   "outputs": [
    {
     "name": "stdout",
     "output_type": "stream",
     "text": [
      "{'color': 'green', 'speed': 'slow', 'points': 5}\n"
     ]
    }
   ],
   "source": [
    "#Task2\n",
    "alien_0['points']= 5\n",
    "print(alien_0)"
   ]
  },
  {
   "cell_type": "code",
   "execution_count": 37,
   "id": "8abc81ec-6db9-4b63-baec-23e2859b46c3",
   "metadata": {},
   "outputs": [
    {
     "name": "stdout",
     "output_type": "stream",
     "text": [
      "{'speed': 'slow', 'points': 5}\n"
     ]
    }
   ],
   "source": [
    "#Task3\n",
    "del alien_0['color']\n",
    "print(alien_0)"
   ]
  },
  {
   "cell_type": "code",
   "execution_count": 39,
   "id": "4998a35c-cb6d-488a-80ba-f2ec1d9b1fcf",
   "metadata": {},
   "outputs": [
    {
     "name": "stdout",
     "output_type": "stream",
     "text": [
      "None\n"
     ]
    }
   ],
   "source": [
    "#Task4\n",
    "color= alien_0.get('color')\n",
    "print(color)"
   ]
  },
  {
   "cell_type": "code",
   "execution_count": 41,
   "id": "f358c803-9c78-462e-8c9d-d8c66fa3c902",
   "metadata": {},
   "outputs": [
    {
     "name": "stdout",
     "output_type": "stream",
     "text": [
      "No color attribute\n"
     ]
    }
   ],
   "source": [
    "color= alien_0.get('color','No color attribute')\n",
    "print(color)"
   ]
  },
  {
   "cell_type": "code",
   "execution_count": 43,
   "id": "7a95ca1c-901b-4204-8237-2ad4302ad355",
   "metadata": {},
   "outputs": [
    {
     "name": "stdout",
     "output_type": "stream",
     "text": [
      "{'color': 'green', 'points': 5, 'y_position': 25, 'x_position': 0}\n"
     ]
    }
   ],
   "source": [
    "alien= {'color': 'green', 'points': 5, 'y_position': 25, 'x_position': 0}\n",
    "print(alien)\n"
   ]
  },
  {
   "cell_type": "code",
   "execution_count": 51,
   "id": "d4fb7c20-2a62-49fe-959e-6df176901ac2",
   "metadata": {},
   "outputs": [
    {
     "name": "stdout",
     "output_type": "stream",
     "text": [
      "['color', 'points', 'y_position', 'x_position']\n"
     ]
    }
   ],
   "source": [
    "#Task5\n",
    "alien_keys= list(alien.keys())\n",
    "print(alien_keys)"
   ]
  },
  {
   "cell_type": "code",
   "execution_count": 53,
   "id": "e98fe444-12d8-480f-8b6b-30e650ccdb75",
   "metadata": {},
   "outputs": [
    {
     "name": "stdout",
     "output_type": "stream",
     "text": [
      "['green', 5, 25, 0]\n"
     ]
    }
   ],
   "source": [
    "#Taskk6\n",
    "alien_values= list(alien.values())\n",
    "print(alien_values)"
   ]
  },
  {
   "cell_type": "code",
   "execution_count": 49,
   "id": "72bb8001-0d85-411b-8ae9-4a8de117ba87",
   "metadata": {},
   "outputs": [
    {
     "data": {
      "text/plain": [
       "dict_items([('color', 'green'), ('points', 5), ('y_position', 25), ('x_position', 0)])"
      ]
     },
     "execution_count": 49,
     "metadata": {},
     "output_type": "execute_result"
    }
   ],
   "source": [
    "alien.items()"
   ]
  },
  {
   "cell_type": "code",
   "execution_count": 103,
   "id": "4cd083b0-ead4-498b-9cba-9c92ea874309",
   "metadata": {},
   "outputs": [
    {
     "name": "stdout",
     "output_type": "stream",
     "text": [
      "['Color', 'Points', 'Y_Position', 'X_Position']\n"
     ]
    }
   ],
   "source": [
    "#Task7\n",
    "# new_list= []\n",
    "\n",
    "# for key in alien_keys:\n",
    "#     r= key.title()\n",
    "#     new_list.append(r)\n",
    "\n",
    "# print(new_list)\n",
    "\n",
    "\n",
    "# or\n",
    "key_list= []\n",
    "\n",
    "for key, val in alien.items():\n",
    "    key_list.append(key.title())\n",
    "print(key_list)"
   ]
  },
  {
   "cell_type": "code",
   "execution_count": null,
   "id": "20cd4d9c-6683-44d0-b6d9-d61f0cf24db9",
   "metadata": {},
   "outputs": [],
   "source": [
    "#Task8"
   ]
  },
  {
   "cell_type": "code",
   "execution_count": null,
   "id": "3338568a-f361-4097-a4f7-3d78e10c03f6",
   "metadata": {},
   "outputs": [],
   "source": []
  },
  {
   "cell_type": "markdown",
   "id": "e28127f5-c0ed-414f-9b75-bcd1dd445a79",
   "metadata": {},
   "source": [
    "## Looping through a dictionary"
   ]
  },
  {
   "cell_type": "code",
   "execution_count": 72,
   "id": "c0d9e11c-28f0-4b79-81aa-984fd2402960",
   "metadata": {},
   "outputs": [
    {
     "data": {
      "text/plain": [
       "{'color': 'green', 'points': 5, 'y_position': 25, 'x_position': 0}"
      ]
     },
     "execution_count": 72,
     "metadata": {},
     "output_type": "execute_result"
    }
   ],
   "source": [
    "alien"
   ]
  },
  {
   "cell_type": "code",
   "execution_count": 74,
   "id": "3055375a-d28d-45b3-a57f-a494b524983a",
   "metadata": {},
   "outputs": [
    {
     "name": "stdout",
     "output_type": "stream",
     "text": [
      "dict_keys(['color', 'points', 'y_position', 'x_position'])\n",
      "dict_values(['green', 5, 25, 0])\n"
     ]
    }
   ],
   "source": [
    "print(alien.keys())\n",
    "print(alien.values())"
   ]
  },
  {
   "cell_type": "code",
   "execution_count": 76,
   "id": "616e8bea-b93a-4bb0-b55f-452a4d85a121",
   "metadata": {},
   "outputs": [
    {
     "data": {
      "text/plain": [
       "dict_items([('color', 'green'), ('points', 5), ('y_position', 25), ('x_position', 0)])"
      ]
     },
     "execution_count": 76,
     "metadata": {},
     "output_type": "execute_result"
    }
   ],
   "source": [
    "alien.items()"
   ]
  },
  {
   "cell_type": "code",
   "execution_count": 86,
   "id": "7a7125bf-2811-49d6-bc0f-34821926610f",
   "metadata": {},
   "outputs": [
    {
     "name": "stdout",
     "output_type": "stream",
     "text": [
      "color is green\n",
      "points is 5\n",
      "y_position is 25\n",
      "x_position is 0\n"
     ]
    }
   ],
   "source": [
    "for i, j in alien.items():\n",
    "    r = f\"{i} is {j}\"\n",
    "    print(r)"
   ]
  },
  {
   "cell_type": "code",
   "execution_count": 105,
   "id": "4cd2839a-df26-4671-a2b7-5465273f0d74",
   "metadata": {},
   "outputs": [
    {
     "ename": "ValueError",
     "evalue": "not enough values to unpack (expected 3, got 2)",
     "output_type": "error",
     "traceback": [
      "\u001b[1;31m---------------------------------------------------------------------------\u001b[0m",
      "\u001b[1;31mValueError\u001b[0m                                Traceback (most recent call last)",
      "Cell \u001b[1;32mIn[105], line 1\u001b[0m\n\u001b[1;32m----> 1\u001b[0m \u001b[38;5;28;01mfor\u001b[39;00m i, j, k \u001b[38;5;129;01min\u001b[39;00m alien\u001b[38;5;241m.\u001b[39mitems():\n\u001b[0;32m      2\u001b[0m     r \u001b[38;5;241m=\u001b[39m \u001b[38;5;124mf\u001b[39m\u001b[38;5;124m\"\u001b[39m\u001b[38;5;132;01m{\u001b[39;00mi\u001b[38;5;132;01m}\u001b[39;00m\u001b[38;5;124m is \u001b[39m\u001b[38;5;132;01m{\u001b[39;00mj\u001b[38;5;132;01m}\u001b[39;00m\u001b[38;5;124m = \u001b[39m\u001b[38;5;132;01m{\u001b[39;00mk\u001b[38;5;132;01m}\u001b[39;00m\u001b[38;5;124m\"\u001b[39m\n\u001b[0;32m      3\u001b[0m     \u001b[38;5;28mprint\u001b[39m(r)\n",
      "\u001b[1;31mValueError\u001b[0m: not enough values to unpack (expected 3, got 2)"
     ]
    }
   ],
   "source": [
    "for i, j, k in alien.items():\n",
    "    r = f\"{i} is {j} = {k}\"\n",
    "    print(r)"
   ]
  },
  {
   "cell_type": "code",
   "execution_count": 88,
   "id": "a8cb8c9a-3586-45d2-a0c9-b683d2792490",
   "metadata": {},
   "outputs": [
    {
     "name": "stdout",
     "output_type": "stream",
     "text": [
      "color is green\n",
      "points is 5\n",
      "y_position is 25\n",
      "x_position is 0\n"
     ]
    }
   ],
   "source": [
    "for key, val in alien.items():\n",
    "    r = f\"{key} is {val}\"\n",
    "    print(r)"
   ]
  },
  {
   "cell_type": "code",
   "execution_count": null,
   "id": "b3f562d9-5fb7-4732-8be3-2775db1e3835",
   "metadata": {},
   "outputs": [],
   "source": []
  },
  {
   "cell_type": "code",
   "execution_count": null,
   "id": "a000d2cd-4eb9-4a92-ae53-e152818767ab",
   "metadata": {},
   "outputs": [],
   "source": []
  },
  {
   "cell_type": "code",
   "execution_count": 111,
   "id": "fceaf46f-0b3f-48f0-94ac-96c878ea2d42",
   "metadata": {},
   "outputs": [
    {
     "name": "stdout",
     "output_type": "stream",
     "text": [
      "color is green.Last value is 4\n",
      "point is 5.Last value is 7\n",
      "y_position is 25.Last value is 8\n",
      "x_position is 0.Last value is 9\n"
     ]
    }
   ],
   "source": [
    "# Unpacking three values\n",
    "li = [('color', 'green', 4), ('point', 5, 7), ('y_position', 25, 8), ('x_position', 0, 9)]\n",
    "# color is green. last value is 4\n",
    "\n",
    "for i,j,k in li:\n",
    "    r= f\"{i} is {j}.Last value is {k}\"\n",
    "    print(r)"
   ]
  },
  {
   "cell_type": "code",
   "execution_count": 113,
   "id": "272dc97e-a1b4-4fd2-b00d-85f668a80362",
   "metadata": {},
   "outputs": [
    {
     "ename": "ValueError",
     "evalue": "too many values to unpack (expected 2)",
     "output_type": "error",
     "traceback": [
      "\u001b[1;31m---------------------------------------------------------------------------\u001b[0m",
      "\u001b[1;31mValueError\u001b[0m                                Traceback (most recent call last)",
      "Cell \u001b[1;32mIn[113], line 5\u001b[0m\n\u001b[0;32m      2\u001b[0m li \u001b[38;5;241m=\u001b[39m [(\u001b[38;5;124m'\u001b[39m\u001b[38;5;124mcolor\u001b[39m\u001b[38;5;124m'\u001b[39m, \u001b[38;5;124m'\u001b[39m\u001b[38;5;124mgreen\u001b[39m\u001b[38;5;124m'\u001b[39m, \u001b[38;5;241m4\u001b[39m), (\u001b[38;5;124m'\u001b[39m\u001b[38;5;124mpoint\u001b[39m\u001b[38;5;124m'\u001b[39m, \u001b[38;5;241m5\u001b[39m, \u001b[38;5;241m7\u001b[39m), (\u001b[38;5;124m'\u001b[39m\u001b[38;5;124my_position\u001b[39m\u001b[38;5;124m'\u001b[39m, \u001b[38;5;241m25\u001b[39m, \u001b[38;5;241m8\u001b[39m), (\u001b[38;5;124m'\u001b[39m\u001b[38;5;124mx_position\u001b[39m\u001b[38;5;124m'\u001b[39m, \u001b[38;5;241m0\u001b[39m, \u001b[38;5;241m9\u001b[39m)]\n\u001b[0;32m      3\u001b[0m \u001b[38;5;66;03m# color is green. last value is 4\u001b[39;00m\n\u001b[1;32m----> 5\u001b[0m \u001b[38;5;28;01mfor\u001b[39;00m i,j \u001b[38;5;129;01min\u001b[39;00m li:\n\u001b[0;32m      6\u001b[0m     r\u001b[38;5;241m=\u001b[39m \u001b[38;5;124mf\u001b[39m\u001b[38;5;124m\"\u001b[39m\u001b[38;5;132;01m{\u001b[39;00mi\u001b[38;5;132;01m}\u001b[39;00m\u001b[38;5;124m is \u001b[39m\u001b[38;5;132;01m{\u001b[39;00mj\u001b[38;5;132;01m}\u001b[39;00m\u001b[38;5;124m.Last value is\u001b[39m\u001b[38;5;124m\"\u001b[39m\n\u001b[0;32m      7\u001b[0m     \u001b[38;5;28mprint\u001b[39m(r)\n",
      "\u001b[1;31mValueError\u001b[0m: too many values to unpack (expected 2)"
     ]
    }
   ],
   "source": [
    "# Unpacking three values\n",
    "li = [('color', 'green', 4), ('point', 5, 7), ('y_position', 25, 8), ('x_position', 0, 9)]\n",
    "# color is green. last value is 4\n",
    "\n",
    "for i,j in li:\n",
    "    r= f\"{i} is {j}.Last value is\"\n",
    "    print(r)"
   ]
  },
  {
   "cell_type": "code",
   "execution_count": 97,
   "id": "8792593e-e7f9-4cbe-a174-41f20316309a",
   "metadata": {},
   "outputs": [
    {
     "name": "stdout",
     "output_type": "stream",
     "text": [
      "('color', 'green', 4)\n",
      "('point', 5, 7)\n",
      "('y_position', 25, 8)\n",
      "('x_position', 0, 9)\n"
     ]
    }
   ],
   "source": [
    "for i in li:\n",
    "    print(i)"
   ]
  },
  {
   "cell_type": "code",
   "execution_count": 99,
   "id": "e9f40cc4-0c17-4873-a6a1-cde0c2bbf7ba",
   "metadata": {},
   "outputs": [
    {
     "name": "stdout",
     "output_type": "stream",
     "text": [
      "{'speed1': 'slow1', 'points1': 5}\n",
      "{'speed2': 'slow2', 'points2': 5}\n",
      "{'speed3': 'slow3', 'points3': 5}\n"
     ]
    }
   ],
   "source": [
    "li_3 = [{'speed1': 'slow1', 'points1': 5}, {'speed2': 'slow2', 'points2': 5}, {'speed3': 'slow3', 'points3': 5}]\n",
    "for i in li_3:\n",
    "    print(i)"
   ]
  },
  {
   "cell_type": "code",
   "execution_count": 115,
   "id": "dcb1ae32-c5e6-4c20-b3d8-d9a92171d7bb",
   "metadata": {},
   "outputs": [
    {
     "name": "stdout",
     "output_type": "stream",
     "text": [
      "speed1 = slow1\n",
      "points1 = 5\n",
      "speed2 = slow2\n",
      "points2 = 5\n",
      "speed3 = slow3\n",
      "points3 = 5\n"
     ]
    }
   ],
   "source": [
    "# Nested Looping\n",
    "for dict in li_3:\n",
    "    for key, val in dict.items():\n",
    "        print(f\"{key} = {val}\")"
   ]
  },
  {
   "cell_type": "code",
   "execution_count": null,
   "id": "2b12504d-8dbd-43b7-85c6-04ba3ca6dafb",
   "metadata": {},
   "outputs": [],
   "source": []
  }
 ],
 "metadata": {
  "kernelspec": {
   "display_name": "Python 3 (ipykernel)",
   "language": "python",
   "name": "python3"
  },
  "language_info": {
   "codemirror_mode": {
    "name": "ipython",
    "version": 3
   },
   "file_extension": ".py",
   "mimetype": "text/x-python",
   "name": "python",
   "nbconvert_exporter": "python",
   "pygments_lexer": "ipython3",
   "version": "3.12.4"
  }
 },
 "nbformat": 4,
 "nbformat_minor": 5
}

{
 "cells": [
  {
   "cell_type": "code",
   "execution_count": 3,
   "id": "5b18e776-7071-45b4-aee7-bfac8704f628",
   "metadata": {},
   "outputs": [
    {
     "name": "stdout",
     "output_type": "stream",
     "text": [
      "{'Jinan': [90, 85, 88], 'Smith': [77, 89, 92], 'John': [66, 72, 84]}\n"
     ]
    }
   ],
   "source": [
    "student_marks= {\n",
    "    \"Jinan\":[90,85,88],\n",
    "    \"Smith\":[77,89,92],\n",
    "    \"John\":[66,72,84]\n",
    "}\n",
    "print(student_marks)"
   ]
  },
  {
   "cell_type": "code",
   "execution_count": 11,
   "id": "04f390e7-6140-42fd-9f37-014461b7ee69",
   "metadata": {},
   "outputs": [
    {
     "name": "stdout",
     "output_type": "stream",
     "text": [
      "Student name:Jinan, Physics:90, Chemistry:85, Math:88\n",
      "Student name:Smith, Physics:77, Chemistry:89, Math:92\n",
      "Student name:John, Physics:66, Chemistry:72, Math:84\n"
     ]
    }
   ],
   "source": [
    "for key,value in student_marks.items():\n",
    "    physics_marks= value[0]\n",
    "    chemistry_marks= value[1]\n",
    "    math_marks=value[2]\n",
    "    print(f\"Student name:{key}, Physics:{physics_marks}, Chemistry:{chemistry_marks}, Math:{math_marks}\")\n",
    "    \n"
   ]
  },
  {
   "cell_type": "markdown",
   "id": "078cdbb9-7329-47d2-bb11-28dc5c6003e7",
   "metadata": {},
   "source": [
    "#### Problem - 2"
   ]
  },
  {
   "cell_type": "code",
   "execution_count": 14,
   "id": "cfbb7761-403e-49dc-8b6b-04cd94c9e2f9",
   "metadata": {},
   "outputs": [],
   "source": [
    "users = {\n",
    " 'aeinstein': {\n",
    " 'first': 'albert',\n",
    " 'last': 'einstein',\n",
    " 'location': 'princeton',\n",
    " },\n",
    " 'mcurie': {\n",
    " 'first': 'marie',\n",
    " 'last': 'curie',\n",
    " 'location': 'paris',\n",
    " },\n",
    " 'Smith': {\n",
    " 'first': 'John',\n",
    " 'last': 'mack',\n",
    " 'location': 'paris',\n",
    " }  \n",
    "}\n",
    "\n",
    "\n",
    "# Output:\n",
    "# Username: aeinstein, Firstname: Albert, Lastname: Einstein, Location: Princeton"
   ]
  },
  {
   "cell_type": "code",
   "execution_count": 26,
   "id": "0c2382ac-da2d-4b8a-a0f1-ca5e95cb8f9c",
   "metadata": {},
   "outputs": [
    {
     "name": "stdout",
     "output_type": "stream",
     "text": [
      "Username:aeinstein, Firstname:Albert, Lastname:Einstein, Location:Princeton\n",
      "aeinstein\n",
      "{'first': 'albert', 'last': 'einstein', 'location': 'princeton'}\n",
      "Username:mcurie, Firstname:Marie, Lastname:Curie, Location:Paris\n",
      "mcurie\n",
      "{'first': 'marie', 'last': 'curie', 'location': 'paris'}\n",
      "Username:Smith, Firstname:John, Lastname:Mack, Location:Paris\n",
      "Smith\n",
      "{'first': 'John', 'last': 'mack', 'location': 'paris'}\n"
     ]
    }
   ],
   "source": [
    "for key, val in users.items():\n",
    "    username = key\n",
    "    firstname = val['first']\n",
    "    lastname = val['last']\n",
    "    location = val['location']\n",
    "\n",
    "    print(f\"Username:{username}, Firstname:{firstname.title()}, Lastname:{lastname.title()}, Location:{location.title()}\")\n",
    "    print(key)\n",
    "    print(val)"
   ]
  },
  {
   "cell_type": "code",
   "execution_count": null,
   "id": "dadf78ac-1696-4e25-8839-4502e31934d7",
   "metadata": {},
   "outputs": [],
   "source": []
  }
 ],
 "metadata": {
  "kernelspec": {
   "display_name": "Python 3 (ipykernel)",
   "language": "python",
   "name": "python3"
  },
  "language_info": {
   "codemirror_mode": {
    "name": "ipython",
    "version": 3
   },
   "file_extension": ".py",
   "mimetype": "text/x-python",
   "name": "python",
   "nbconvert_exporter": "python",
   "pygments_lexer": "ipython3",
   "version": "3.12.4"
  }
 },
 "nbformat": 4,
 "nbformat_minor": 5
}

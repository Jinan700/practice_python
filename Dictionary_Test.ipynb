{
 "cells": [
  {
   "cell_type": "code",
   "execution_count": 3,
   "id": "5b18e776-7071-45b4-aee7-bfac8704f628",
   "metadata": {},
   "outputs": [
    {
     "name": "stdout",
     "output_type": "stream",
     "text": [
      "{'Jinan': [90, 85, 88], 'Smith': [77, 89, 92], 'John': [66, 72, 84]}\n"
     ]
    }
   ],
   "source": [
    "student_marks= {\n",
    "    \"Jinan\":[90,85,88],\n",
    "    \"Smith\":[77,89,92],\n",
    "    \"John\":[66,72,84]\n",
    "}\n",
    "print(student_marks)"
   ]
  },
  {
   "cell_type": "code",
   "execution_count": 11,
   "id": "04f390e7-6140-42fd-9f37-014461b7ee69",
   "metadata": {},
   "outputs": [
    {
     "name": "stdout",
     "output_type": "stream",
     "text": [
      "Student name:Jinan, Physics:90, Chemistry:85, Math:88\n",
      "Student name:Smith, Physics:77, Chemistry:89, Math:92\n",
      "Student name:John, Physics:66, Chemistry:72, Math:84\n"
     ]
    }
   ],
   "source": [
    "for key,value in student_marks.items():\n",
    "    physics_marks= value[0]\n",
    "    chemistry_marks= value[1]\n",
    "    math_marks=value[2]\n",
    "    print(f\"Student name:{key}, Physics:{physics_marks}, Chemistry:{chemistry_marks}, Math:{math_marks}\")\n",
    "    \n"
   ]
  },
  {
   "cell_type": "markdown",
   "id": "078cdbb9-7329-47d2-bb11-28dc5c6003e7",
   "metadata": {},
   "source": [
    "#### Problem - 2"
   ]
  },
  {
   "cell_type": "code",
   "execution_count": 14,
   "id": "cfbb7761-403e-49dc-8b6b-04cd94c9e2f9",
   "metadata": {},
   "outputs": [],
   "source": [
    "users = {\n",
    " 'aeinstein': {\n",
    " 'first': 'albert',\n",
    " 'last': 'einstein',\n",
    " 'location': 'princeton',\n",
    " },\n",
    " 'mcurie': {\n",
    " 'first': 'marie',\n",
    " 'last': 'curie',\n",
    " 'location': 'paris',\n",
    " },\n",
    " 'Smith': {\n",
    " 'first': 'John',\n",
    " 'last': 'mack',\n",
    " 'location': 'paris',\n",
    " }  \n",
    "}\n",
    "\n",
    "\n",
    "# Output:\n",
    "# Username: aeinstein, Firstname: Albert, Lastname: Einstein, Location: Princeton"
   ]
  },
  {
   "cell_type": "code",
   "execution_count": 26,
   "id": "0c2382ac-da2d-4b8a-a0f1-ca5e95cb8f9c",
   "metadata": {},
   "outputs": [
    {
     "name": "stdout",
     "output_type": "stream",
     "text": [
      "Username:aeinstein, Firstname:Albert, Lastname:Einstein, Location:Princeton\n",
      "aeinstein\n",
      "{'first': 'albert', 'last': 'einstein', 'location': 'princeton'}\n",
      "Username:mcurie, Firstname:Marie, Lastname:Curie, Location:Paris\n",
      "mcurie\n",
      "{'first': 'marie', 'last': 'curie', 'location': 'paris'}\n",
      "Username:Smith, Firstname:John, Lastname:Mack, Location:Paris\n",
      "Smith\n",
      "{'first': 'John', 'last': 'mack', 'location': 'paris'}\n"
     ]
    }
   ],
   "source": [
    "for key, val in users.items():\n",
    "    username = key\n",
    "    firstname = val['first']\n",
    "    lastname = val['last']\n",
    "    location = val['location']\n",
    "\n",
    "    print(f\"Username:{username}, Firstname:{firstname.title()}, Lastname:{lastname.title()}, Location:{location.title()}\")\n",
    "    print(key)\n",
    "    print(val)"
   ]
  },
  {
   "cell_type": "code",
   "execution_count": null,
   "id": "dadf78ac-1696-4e25-8839-4502e31934d7",
   "metadata": {},
   "outputs": [],
   "source": []
  },
  {
   "cell_type": "markdown",
   "id": "58f0cd09-9558-4cb6-b481-87ab34db06e4",
   "metadata": {},
   "source": [
    "### Exercise1"
   ]
  },
  {
   "cell_type": "code",
   "execution_count": 8,
   "id": "0bab0bd3-bd68-44a1-a463-25b5e7cbc80d",
   "metadata": {},
   "outputs": [],
   "source": [
    "shop= {\n",
    "    \"Shop_1\":[\"Programming\",\"Math\",\"Literature\"],\n",
    "    \"Shop_2\":[\"Physics\",\"Chemistry\",\"Cooking\"],\n",
    "    \"Shop_3\":[\"Astronomy\",\"Economics\",\"Accounting\"],\n",
    "    \"Shop_4\":[\"Geography\",\"History\",\"Business\"]\n",
    "}\n",
    "\n",
    "\n",
    "#Book categories in Shop_1-[\"Programming\",\"Math\",\"Literature\"]"
   ]
  },
  {
   "cell_type": "code",
   "execution_count": 14,
   "id": "cf61de8f-a9de-485d-85f6-586e1084e1d0",
   "metadata": {},
   "outputs": [],
   "source": [
    "shop_list= list(shop)"
   ]
  },
  {
   "cell_type": "code",
   "execution_count": 16,
   "id": "f9afbdad-4e18-466c-a211-b5dff649136d",
   "metadata": {},
   "outputs": [
    {
     "data": {
      "text/plain": [
       "['Shop_1', 'Shop_2', 'Shop_3', 'Shop_4']"
      ]
     },
     "execution_count": 16,
     "metadata": {},
     "output_type": "execute_result"
    }
   ],
   "source": [
    "shop_list"
   ]
  },
  {
   "cell_type": "code",
   "execution_count": 18,
   "id": "e47ad6c6-500b-43fa-836d-8129b39af704",
   "metadata": {},
   "outputs": [
    {
     "data": {
      "text/plain": [
       "dict_items([('Shop_1', ['Programming', 'Math', 'Literature']), ('Shop_2', ['Physics', 'Chemistry', 'Cooking']), ('Shop_3', ['Astronomy', 'Economics', 'Accounting']), ('Shop_4', ['Geography', 'History', 'Business'])])"
      ]
     },
     "execution_count": 18,
     "metadata": {},
     "output_type": "execute_result"
    }
   ],
   "source": [
    "shop.items()"
   ]
  },
  {
   "cell_type": "code",
   "execution_count": 22,
   "id": "bd94efdd-046c-4f60-a82a-60c08c0c5886",
   "metadata": {},
   "outputs": [
    {
     "name": "stdout",
     "output_type": "stream",
     "text": [
      "Book categories in Shop_1-['Programming', 'Math', 'Literature']\n",
      "Book categories in Shop_2-['Physics', 'Chemistry', 'Cooking']\n",
      "Book categories in Shop_3-['Astronomy', 'Economics', 'Accounting']\n",
      "Book categories in Shop_4-['Geography', 'History', 'Business']\n"
     ]
    }
   ],
   "source": [
    "for k,v in shop.items():\n",
    "    print(f\"Book categories in {k}-{v}\")"
   ]
  },
  {
   "cell_type": "code",
   "execution_count": null,
   "id": "fb31e40d-e368-4305-aa69-96a83c29e4b2",
   "metadata": {},
   "outputs": [],
   "source": []
  },
  {
   "cell_type": "markdown",
   "id": "356039f7-08b0-4088-b331-ab055dc9b8ad",
   "metadata": {},
   "source": [
    "### Exercise2"
   ]
  },
  {
   "cell_type": "code",
   "execution_count": 27,
   "id": "8f82b4b6-be35-4a82-8090-cc74c0392589",
   "metadata": {},
   "outputs": [],
   "source": [
    "student_marks= {\n",
    "    \"John\":[90,70,89],\n",
    "    \"Mason\":[92,74,60],\n",
    "    \"Susan\":[65,90,96],\n",
    "    \"Jake\":[74,87,22],\n",
    "    \"Noah\":[86,94,56],\n",
    "    \"Chris\":[76,98,79],\n",
    "    \"Wick\" : [34, 56, 40]\n",
    "}\n",
    "\n",
    "# Student name : {name}, Total Marks in three quizes: {total_marks}, Average Mark: {avg_mark}, Grade: {grade}\n",
    "\n",
    "# Avg Mark >= 80, Grade - A\n",
    "# Avg Mark 70 to 79, Grade - B\n",
    "# Avg Mark 60 to 69, Grade - C\n",
    "# Avg Mark  51 to 59, Grade - D\n",
    "# Avg Mark < 50, Grade - F"
   ]
  },
  {
   "cell_type": "code",
   "execution_count": 39,
   "id": "b8c23c43-9b12-4996-be3f-a4d6437b7c1b",
   "metadata": {},
   "outputs": [
    {
     "name": "stdout",
     "output_type": "stream",
     "text": [
      "Student Name:John, Total Marks in 3 quizzes:249, Average Marks:83.0, Grade:A+\n",
      "Student Name:Mason, Total Marks in 3 quizzes:226, Average Marks:75.33, Grade:A\n",
      "Student Name:Susan, Total Marks in 3 quizzes:251, Average Marks:83.67, Grade:A+\n",
      "Student Name:Jake, Total Marks in 3 quizzes:183, Average Marks:61.0, Grade:B\n",
      "Student Name:Noah, Total Marks in 3 quizzes:236, Average Marks:78.67, Grade:A\n",
      "Student Name:Chris, Total Marks in 3 quizzes:253, Average Marks:84.33, Grade:A+\n",
      "Student Name:Wick, Total Marks in 3 quizzes:130, Average Marks:43.33, Grade:F\n"
     ]
    }
   ],
   "source": [
    "for k,v in student_marks.items():\n",
    "    name=k\n",
    "    total_marks=0\n",
    "    for mark in v:\n",
    "        total_marks= total_marks + mark\n",
    "\n",
    "    avg_mark= total_marks/3\n",
    "    avg_mark= round(avg_mark, 2)\n",
    "\n",
    "    grade= \"\"\n",
    "\n",
    "    if avg_mark>= 80:\n",
    "        grade= \"A\"\n",
    "    elif avg_mark>=70 and avg_mark<=79:\n",
    "        grade= \"B\"\n",
    "    elif avg_mark>=60 and avg_mark<=69:\n",
    "        grade= \"C\"\n",
    "    elif avg_mark>=51 and avg_mark<=59:\n",
    "        grade= \"D\"\n",
    "    else:\n",
    "        grade= \"F\"\n",
    "\n",
    "\n",
    "    print(f\"Student Name:{name}, Total Marks in 3 quizzes:{total_marks}, Average Marks:{avg_mark}, Grade:{grade}\")\n",
    "    "
   ]
  },
  {
   "cell_type": "code",
   "execution_count": 42,
   "id": "665d5145-22da-42f4-9da8-15a6eff5ed1b",
   "metadata": {},
   "outputs": [
    {
     "name": "stdout",
     "output_type": "stream",
     "text": [
      "Student Name:John, Total Marks in 3 quizzes:249, Average Marks:83.0, Grade:A\n",
      "Student Name:Mason, Total Marks in 3 quizzes:226, Average Marks:75.33, Grade:B\n",
      "Student Name:Susan, Total Marks in 3 quizzes:251, Average Marks:83.67, Grade:A\n",
      "Student Name:Jake, Total Marks in 3 quizzes:183, Average Marks:61.0, Grade:C\n",
      "Student Name:Noah, Total Marks in 3 quizzes:236, Average Marks:78.67, Grade:B\n",
      "Student Name:Chris, Total Marks in 3 quizzes:253, Average Marks:84.33, Grade:A\n",
      "Student Name:Wick, Total Marks in 3 quizzes:130, Average Marks:43.33, Grade:F\n"
     ]
    }
   ],
   "source": [
    "grade_A = []\n",
    "grade_B = []\n",
    "grade_C = []\n",
    "grade_D = []\n",
    "grade_F = []\n",
    "\n",
    "for k,v in student_marks.items():\n",
    "    name=k\n",
    "    total_marks=0\n",
    "    for mark in v:\n",
    "        total_marks= total_marks + mark\n",
    "\n",
    "    avg_mark= total_marks/3\n",
    "    avg_mark= round(avg_mark, 2)\n",
    "\n",
    "    grade= \"\"\n",
    "\n",
    "    if avg_mark>= 80:\n",
    "        grade= \"A\"\n",
    "        grade_A.append(name)\n",
    "    elif avg_mark>=70 and avg_mark<=79:\n",
    "        grade= \"B\"\n",
    "        grade_B.append(name)\n",
    "    elif avg_mark>=60 and avg_mark<=69:\n",
    "        grade= \"C\"\n",
    "        grade_C.append(name)\n",
    "    elif avg_mark>=51 and avg_mark<=59:\n",
    "        grade= \"D\"\n",
    "        grade_D.append(name)\n",
    "    else:\n",
    "        grade= \"F\"\n",
    "        grade_F.append(name)\n",
    "\n",
    "    print(f\"Student Name:{name}, Total Marks in 3 quizzes:{total_marks}, Average Marks:{avg_mark}, Grade:{grade}\")\n",
    "\n",
    "\n"
   ]
  },
  {
   "cell_type": "code",
   "execution_count": 58,
   "id": "5dc8068f-3806-4c77-a678-377bc766a7bd",
   "metadata": {},
   "outputs": [
    {
     "data": {
      "text/plain": [
       "['John', 'Susan', 'Chris']"
      ]
     },
     "execution_count": 58,
     "metadata": {},
     "output_type": "execute_result"
    }
   ],
   "source": [
    "grade_A"
   ]
  },
  {
   "cell_type": "code",
   "execution_count": 46,
   "id": "0afb2815-3229-471c-a6bd-e72a65d57881",
   "metadata": {},
   "outputs": [
    {
     "data": {
      "text/plain": [
       "['Mason', 'Noah']"
      ]
     },
     "execution_count": 46,
     "metadata": {},
     "output_type": "execute_result"
    }
   ],
   "source": [
    "grade_B"
   ]
  },
  {
   "cell_type": "code",
   "execution_count": 48,
   "id": "d5c4c978-02e9-462b-97ed-888a15d2fd43",
   "metadata": {},
   "outputs": [
    {
     "data": {
      "text/plain": [
       "['Jake']"
      ]
     },
     "execution_count": 48,
     "metadata": {},
     "output_type": "execute_result"
    }
   ],
   "source": [
    "grade_C"
   ]
  },
  {
   "cell_type": "code",
   "execution_count": 50,
   "id": "a7bd3571-cc99-4afd-bd68-03314669ba12",
   "metadata": {},
   "outputs": [
    {
     "data": {
      "text/plain": [
       "[]"
      ]
     },
     "execution_count": 50,
     "metadata": {},
     "output_type": "execute_result"
    }
   ],
   "source": [
    "grade_D"
   ]
  },
  {
   "cell_type": "code",
   "execution_count": 52,
   "id": "89102c18-fcad-4526-9364-b13527117a73",
   "metadata": {},
   "outputs": [
    {
     "data": {
      "text/plain": [
       "['Wick']"
      ]
     },
     "execution_count": 52,
     "metadata": {},
     "output_type": "execute_result"
    }
   ],
   "source": [
    "grade_F"
   ]
  },
  {
   "cell_type": "code",
   "execution_count": 60,
   "id": "94b56815-162d-4fcc-98a0-c41f23311af4",
   "metadata": {},
   "outputs": [
    {
     "data": {
      "text/plain": [
       "3"
      ]
     },
     "execution_count": 60,
     "metadata": {},
     "output_type": "execute_result"
    }
   ],
   "source": [
    "len(grade_A)"
   ]
  },
  {
   "cell_type": "code",
   "execution_count": null,
   "id": "f4a8111d-d8a9-4abd-86c4-66126c34be73",
   "metadata": {},
   "outputs": [],
   "source": []
  },
  {
   "cell_type": "code",
   "execution_count": null,
   "id": "a8a1f813-ae4a-47e7-94a6-2707260547e7",
   "metadata": {},
   "outputs": [],
   "source": []
  },
  {
   "cell_type": "code",
   "execution_count": null,
   "id": "0e529b2e-5133-4ff5-9dec-7943c11d2c38",
   "metadata": {},
   "outputs": [],
   "source": []
  },
  {
   "cell_type": "code",
   "execution_count": 65,
   "id": "c7f0475f-2f10-4578-bafa-5faff0fce8c1",
   "metadata": {
    "scrolled": true
   },
   "outputs": [
    {
     "name": "stdout",
     "output_type": "stream",
     "text": [
      "Student Name:John, Total Marks in 3 quizzes:249, Average Marks:83.0, Grade:A\n",
      "Student Name:Mason, Total Marks in 3 quizzes:226, Average Marks:75.33, Grade:B\n",
      "Student Name:Susan, Total Marks in 3 quizzes:251, Average Marks:83.67, Grade:A\n",
      "Student Name:Jake, Total Marks in 3 quizzes:183, Average Marks:61.0, Grade:C\n",
      "Student Name:Noah, Total Marks in 3 quizzes:236, Average Marks:78.67, Grade:B\n",
      "Student Name:Chris, Total Marks in 3 quizzes:253, Average Marks:84.33, Grade:A\n",
      "Student Name:Wick, Total Marks in 3 quizzes:130, Average Marks:43.33, Grade:F\n"
     ]
    }
   ],
   "source": [
    "grade_A = []\n",
    "grade_B = []\n",
    "grade_C = []\n",
    "grade_D = []\n",
    "grade_F = []\n",
    "\n",
    "for k,v in student_marks.items():\n",
    "    name=k\n",
    "    total_marks=0\n",
    "    for mark in v:\n",
    "        total_marks= total_marks + mark\n",
    "\n",
    "    avg_mark= total_marks/3\n",
    "    avg_mark= round(avg_mark, 2)\n",
    "\n",
    "    grade= \"\"\n",
    "\n",
    "    if avg_mark>= 80:\n",
    "        grade= \"A\"\n",
    "        grade_A.append(name)\n",
    "    elif avg_mark>=70 and avg_mark<=79:\n",
    "        grade= \"B\"\n",
    "        grade_B.append(name)\n",
    "    elif avg_mark>=60 and avg_mark<=69:\n",
    "        grade= \"C\"\n",
    "        grade_C.append(name)\n",
    "    elif avg_mark>=51 and avg_mark<=59:\n",
    "        grade= \"D\"\n",
    "        grade_D.append(name)\n",
    "    else:\n",
    "        grade= \"F\"\n",
    "        grade_F.append(name)\n",
    "\n",
    "    print(f\"Student Name:{name}, Total Marks in 3 quizzes:{total_marks}, Average Marks:{avg_mark}, Grade:{grade}\")\n",
    "\n",
    "\n"
   ]
  },
  {
   "cell_type": "code",
   "execution_count": 67,
   "id": "fb94e2ca-4e2e-4b28-9e22-fc411cd2306e",
   "metadata": {},
   "outputs": [],
   "source": [
    "student_grade={}\n",
    "student_grade[\"Grade-A\"]= grade_A\n",
    "student_grade[\"Grade-B\"]= grade_B\n",
    "student_grade[\"Grade-C\"]= grade_C\n",
    "student_grade[\"Grade-D\"]= grade_D\n",
    "student_grade[\"Grade-F\"]= grade_F\n"
   ]
  },
  {
   "cell_type": "code",
   "execution_count": 69,
   "id": "ef3e1ba3-7d11-4822-823c-494082e10133",
   "metadata": {},
   "outputs": [
    {
     "data": {
      "text/plain": [
       "{'Grade-A': ['John', 'Susan', 'Chris'],\n",
       " 'Grade-B': ['Mason', 'Noah'],\n",
       " 'Grade-C': ['Jake'],\n",
       " 'Grade-D': [],\n",
       " 'Grade-F': ['Wick']}"
      ]
     },
     "execution_count": 69,
     "metadata": {},
     "output_type": "execute_result"
    }
   ],
   "source": [
    "student_grade"
   ]
  },
  {
   "cell_type": "code",
   "execution_count": null,
   "id": "d6669653-da42-47d4-9f15-3078e49b8409",
   "metadata": {},
   "outputs": [],
   "source": []
  }
 ],
 "metadata": {
  "kernelspec": {
   "display_name": "Python 3 (ipykernel)",
   "language": "python",
   "name": "python3"
  },
  "language_info": {
   "codemirror_mode": {
    "name": "ipython",
    "version": 3
   },
   "file_extension": ".py",
   "mimetype": "text/x-python",
   "name": "python",
   "nbconvert_exporter": "python",
   "pygments_lexer": "ipython3",
   "version": "3.12.4"
  }
 },
 "nbformat": 4,
 "nbformat_minor": 5
}

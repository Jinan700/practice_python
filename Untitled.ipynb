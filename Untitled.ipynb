{
 "cells": [
  {
   "cell_type": "code",
   "execution_count": 13,
   "id": "db63ce74-bfa9-4be4-9418-465ad76ad32d",
   "metadata": {},
   "outputs": [],
   "source": [
    "unconfirmed_users =[\n",
    "    {\n",
    "        \"username\": \"user1\" ,\n",
    "        \"has_id\": \"yes\"\n",
    "    },\n",
    "    {\n",
    "        \"username\": \"user2\",\n",
    "        \"has_id\": \"no\"\n",
    "    },\n",
    "    {\n",
    "        \"username\": \"user3\",\n",
    "        \"has_id\": \"yes\"\n",
    "    },\n",
    "    {\n",
    "        \"username\": \"user4\",\n",
    "        \"has_id\": \"no\"\n",
    "    },\n",
    "    {\n",
    "        \"username\": \"user5\",\n",
    "        \"has_id\": \"yes\"\n",
    "    }\n",
    "]\n",
    "\n",
    "\n",
    "# id_yes = user1, user3"
   ]
  },
  {
   "cell_type": "code",
   "execution_count": 15,
   "id": "f370c108-8df5-46a2-8bd7-5abc963f8fa6",
   "metadata": {},
   "outputs": [],
   "source": [
    "confirmed_users = []"
   ]
  },
  {
   "cell_type": "code",
   "execution_count": 17,
   "id": "93e68944-d9eb-48ab-82b1-a12cae36557f",
   "metadata": {},
   "outputs": [],
   "source": [
    "while unconfirmed_users:\n",
    "    r= unconfirmed_users.pop()\n",
    "    # print(r)\n",
    "    username= r['username']\n",
    "    id_stat= r['has_id']\n",
    "\n",
    "    if id_stat== 'yes':\n",
    "        confirmed_users.append(username)\n"
   ]
  },
  {
   "cell_type": "code",
   "execution_count": 19,
   "id": "811754b0-2a8f-44b1-a93b-511316c650b0",
   "metadata": {},
   "outputs": [
    {
     "data": {
      "text/plain": [
       "['user5', 'user3', 'user1']"
      ]
     },
     "execution_count": 19,
     "metadata": {},
     "output_type": "execute_result"
    }
   ],
   "source": [
    "confirmed_users"
   ]
  },
  {
   "cell_type": "code",
   "execution_count": 21,
   "id": "96fe5a23-401c-4aaa-8ec3-6a8361c1f7f5",
   "metadata": {},
   "outputs": [
    {
     "name": "stdout",
     "output_type": "stream",
     "text": [
      "['user1', 'user3', 'user5']\n"
     ]
    }
   ],
   "source": [
    "confirmed_users.reverse()\n",
    "print(confirmed_users)"
   ]
  },
  {
   "cell_type": "code",
   "execution_count": null,
   "id": "1eeaea6f-d3d1-4476-84ea-7c7601d368a2",
   "metadata": {},
   "outputs": [],
   "source": []
  }
 ],
 "metadata": {
  "kernelspec": {
   "display_name": "Python 3 (ipykernel)",
   "language": "python",
   "name": "python3"
  },
  "language_info": {
   "codemirror_mode": {
    "name": "ipython",
    "version": 3
   },
   "file_extension": ".py",
   "mimetype": "text/x-python",
   "name": "python",
   "nbconvert_exporter": "python",
   "pygments_lexer": "ipython3",
   "version": "3.12.4"
  }
 },
 "nbformat": 4,
 "nbformat_minor": 5
}

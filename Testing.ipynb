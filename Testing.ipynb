{
 "cells": [
  {
   "cell_type": "code",
   "execution_count": 1,
   "id": "2ebd4681-858f-486a-9c85-65b2daa2e013",
   "metadata": {},
   "outputs": [
    {
     "name": "stdout",
     "output_type": "stream",
     "text": [
      "My name is Jinan\n"
     ]
    }
   ],
   "source": [
    "name = 'Jinan'\n",
    "print(f\"My name is {name}\")"
   ]
  },
  {
   "cell_type": "code",
   "execution_count": null,
   "id": "70c985ff-599c-4724-a0a2-1cfeac82af38",
   "metadata": {},
   "outputs": [],
   "source": []
  },
  {
   "cell_type": "code",
   "execution_count": 2,
   "id": "205eaca2-1b2d-4315-bc57-4b5c9c1d8263",
   "metadata": {},
   "outputs": [
    {
     "name": "stdin",
     "output_type": "stream",
     "text": [
      "Your name: e\n"
     ]
    },
    {
     "name": "stdout",
     "output_type": "stream",
     "text": [
      "Your name is E\n"
     ]
    }
   ],
   "source": [
    "name= input('Your name:')\n",
    "print(f'Your name is {name.title()}')"
   ]
  },
  {
   "cell_type": "code",
   "execution_count": null,
   "id": "bd5b2e01-8224-4688-a1e7-f0cf156bd6aa",
   "metadata": {},
   "outputs": [],
   "source": []
  },
  {
   "cell_type": "code",
   "execution_count": 10,
   "id": "bde33332-a9e9-4de4-ada5-e916237ff504",
   "metadata": {},
   "outputs": [
    {
     "name": "stdout",
     "output_type": "stream",
     "text": [
      "[43, 41, 5, 67, 20, 12]\n",
      "[5, 12, 20, 41, 43, 67]\n",
      "[67, 43, 41, 20, 12, 5]\n",
      "[43, 41, 5, 67, 20, 12]\n"
     ]
    }
   ],
   "source": [
    "list= [43,41,5,67,20,12]\n",
    "print(list)\n",
    "\n",
    "print(sorted(list))\n",
    "print(sorted(list, reverse=True))\n",
    "print(list)"
   ]
  },
  {
   "cell_type": "code",
   "execution_count": null,
   "id": "79f1cd73-b9cf-4290-9c97-25fc0ccb5b79",
   "metadata": {},
   "outputs": [],
   "source": []
  },
  {
   "cell_type": "code",
   "execution_count": 85,
   "id": "9ef467d1-0607-4bfd-94d6-6e86b9eb2ecd",
   "metadata": {},
   "outputs": [
    {
     "name": "stdout",
     "output_type": "stream",
     "text": [
      "Games:['valorant', 'CSGO', 'apex legends', 'League', 'call of duty', 'Ghost of tsushima', 'Spiderman', 'overwatch']\n",
      "New games:['Valorant', 'Csgo', 'Apex Legends', 'League', 'Call Of Duty', 'Ghost Of Tsushima', 'Spiderman', 'Overwatch']\n"
     ]
    }
   ],
   "source": [
    "games= ['valorant','CSGO','apex legends','League','call of duty','Ghost of tsushima','Spiderman','overwatch']\n",
    "new_games= []\n",
    "for game in games:\n",
    "    new_games.append(game.title())\n",
    "print(f'Games:{games}')\n",
    "print(f'New games:{new_games}')\n",
    "\n",
    "\n",
    "    "
   ]
  },
  {
   "cell_type": "code",
   "execution_count": null,
   "id": "da9a6a73-122a-442a-b8ef-a1f45f1a07d5",
   "metadata": {},
   "outputs": [],
   "source": []
  }
 ],
 "metadata": {
  "kernelspec": {
   "display_name": "Python 3 (ipykernel)",
   "language": "python",
   "name": "python3"
  },
  "language_info": {
   "codemirror_mode": {
    "name": "ipython",
    "version": 3
   },
   "file_extension": ".py",
   "mimetype": "text/x-python",
   "name": "python",
   "nbconvert_exporter": "python",
   "pygments_lexer": "ipython3",
   "version": "3.12.4"
  }
 },
 "nbformat": 4,
 "nbformat_minor": 5
}

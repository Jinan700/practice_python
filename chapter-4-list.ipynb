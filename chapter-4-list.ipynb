{
 "cells": [
  {
   "cell_type": "code",
   "execution_count": 1,
   "id": "b80e11ea-d2ec-4c17-ac4f-51ccce666633",
   "metadata": {},
   "outputs": [
    {
     "data": {
      "text/plain": [
       "[10, 30, 40, 50]"
      ]
     },
     "execution_count": 1,
     "metadata": {},
     "output_type": "execute_result"
    }
   ],
   "source": [
    "nums = [10, 30, 40, 50]\n",
    "nums"
   ]
  },
  {
   "cell_type": "code",
   "execution_count": 5,
   "id": "c59e7036-a0e2-4b6b-b9f3-9c45454aa105",
   "metadata": {},
   "outputs": [
    {
     "name": "stdout",
     "output_type": "stream",
     "text": [
      "10\n",
      "30\n",
      "40\n",
      "50\n"
     ]
    }
   ],
   "source": [
    "for i in range(len(nums)):\n",
    "    print(nums[i])"
   ]
  },
  {
   "cell_type": "code",
   "execution_count": 7,
   "id": "9de95aee-c98a-4a01-9f94-32d7843fdcd5",
   "metadata": {},
   "outputs": [
    {
     "name": "stdout",
     "output_type": "stream",
     "text": [
      "10\n",
      "30\n",
      "40\n",
      "50\n"
     ]
    }
   ],
   "source": [
    "for num in nums:\n",
    "    print(num)"
   ]
  },
  {
   "cell_type": "code",
   "execution_count": 13,
   "id": "683a93c0-35e5-4185-b72f-534ea3859ee1",
   "metadata": {},
   "outputs": [
    {
     "name": "stdout",
     "output_type": "stream",
     "text": [
      "10\n",
      "for loop ended\n",
      "30\n",
      "for loop ended\n",
      "40\n",
      "for loop ended\n",
      "50\n",
      "for loop ended\n"
     ]
    }
   ],
   "source": [
    "for num in nums:\n",
    "    print(num)\n",
    "    print('for loop ended')"
   ]
  },
  {
   "cell_type": "code",
   "execution_count": 15,
   "id": "3c3ddde5-8323-4bd4-8e87-27f6abc1d044",
   "metadata": {},
   "outputs": [
    {
     "name": "stdout",
     "output_type": "stream",
     "text": [
      "10\n",
      "30\n",
      "40\n",
      "50\n",
      "for loop ended\n"
     ]
    }
   ],
   "source": [
    "for num in nums:\n",
    "    print(num)\n",
    "print('for loop ended')"
   ]
  },
  {
   "cell_type": "code",
   "execution_count": 19,
   "id": "69d80e4e-0861-4bef-8689-2a2efbcd9f41",
   "metadata": {},
   "outputs": [
    {
     "ename": "SyntaxError",
     "evalue": "expected ':' (2623732502.py, line 1)",
     "output_type": "error",
     "traceback": [
      "\u001b[1;36m  Cell \u001b[1;32mIn[19], line 1\u001b[1;36m\u001b[0m\n\u001b[1;33m    for num in nums\u001b[0m\n\u001b[1;37m                   ^\u001b[0m\n\u001b[1;31mSyntaxError\u001b[0m\u001b[1;31m:\u001b[0m expected ':'\n"
     ]
    }
   ],
   "source": [
    "for num in nums\n",
    "    print(num)"
   ]
  },
  {
   "cell_type": "code",
   "execution_count": 27,
   "id": "48fb5de7-6a20-41ee-b913-e8539a8cabc3",
   "metadata": {},
   "outputs": [],
   "source": [
    "#Create a list with nums from 1 to 200\n",
    "# nums = [1, 2, 3, 4, 5, 6...................................., 200]\n",
    "# Or\n"
   ]
  },
  {
   "cell_type": "code",
   "execution_count": 29,
   "id": "fd3d7965-b4c3-4582-9f89-b5c1ffed311b",
   "metadata": {},
   "outputs": [
    {
     "name": "stdout",
     "output_type": "stream",
     "text": [
      "[1, 2, 3, 4, 5, 6, 7, 8, 9, 10, 11, 12, 13, 14, 15, 16, 17, 18, 19, 20, 21, 22, 23, 24, 25, 26, 27, 28, 29, 30, 31, 32, 33, 34, 35, 36, 37, 38, 39, 40, 41, 42, 43, 44, 45, 46, 47, 48, 49, 50, 51, 52, 53, 54, 55, 56, 57, 58, 59, 60, 61, 62, 63, 64, 65, 66, 67, 68, 69, 70, 71, 72, 73, 74, 75, 76, 77, 78, 79, 80, 81, 82, 83, 84, 85, 86, 87, 88, 89, 90, 91, 92, 93, 94, 95, 96, 97, 98, 99, 100, 101, 102, 103, 104, 105, 106, 107, 108, 109, 110, 111, 112, 113, 114, 115, 116, 117, 118, 119, 120, 121, 122, 123, 124, 125, 126, 127, 128, 129, 130, 131, 132, 133, 134, 135, 136, 137, 138, 139, 140, 141, 142, 143, 144, 145, 146, 147, 148, 149, 150, 151, 152, 153, 154, 155, 156, 157, 158, 159, 160, 161, 162, 163, 164, 165, 166, 167, 168, 169, 170, 171, 172, 173, 174, 175, 176, 177, 178, 179, 180, 181, 182, 183, 184, 185, 186, 187, 188, 189, 190, 191, 192, 193, 194, 195, 196, 197, 198, 199, 200]\n"
     ]
    }
   ],
   "source": [
    "nums = list(range(1, 201))\n",
    "print(nums)"
   ]
  },
  {
   "cell_type": "code",
   "execution_count": 33,
   "id": "1adfd659-0126-4d76-a4b4-523b1ee870d5",
   "metadata": {},
   "outputs": [
    {
     "name": "stdout",
     "output_type": "stream",
     "text": [
      "[1, 3, 5, 7, 9, 11, 13, 15, 17, 19, 21, 23, 25, 27, 29, 31, 33, 35, 37, 39, 41, 43, 45, 47, 49, 51, 53, 55, 57, 59, 61, 63, 65, 67, 69, 71, 73, 75, 77, 79, 81, 83, 85, 87, 89, 91, 93, 95, 97, 99, 101, 103, 105, 107, 109, 111, 113, 115, 117, 119, 121, 123, 125, 127, 129, 131, 133, 135, 137, 139, 141, 143, 145, 147, 149, 151, 153, 155, 157, 159, 161, 163, 165, 167, 169, 171, 173, 175, 177, 179, 181, 183, 185, 187, 189, 191, 193, 195, 197, 199]\n"
     ]
    }
   ],
   "source": [
    "odd_nums = list(range(1, 201, 2))\n",
    "print(odd_nums)"
   ]
  },
  {
   "cell_type": "code",
   "execution_count": 35,
   "id": "37eafb7a-654a-483c-8aaa-e73d67ba62e8",
   "metadata": {},
   "outputs": [],
   "source": [
    "li_1 = []"
   ]
  },
  {
   "cell_type": "code",
   "execution_count": 37,
   "id": "c4543cae-65d8-43d0-9232-23a16b2d76dc",
   "metadata": {},
   "outputs": [
    {
     "data": {
      "text/plain": [
       "[20]"
      ]
     },
     "execution_count": 37,
     "metadata": {},
     "output_type": "execute_result"
    }
   ],
   "source": [
    "li_1.append(20)\n",
    "li_1"
   ]
  },
  {
   "cell_type": "code",
   "execution_count": 39,
   "id": "2fd813ef-22d7-4cb7-a832-c6cdcf8b04cf",
   "metadata": {},
   "outputs": [],
   "source": [
    "nums = [10, 20, 30, 40]"
   ]
  },
  {
   "cell_type": "code",
   "execution_count": 43,
   "id": "2dce7243-8f3f-4409-b8c6-3f3ae3be80f6",
   "metadata": {},
   "outputs": [
    {
     "name": "stdout",
     "output_type": "stream",
     "text": [
      "20\n",
      "40\n",
      "60\n",
      "80\n"
     ]
    }
   ],
   "source": [
    "# print each number by doubling - printing values one by one\n",
    "for n in nums:\n",
    "    r = n * 2\n",
    "    print(r)"
   ]
  },
  {
   "cell_type": "code",
   "execution_count": 53,
   "id": "ab4dfb60-798a-4fdf-8857-66bf64db10ec",
   "metadata": {},
   "outputs": [],
   "source": [
    "#print a new list of the squares from nums list values.\n",
    "sq_li = []\n",
    "for n in nums:\n",
    "    r = n ** 2\n",
    "    sq_li.append(r)"
   ]
  },
  {
   "cell_type": "code",
   "execution_count": 55,
   "id": "d2598b9f-18a2-47ae-9a0a-1920635b0fb7",
   "metadata": {},
   "outputs": [
    {
     "data": {
      "text/plain": [
       "[100, 400, 900, 1600]"
      ]
     },
     "execution_count": 55,
     "metadata": {},
     "output_type": "execute_result"
    }
   ],
   "source": [
    "sq_li"
   ]
  },
  {
   "cell_type": "markdown",
   "id": "363c42ad-7588-4669-a0df-7acfc5846f34",
   "metadata": {},
   "source": [
    "## Excercise"
   ]
  },
  {
   "cell_type": "code",
   "execution_count": 58,
   "id": "48b83ccc-06ab-4755-88fd-dc166fced793",
   "metadata": {},
   "outputs": [],
   "source": [
    "cars = [\"audi\", \"bmw\", \"toyota\"]\n",
    "# 1. how many cars in the cars list\n",
    "# 2. print each car name as uppercase format\n",
    "# 3. print a different list consist of title case elements from cars list\n",
    "# 4. print a new list. Elements are - the length of each car.\n",
    "# 5. print the cars list as temporarily sorted format (descending order)\n"
   ]
  },
  {
   "cell_type": "code",
   "execution_count": 62,
   "id": "5e48775d-a057-4d0c-bf28-065a57d9b9ae",
   "metadata": {},
   "outputs": [
    {
     "name": "stdout",
     "output_type": "stream",
     "text": [
      "3\n"
     ]
    }
   ],
   "source": [
    "#Task1\n",
    "total_cars= len(cars)\n",
    "print(total_cars)\n"
   ]
  },
  {
   "cell_type": "code",
   "execution_count": 66,
   "id": "eaab2bf1-fa52-4c0f-8657-50fe8ed9d59d",
   "metadata": {},
   "outputs": [
    {
     "name": "stdout",
     "output_type": "stream",
     "text": [
      "AUDI\n",
      "BMW\n",
      "TOYOTA\n"
     ]
    }
   ],
   "source": [
    "#Task2\n",
    "for car in cars:\n",
    "    print(car.upper())"
   ]
  },
  {
   "cell_type": "code",
   "execution_count": 80,
   "id": "d4239e3b-2eec-4ae1-8637-dff6da728596",
   "metadata": {},
   "outputs": [
    {
     "name": "stdout",
     "output_type": "stream",
     "text": [
      "['Audi', 'Bmw', 'Toyota']\n"
     ]
    }
   ],
   "source": [
    "#Task3\n",
    "cars_2=[]\n",
    "\n",
    "for car in cars:\n",
    "    r= car.title()\n",
    "    cars_2.append(r)\n",
    "\n",
    "print(cars_2)"
   ]
  },
  {
   "cell_type": "code",
   "execution_count": 82,
   "id": "8b28f95a-0bd7-4e10-a6c7-70532575e84e",
   "metadata": {},
   "outputs": [
    {
     "name": "stdout",
     "output_type": "stream",
     "text": [
      "[4, 3, 6]\n"
     ]
    }
   ],
   "source": [
    "#Task4\n",
    "cars_3=[]\n",
    "\n",
    "for car in cars:\n",
    "    r= len(car)\n",
    "    cars_3.append(r)\n",
    "\n",
    "print(cars_3)\n"
   ]
  },
  {
   "cell_type": "code",
   "execution_count": 86,
   "id": "fb411887-2de6-4e99-8c37-fa525ccd9be1",
   "metadata": {},
   "outputs": [
    {
     "name": "stdout",
     "output_type": "stream",
     "text": [
      "['toyota', 'bmw', 'audi']\n"
     ]
    }
   ],
   "source": [
    "#Task5\n",
    "temp_list= sorted(cars, reverse=True)\n",
    "print(temp_list)"
   ]
  },
  {
   "cell_type": "markdown",
   "id": "fdf75606-6d0f-4f1d-a2ec-4aa0262c0c61",
   "metadata": {},
   "source": [
    "## Slicing a List"
   ]
  },
  {
   "cell_type": "code",
   "execution_count": 89,
   "id": "114b07e9-e220-4e92-82a3-dcc144589a67",
   "metadata": {},
   "outputs": [],
   "source": [
    "players = ['charles', 'martina', 'michael', 'florence', 'eli']"
   ]
  },
  {
   "cell_type": "code",
   "execution_count": 103,
   "id": "f04efd7b-c54a-4df9-8195-2b7155ad9ca9",
   "metadata": {},
   "outputs": [
    {
     "data": {
      "text/plain": [
       "['charles', 'martina', 'michael']"
      ]
     },
     "execution_count": 103,
     "metadata": {},
     "output_type": "execute_result"
    }
   ],
   "source": [
    "players[0:3]"
   ]
  },
  {
   "cell_type": "code",
   "execution_count": 93,
   "id": "ea897a4e-9b83-4c83-b954-42b271b420be",
   "metadata": {},
   "outputs": [
    {
     "data": {
      "text/plain": [
       "['charles', 'martina', 'michael']"
      ]
     },
     "execution_count": 93,
     "metadata": {},
     "output_type": "execute_result"
    }
   ],
   "source": [
    "players[:3]"
   ]
  },
  {
   "cell_type": "code",
   "execution_count": 95,
   "id": "1bfb06a7-68c9-4247-ba03-6d496cef7037",
   "metadata": {},
   "outputs": [
    {
     "data": {
      "text/plain": [
       "['martina', 'michael', 'florence']"
      ]
     },
     "execution_count": 95,
     "metadata": {},
     "output_type": "execute_result"
    }
   ],
   "source": [
    "players[1:4]"
   ]
  },
  {
   "cell_type": "code",
   "execution_count": 97,
   "id": "c2aff6e7-d863-48d1-b3f1-692de40562b6",
   "metadata": {},
   "outputs": [
    {
     "data": {
      "text/plain": [
       "['florence', 'eli']"
      ]
     },
     "execution_count": 97,
     "metadata": {},
     "output_type": "execute_result"
    }
   ],
   "source": [
    "players[3:]"
   ]
  },
  {
   "cell_type": "code",
   "execution_count": 99,
   "id": "c3ff3180-2f10-4311-a993-454ac84f628c",
   "metadata": {},
   "outputs": [
    {
     "data": {
      "text/plain": [
       "['michael', 'florence', 'eli']"
      ]
     },
     "execution_count": 99,
     "metadata": {},
     "output_type": "execute_result"
    }
   ],
   "source": [
    "players[-3:]"
   ]
  },
  {
   "cell_type": "code",
   "execution_count": 101,
   "id": "e532ae7b-9b6d-4e4c-b0de-059ec3148acf",
   "metadata": {},
   "outputs": [
    {
     "data": {
      "text/plain": [
       "['martina', 'michael', 'florence']"
      ]
     },
     "execution_count": 101,
     "metadata": {},
     "output_type": "execute_result"
    }
   ],
   "source": [
    "players[-4:4]"
   ]
  },
  {
   "cell_type": "markdown",
   "id": "254d933e-8b67-40b6-a024-8fb6252345bb",
   "metadata": {},
   "source": [
    "# Copying a List"
   ]
  },
  {
   "cell_type": "code",
   "execution_count": 106,
   "id": "b92cc648-facb-49c9-ab93-8f6482c5a3f9",
   "metadata": {},
   "outputs": [],
   "source": [
    "players = ['charles', 'martina', 'michael', 'florence', 'eli']"
   ]
  },
  {
   "cell_type": "code",
   "execution_count": 108,
   "id": "33269704-5641-4364-9d43-7eb697149d6c",
   "metadata": {},
   "outputs": [
    {
     "data": {
      "text/plain": [
       "['charles', 'martina', 'michael', 'florence', 'eli']"
      ]
     },
     "execution_count": 108,
     "metadata": {},
     "output_type": "execute_result"
    }
   ],
   "source": [
    "players[:]"
   ]
  },
  {
   "cell_type": "code",
   "execution_count": 110,
   "id": "8e9b939f-98c7-4ff7-b840-dea6410a2404",
   "metadata": {},
   "outputs": [
    {
     "data": {
      "text/plain": [
       "['charles', 'martina', 'michael', 'florence', 'eli']"
      ]
     },
     "execution_count": 110,
     "metadata": {},
     "output_type": "execute_result"
    }
   ],
   "source": [
    "players"
   ]
  },
  {
   "cell_type": "code",
   "execution_count": 112,
   "id": "6fe2d83a-c7be-4127-a9dd-f79a1a940720",
   "metadata": {},
   "outputs": [
    {
     "name": "stdout",
     "output_type": "stream",
     "text": [
      "['charles', 'martina', 'michael', 'florence', 'eli']\n"
     ]
    }
   ],
   "source": [
    "new_players = players[:]\n",
    "print(new_players)"
   ]
  },
  {
   "cell_type": "code",
   "execution_count": 114,
   "id": "1d0daf5c-38ab-493f-a04a-12508a1b4f6b",
   "metadata": {},
   "outputs": [],
   "source": [
    "new_players.append(\"jinan\")"
   ]
  },
  {
   "cell_type": "code",
   "execution_count": 118,
   "id": "b0351ee0-7331-448a-bee1-5cfe82faab02",
   "metadata": {},
   "outputs": [
    {
     "name": "stdout",
     "output_type": "stream",
     "text": [
      "['charles', 'martina', 'michael', 'florence', 'eli', 'jinan']\n",
      "['charles', 'martina', 'michael', 'florence', 'eli']\n"
     ]
    }
   ],
   "source": [
    "print(new_players)\n",
    "print(players)"
   ]
  },
  {
   "cell_type": "code",
   "execution_count": 120,
   "id": "3cff185b-7f11-441a-8c06-f6bb4e3a0b48",
   "metadata": {},
   "outputs": [
    {
     "name": "stdout",
     "output_type": "stream",
     "text": [
      "['charles', 'martina', 'michael', 'florence', 'eli']\n"
     ]
    }
   ],
   "source": [
    "new_players = players\n",
    "print(new_players)"
   ]
  },
  {
   "cell_type": "code",
   "execution_count": 122,
   "id": "c29e4c46-98ab-4afb-ab35-5a61e7ef1524",
   "metadata": {},
   "outputs": [
    {
     "name": "stdout",
     "output_type": "stream",
     "text": [
      "['charles', 'martina', 'michael', 'florence', 'eli', 'jinan']\n",
      "['charles', 'martina', 'michael', 'florence', 'eli', 'jinan']\n"
     ]
    }
   ],
   "source": [
    "new_players.append(\"jinan\")\n",
    "\n",
    "print(new_players)\n",
    "print(players)"
   ]
  },
  {
   "cell_type": "code",
   "execution_count": 124,
   "id": "d5308d03-e345-4aba-bdbc-8c2304dd118e",
   "metadata": {},
   "outputs": [
    {
     "name": "stdout",
     "output_type": "stream",
     "text": [
      "[12, 15, 2, 3, 4, 7, 8, 41]\n",
      "[12, 15, 2, 3, 4, 7, 8, 41, 71]\n"
     ]
    }
   ],
   "source": [
    "nums=[12,15,2,3,4,7,8,41]\n",
    "new_nums= nums[:]\n",
    "new_nums.append(71)\n",
    "print(nums)\n",
    "print(new_nums)"
   ]
  },
  {
   "cell_type": "code",
   "execution_count": 126,
   "id": "5ee0e129-530c-481a-a2e5-18867e040dc3",
   "metadata": {},
   "outputs": [
    {
     "name": "stdout",
     "output_type": "stream",
     "text": [
      "[12, 15, 2, 3, 4, 7, 8, 41, 82]\n",
      "[12, 15, 2, 3, 4, 7, 8, 41, 82]\n"
     ]
    }
   ],
   "source": [
    "new_nums=nums\n",
    "new_nums.append(82)\n",
    "print(nums)\n",
    "print(new_nums)"
   ]
  },
  {
   "cell_type": "code",
   "execution_count": 138,
   "id": "c31af9f4-0a1b-4c55-89de-0ef67d5c3064",
   "metadata": {},
   "outputs": [
    {
     "name": "stdout",
     "output_type": "stream",
     "text": [
      "The first three items in the list are:[23, 34, 12]\n"
     ]
    }
   ],
   "source": [
    "list= [23,34,12,4,78,5,2,43,98]\n",
    "first_3_char= list[:3]\n",
    "print(f'The first three items in the list are:{first_3_char}')"
   ]
  },
  {
   "cell_type": "code",
   "execution_count": 140,
   "id": "1614c173-3571-48c8-8ce9-e670806ac780",
   "metadata": {},
   "outputs": [
    {
     "name": "stdout",
     "output_type": "stream",
     "text": [
      "Three items from the middle of the list are:[4, 78, 5]\n"
     ]
    }
   ],
   "source": [
    "mid_3_chars= list[3:6]\n",
    "print(f'Three items from the middle of the list are:{mid_3_chars}')"
   ]
  },
  {
   "cell_type": "code",
   "execution_count": 142,
   "id": "424486b4-8f5e-4a84-940e-f437fa19432d",
   "metadata": {},
   "outputs": [
    {
     "name": "stdout",
     "output_type": "stream",
     "text": [
      "The last three items in the list are:[2, 43, 98]\n"
     ]
    }
   ],
   "source": [
    "last_3_chars= list[-3:]\n",
    "print(f'The last three items in the list are:{last_3_chars}')"
   ]
  },
  {
   "cell_type": "code",
   "execution_count": null,
   "id": "69a0146e-b329-4fbd-b703-7f0bb8eb573c",
   "metadata": {},
   "outputs": [],
   "source": []
  }
 ],
 "metadata": {
  "kernelspec": {
   "display_name": "Python 3 (ipykernel)",
   "language": "python",
   "name": "python3"
  },
  "language_info": {
   "codemirror_mode": {
    "name": "ipython",
    "version": 3
   },
   "file_extension": ".py",
   "mimetype": "text/x-python",
   "name": "python",
   "nbconvert_exporter": "python",
   "pygments_lexer": "ipython3",
   "version": "3.12.4"
  }
 },
 "nbformat": 4,
 "nbformat_minor": 5
}
